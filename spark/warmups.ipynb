{
 "cells": [
  {
   "cell_type": "markdown",
   "metadata": {},
   "source": [
    "# Warmups"
   ]
  },
  {
   "cell_type": "markdown",
   "metadata": {},
   "source": [
    "## Classification 12/16"
   ]
  },
  {
   "cell_type": "code",
   "execution_count": 17,
   "metadata": {},
   "outputs": [],
   "source": [
    "from pydataset import data\n",
    "import matplotlib.pyplot as plt\n",
    "import pandas as pd\n",
    "from sklearn.model_selection import train_test_split\n",
    "from sklearn.neighbors import KNeighborsClassifier\n",
    "from sklearn.metrics import classification_report\n",
    "from sklearn.preprocessing import StandardScaler, MinMaxScaler\n",
    "import time"
   ]
  },
  {
   "cell_type": "code",
   "execution_count": 129,
   "metadata": {
    "collapsed": true
   },
   "outputs": [
    {
     "name": "stdout",
     "output_type": "stream",
     "text": [
      "voteincome\n",
      "\n",
      "PyDataset Documentation (adopted from R Documentation. The displayed examples are in R)\n",
      "\n",
      "## Sample Turnout and Demographic Data from the 2000 Current Population Survey\n",
      "\n",
      "### Description\n",
      "\n",
      "This data set contains turnout and demographic data from a sample of\n",
      "respondents to the 2000 Current Population Survey (CPS). The states\n",
      "represented are South Carolina and Arkansas. The data represent only a sample\n",
      "and results from this example should not be used in publication.\n",
      "\n",
      "### Usage\n",
      "\n",
      "    data(voteincome)\n",
      "\n",
      "### Format\n",
      "\n",
      "A data frame containing 7 variables (\"state\", \"year\", \"vote\", \"income\",\n",
      "\"education\", \"age\", \"female\") and 1500 observations.\n",
      "\n",
      "`state`\n",
      "\n",
      "a factor variable with levels equal to \"AR\" (Arkansas) and \"SC\" (South\n",
      "Carolina)\n",
      "\n",
      "`year`\n",
      "\n",
      "an integer vector\n",
      "\n",
      "`vote`\n",
      "\n",
      "an integer vector taking on values \"1\" (Voted) and \"0\" (Did Not Vote)\n",
      "\n",
      "`income`\n",
      "\n",
      "an integer vector ranging from \"4\" (Less than \\$5000) to \"17\" (Greater than\n",
      "\\$75000) denoting family income. See the CPS codebook for more information on\n",
      "variable coding\n",
      "\n",
      "`education`\n",
      "\n",
      "an integer vector ranging from \"1\" (Less than High School Education) to \"4\"\n",
      "(More than a College Education). See the CPS codebook for more information on\n",
      "variable coding\n",
      "\n",
      "`age`\n",
      "\n",
      "an integer vector ranging from \"18\" to \"85\"\n",
      "\n",
      "`female`\n",
      "\n",
      "an integer vector taking on values \"1\" (Female) and \"0\" (Male)\n",
      "\n",
      "### Source\n",
      "\n",
      "Census Bureau Current Population Survey\n",
      "\n",
      "### References\n",
      "\n",
      "http://www.census.gov/cps\n",
      "\n",
      "\n"
     ]
    }
   ],
   "source": [
    "data('voteincome', show_doc=True)"
   ]
  },
  {
   "cell_type": "code",
   "execution_count": 130,
   "metadata": {
    "scrolled": true
   },
   "outputs": [
    {
     "data": {
      "text/html": [
       "<div>\n",
       "<style scoped>\n",
       "    .dataframe tbody tr th:only-of-type {\n",
       "        vertical-align: middle;\n",
       "    }\n",
       "\n",
       "    .dataframe tbody tr th {\n",
       "        vertical-align: top;\n",
       "    }\n",
       "\n",
       "    .dataframe thead th {\n",
       "        text-align: right;\n",
       "    }\n",
       "</style>\n",
       "<table border=\"1\" class=\"dataframe\">\n",
       "  <thead>\n",
       "    <tr style=\"text-align: right;\">\n",
       "      <th></th>\n",
       "      <th>state</th>\n",
       "      <th>year</th>\n",
       "      <th>vote</th>\n",
       "      <th>income</th>\n",
       "      <th>education</th>\n",
       "      <th>age</th>\n",
       "      <th>female</th>\n",
       "    </tr>\n",
       "  </thead>\n",
       "  <tbody>\n",
       "    <tr>\n",
       "      <td>1</td>\n",
       "      <td>AR</td>\n",
       "      <td>2000</td>\n",
       "      <td>1</td>\n",
       "      <td>9</td>\n",
       "      <td>2</td>\n",
       "      <td>73</td>\n",
       "      <td>0</td>\n",
       "    </tr>\n",
       "    <tr>\n",
       "      <td>2</td>\n",
       "      <td>AR</td>\n",
       "      <td>2000</td>\n",
       "      <td>1</td>\n",
       "      <td>11</td>\n",
       "      <td>2</td>\n",
       "      <td>24</td>\n",
       "      <td>0</td>\n",
       "    </tr>\n",
       "    <tr>\n",
       "      <td>3</td>\n",
       "      <td>AR</td>\n",
       "      <td>2000</td>\n",
       "      <td>0</td>\n",
       "      <td>12</td>\n",
       "      <td>2</td>\n",
       "      <td>24</td>\n",
       "      <td>1</td>\n",
       "    </tr>\n",
       "    <tr>\n",
       "      <td>4</td>\n",
       "      <td>AR</td>\n",
       "      <td>2000</td>\n",
       "      <td>1</td>\n",
       "      <td>16</td>\n",
       "      <td>4</td>\n",
       "      <td>40</td>\n",
       "      <td>0</td>\n",
       "    </tr>\n",
       "    <tr>\n",
       "      <td>5</td>\n",
       "      <td>AR</td>\n",
       "      <td>2000</td>\n",
       "      <td>1</td>\n",
       "      <td>10</td>\n",
       "      <td>4</td>\n",
       "      <td>85</td>\n",
       "      <td>1</td>\n",
       "    </tr>\n",
       "  </tbody>\n",
       "</table>\n",
       "</div>"
      ],
      "text/plain": [
       "  state  year  vote  income  education  age  female\n",
       "1    AR  2000     1       9          2   73       0\n",
       "2    AR  2000     1      11          2   24       0\n",
       "3    AR  2000     0      12          2   24       1\n",
       "4    AR  2000     1      16          4   40       0\n",
       "5    AR  2000     1      10          4   85       1"
      ]
     },
     "execution_count": 130,
     "metadata": {},
     "output_type": "execute_result"
    }
   ],
   "source": [
    "df = data('voteincome')\n",
    "df.head()"
   ]
  },
  {
   "cell_type": "code",
   "execution_count": 131,
   "metadata": {},
   "outputs": [],
   "source": [
    "df.drop(columns=['state','year'], inplace = True)"
   ]
  },
  {
   "cell_type": "code",
   "execution_count": 132,
   "metadata": {},
   "outputs": [],
   "source": [
    "train, test = train_test_split(df, stratify = df.vote)\n",
    "x = df.drop(columns=['vote']).columns\n",
    "y = 'vote'"
   ]
  },
  {
   "cell_type": "code",
   "execution_count": 133,
   "metadata": {},
   "outputs": [
    {
     "data": {
      "text/plain": [
       "KNeighborsClassifier(algorithm='auto', leaf_size=30, metric='minkowski',\n",
       "                     metric_params=None, n_jobs=None, n_neighbors=1, p=2,\n",
       "                     weights='uniform')"
      ]
     },
     "execution_count": 133,
     "metadata": {},
     "output_type": "execute_result"
    }
   ],
   "source": [
    "knn = KNeighborsClassifier(n_neighbors=1)\n",
    "knn.fit(train[x], train[y])"
   ]
  },
  {
   "cell_type": "code",
   "execution_count": 134,
   "metadata": {},
   "outputs": [],
   "source": [
    "yhat = knn.predict(train[x])"
   ]
  },
  {
   "cell_type": "code",
   "execution_count": 135,
   "metadata": {},
   "outputs": [
    {
     "data": {
      "text/plain": [
       "0.9751111111111112"
      ]
     },
     "execution_count": 135,
     "metadata": {},
     "output_type": "execute_result"
    }
   ],
   "source": [
    "(train[y] == yhat).sum()/len(train[y])"
   ]
  },
  {
   "cell_type": "code",
   "execution_count": 136,
   "metadata": {},
   "outputs": [
    {
     "name": "stdout",
     "output_type": "stream",
     "text": [
      "              precision    recall  f1-score   support\n",
      "\n",
      "           0       0.97      0.86      0.91       163\n",
      "           1       0.98      0.99      0.99       962\n",
      "\n",
      "    accuracy                           0.98      1125\n",
      "   macro avg       0.97      0.93      0.95      1125\n",
      "weighted avg       0.97      0.98      0.97      1125\n",
      "\n"
     ]
    }
   ],
   "source": [
    "print(classification_report(train[y], yhat))"
   ]
  },
  {
   "cell_type": "code",
   "execution_count": 137,
   "metadata": {},
   "outputs": [
    {
     "data": {
      "text/plain": [
       "0.8773333333333333"
      ]
     },
     "execution_count": 137,
     "metadata": {},
     "output_type": "execute_result"
    }
   ],
   "source": [
    "yhat = knn.predict(test[x])\n",
    "(test[y] == yhat).sum()/len(test[y])"
   ]
  },
  {
   "cell_type": "code",
   "execution_count": 138,
   "metadata": {},
   "outputs": [
    {
     "name": "stdout",
     "output_type": "stream",
     "text": [
      "              precision    recall  f1-score   support\n",
      "\n",
      "           0       0.58      0.54      0.56        54\n",
      "           1       0.92      0.93      0.93       321\n",
      "\n",
      "    accuracy                           0.88       375\n",
      "   macro avg       0.75      0.74      0.74       375\n",
      "weighted avg       0.87      0.88      0.88       375\n",
      "\n"
     ]
    }
   ],
   "source": [
    "print(classification_report(test[y], yhat))"
   ]
  },
  {
   "cell_type": "markdown",
   "metadata": {},
   "source": [
    "###### Scaled Data"
   ]
  },
  {
   "cell_type": "code",
   "execution_count": 139,
   "metadata": {},
   "outputs": [
    {
     "data": {
      "text/html": [
       "<div>\n",
       "<style scoped>\n",
       "    .dataframe tbody tr th:only-of-type {\n",
       "        vertical-align: middle;\n",
       "    }\n",
       "\n",
       "    .dataframe tbody tr th {\n",
       "        vertical-align: top;\n",
       "    }\n",
       "\n",
       "    .dataframe thead th {\n",
       "        text-align: right;\n",
       "    }\n",
       "</style>\n",
       "<table border=\"1\" class=\"dataframe\">\n",
       "  <thead>\n",
       "    <tr style=\"text-align: right;\">\n",
       "      <th></th>\n",
       "      <th>income</th>\n",
       "      <th>education</th>\n",
       "      <th>age</th>\n",
       "      <th>female</th>\n",
       "      <th>index</th>\n",
       "      <th>vote</th>\n",
       "    </tr>\n",
       "  </thead>\n",
       "  <tbody>\n",
       "    <tr>\n",
       "      <td>0</td>\n",
       "      <td>-0.884952</td>\n",
       "      <td>-0.638144</td>\n",
       "      <td>1.359190</td>\n",
       "      <td>-1.126627</td>\n",
       "      <td>1</td>\n",
       "      <td>1</td>\n",
       "    </tr>\n",
       "    <tr>\n",
       "      <td>1</td>\n",
       "      <td>-0.374010</td>\n",
       "      <td>-0.638144</td>\n",
       "      <td>-1.446372</td>\n",
       "      <td>-1.126627</td>\n",
       "      <td>2</td>\n",
       "      <td>1</td>\n",
       "    </tr>\n",
       "    <tr>\n",
       "      <td>2</td>\n",
       "      <td>-0.118539</td>\n",
       "      <td>-0.638144</td>\n",
       "      <td>-1.446372</td>\n",
       "      <td>0.887605</td>\n",
       "      <td>3</td>\n",
       "      <td>0</td>\n",
       "    </tr>\n",
       "    <tr>\n",
       "      <td>3</td>\n",
       "      <td>0.903346</td>\n",
       "      <td>1.321356</td>\n",
       "      <td>-0.530270</td>\n",
       "      <td>-1.126627</td>\n",
       "      <td>4</td>\n",
       "      <td>1</td>\n",
       "    </tr>\n",
       "    <tr>\n",
       "      <td>4</td>\n",
       "      <td>-0.629481</td>\n",
       "      <td>1.321356</td>\n",
       "      <td>2.046266</td>\n",
       "      <td>0.887605</td>\n",
       "      <td>5</td>\n",
       "      <td>1</td>\n",
       "    </tr>\n",
       "    <tr>\n",
       "      <td>...</td>\n",
       "      <td>...</td>\n",
       "      <td>...</td>\n",
       "      <td>...</td>\n",
       "      <td>...</td>\n",
       "      <td>...</td>\n",
       "      <td>...</td>\n",
       "    </tr>\n",
       "    <tr>\n",
       "      <td>1495</td>\n",
       "      <td>1.158817</td>\n",
       "      <td>1.321356</td>\n",
       "      <td>0.214062</td>\n",
       "      <td>0.887605</td>\n",
       "      <td>1496</td>\n",
       "      <td>1</td>\n",
       "    </tr>\n",
       "    <tr>\n",
       "      <td>1496</td>\n",
       "      <td>-0.629481</td>\n",
       "      <td>-0.638144</td>\n",
       "      <td>-1.446372</td>\n",
       "      <td>-1.126627</td>\n",
       "      <td>1497</td>\n",
       "      <td>1</td>\n",
       "    </tr>\n",
       "    <tr>\n",
       "      <td>1497</td>\n",
       "      <td>-0.118539</td>\n",
       "      <td>0.341606</td>\n",
       "      <td>-0.186732</td>\n",
       "      <td>-1.126627</td>\n",
       "      <td>1498</td>\n",
       "      <td>1</td>\n",
       "    </tr>\n",
       "    <tr>\n",
       "      <td>1498</td>\n",
       "      <td>-0.118539</td>\n",
       "      <td>-1.617893</td>\n",
       "      <td>1.702728</td>\n",
       "      <td>0.887605</td>\n",
       "      <td>1499</td>\n",
       "      <td>0</td>\n",
       "    </tr>\n",
       "    <tr>\n",
       "      <td>1499</td>\n",
       "      <td>-0.884952</td>\n",
       "      <td>-1.617893</td>\n",
       "      <td>-0.759296</td>\n",
       "      <td>0.887605</td>\n",
       "      <td>1500</td>\n",
       "      <td>1</td>\n",
       "    </tr>\n",
       "  </tbody>\n",
       "</table>\n",
       "<p>1500 rows × 6 columns</p>\n",
       "</div>"
      ],
      "text/plain": [
       "        income  education       age    female  index  vote\n",
       "0    -0.884952  -0.638144  1.359190 -1.126627      1     1\n",
       "1    -0.374010  -0.638144 -1.446372 -1.126627      2     1\n",
       "2    -0.118539  -0.638144 -1.446372  0.887605      3     0\n",
       "3     0.903346   1.321356 -0.530270 -1.126627      4     1\n",
       "4    -0.629481   1.321356  2.046266  0.887605      5     1\n",
       "...        ...        ...       ...       ...    ...   ...\n",
       "1495  1.158817   1.321356  0.214062  0.887605   1496     1\n",
       "1496 -0.629481  -0.638144 -1.446372 -1.126627   1497     1\n",
       "1497 -0.118539   0.341606 -0.186732 -1.126627   1498     1\n",
       "1498 -0.118539  -1.617893  1.702728  0.887605   1499     0\n",
       "1499 -0.884952  -1.617893 -0.759296  0.887605   1500     1\n",
       "\n",
       "[1500 rows x 6 columns]"
      ]
     },
     "execution_count": 139,
     "metadata": {},
     "output_type": "execute_result"
    }
   ],
   "source": [
    "scaler = StandardScaler().fit(df[x])\n",
    "df_scaled = pd.DataFrame(scaler.transform(df[x]), columns=x).join(df[y].reset_index())\n",
    "df_scaled"
   ]
  },
  {
   "cell_type": "code",
   "execution_count": 140,
   "metadata": {},
   "outputs": [
    {
     "name": "stdout",
     "output_type": "stream",
     "text": [
      "              precision    recall  f1-score   support\n",
      "\n",
      "           0       0.96      0.91      0.93       163\n",
      "           1       0.99      0.99      0.99       962\n",
      "\n",
      "    accuracy                           0.98      1125\n",
      "   macro avg       0.97      0.95      0.96      1125\n",
      "weighted avg       0.98      0.98      0.98      1125\n",
      "\n"
     ]
    }
   ],
   "source": [
    "train, test = train_test_split(df_scaled, stratify = df_scaled.vote)\n",
    "knn = KNeighborsClassifier(n_neighbors=1)\n",
    "knn.fit(train[x], train[y])\n",
    "yhat = knn.predict(train[x])\n",
    "print(classification_report(train[y], yhat))"
   ]
  },
  {
   "cell_type": "code",
   "execution_count": 143,
   "metadata": {},
   "outputs": [
    {
     "name": "stdout",
     "output_type": "stream",
     "text": [
      "              precision    recall  f1-score   support\n",
      "\n",
      "           0       0.42      0.46      0.44        54\n",
      "           1       0.91      0.89      0.90       321\n",
      "\n",
      "    accuracy                           0.83       375\n",
      "   macro avg       0.67      0.68      0.67       375\n",
      "weighted avg       0.84      0.83      0.84       375\n",
      "\n"
     ]
    }
   ],
   "source": [
    "yhat = knn.predict(test[x])\n",
    "print(classification_report(test[y], yhat))"
   ]
  },
  {
   "cell_type": "code",
   "execution_count": 142,
   "metadata": {},
   "outputs": [
    {
     "data": {
      "text/plain": [
       "0.8553333333333333"
      ]
     },
     "execution_count": 142,
     "metadata": {},
     "output_type": "execute_result"
    }
   ],
   "source": [
    "df.vote.mean()"
   ]
  },
  {
   "cell_type": "code",
   "execution_count": 144,
   "metadata": {},
   "outputs": [],
   "source": [
    "from sklearn import __version__"
   ]
  },
  {
   "cell_type": "markdown",
   "metadata": {},
   "source": [
    "1/6/2020"
   ]
  },
  {
   "cell_type": "markdown",
   "metadata": {},
   "source": [
    "It's another day at the office at Big Research Co ™. You look up from your laptop and see a woman in a lab coat standing in front of your desk.\n",
    "\n",
    "\"I need some help\" she says. \"We lost some subjects from the trial.\"\n",
    "\n",
    "She notices a curious look on your face. \"Not like that, they just ran away. We didn't lock the doors soon enough.\"\n",
    "\n",
    "\"Anyway, there's probably like a 70%, no maybe 80%, no, let's say 90% chance that a given subject will stick around, and I need to run the study again with 10, or 20 subjects. We need to gather enough data on them to justify the cost, so I need you to figure out what are the probabilities are that at least half of them stick around, only 1 person leaves, and that all the subjects stay.\"\n",
    "\n",
    "She sees you start to form another question and cuts you off.\n",
    "\n",
    "\"Don't ask. You really don't want to know.\"\n",
    "\n",
    "- What probability distribution would you use to model the scenario outlined above?\n",
    "\n",
    "> **Binomial**\n",
    "\n",
    "- Calculate all the requested probabilities.\n",
    "\n",
    "- Use all the possible combinations of subject count and chance that a subject will stay in the study. For example, at first calculate the chance that at least half of the subjects stay in the study if there is a 70% that each subject sticks around, and there are 10 subjects, then the probability that only one person leaves, then the probability that all the subjects stay.\n",
    "\n",
    "- Bonus: visualize the requested probabilities."
   ]
  },
  {
   "cell_type": "markdown",
   "metadata": {},
   "source": [
    "<hr></hr>\n",
    "\n",
    "**10 subjects**"
   ]
  },
  {
   "cell_type": "code",
   "execution_count": 29,
   "metadata": {},
   "outputs": [
    {
     "name": "stdout",
     "output_type": "stream",
     "text": [
      " \n",
      "        With 10 subjects, 0.7 probability of each leaving\n",
      "        there is a 0.8497316674 chance that half the subjects will leave\n",
      "        there is a 0.12106082100000007 chance that only one subject will leave\n",
      "        there is a 0.02824752489999998 chance that no subject will leave\n",
      "        \n",
      "        \n",
      " \n",
      "        With 10 subjects, 0.8 probability of each leaving\n",
      "        there is a 0.9672065024000001 chance that half the subjects will leave\n",
      "        there is a 0.26843545600000035 chance that only one subject will leave\n",
      "        there is a 0.10737418240000005 chance that no subject will leave\n",
      "        \n",
      "        \n",
      " \n",
      "        With 10 subjects, 0.9 probability of each leaving\n",
      "        there is a 0.9983650626 chance that half the subjects will leave\n",
      "        there is a 0.38742048900000037 chance that only one subject will leave\n",
      "        there is a 0.34867844010000004 chance that no subject will leave\n",
      "        \n",
      "        \n",
      " \n",
      "        With 20 subjects, 0.7 probability of each leaving\n",
      "        there is a 0.9520381026686565 chance that half the subjects will leave\n",
      "        there is a 0.006839337111223874 chance that only one subject will leave\n",
      "        there is a 0.0007979226629761189 chance that no subject will leave\n",
      "        \n",
      "        \n",
      " \n",
      "        With 20 subjects, 0.8 probability of each leaving\n",
      "        there is a 0.997405172599326 chance that half the subjects will leave\n",
      "        there is a 0.05764607523034236 chance that only one subject will leave\n",
      "        there is a 0.011529215046068481 chance that no subject will leave\n",
      "        \n",
      "        \n",
      " \n",
      "        With 20 subjects, 0.9 probability of each leaving\n",
      "        there is a 0.999992849095979 chance that half the subjects will leave\n",
      "        there is a 0.27017034353459823 chance that only one subject will leave\n",
      "        there is a 0.12157665459056931 chance that no subject will leave\n",
      "        \n",
      "        \n"
     ]
    }
   ],
   "source": [
    "from scipy.stats import binom\n",
    "\n",
    "N = [10,20]\n",
    "P = [.7,.8,.9]\n",
    "for n in N:\n",
    "    for p in P:\n",
    "        dist = binom(n,p)\n",
    "        #half stick around\n",
    "        half = dist.sf(n/2)\n",
    "        #one leaves\n",
    "        one =  dist.pmf(n-1)\n",
    "        #none leave\n",
    "        none = dist.pmf(n)\n",
    "        print(f''' \n",
    "        With {n} subjects, {p} probability of each leaving\n",
    "        there is a {half} chance that half the subjects will leave\n",
    "        there is a {one} chance that only one subject will leave\n",
    "        there is a {none} chance that no subject will leave\n",
    "        \n",
    "        ''') "
   ]
  },
  {
   "cell_type": "code",
   "execution_count": 41,
   "metadata": {},
   "outputs": [
    {
     "data": {
      "text/html": [
       "<div>\n",
       "<style scoped>\n",
       "    .dataframe tbody tr th:only-of-type {\n",
       "        vertical-align: middle;\n",
       "    }\n",
       "\n",
       "    .dataframe tbody tr th {\n",
       "        vertical-align: top;\n",
       "    }\n",
       "\n",
       "    .dataframe thead th {\n",
       "        text-align: right;\n",
       "    }\n",
       "</style>\n",
       "<table border=\"1\" class=\"dataframe\">\n",
       "  <thead>\n",
       "    <tr style=\"text-align: right;\">\n",
       "      <th></th>\n",
       "      <th>p</th>\n",
       "      <th>n</th>\n",
       "      <th>half</th>\n",
       "      <th>one</th>\n",
       "      <th>none</th>\n",
       "    </tr>\n",
       "  </thead>\n",
       "  <tbody>\n",
       "    <tr>\n",
       "      <td>0</td>\n",
       "      <td>0.7</td>\n",
       "      <td>10</td>\n",
       "      <td>0.849732</td>\n",
       "      <td>0.121061</td>\n",
       "      <td>0.028248</td>\n",
       "    </tr>\n",
       "    <tr>\n",
       "      <td>1</td>\n",
       "      <td>0.8</td>\n",
       "      <td>10</td>\n",
       "      <td>0.967207</td>\n",
       "      <td>0.268435</td>\n",
       "      <td>0.107374</td>\n",
       "    </tr>\n",
       "    <tr>\n",
       "      <td>2</td>\n",
       "      <td>0.9</td>\n",
       "      <td>10</td>\n",
       "      <td>0.998365</td>\n",
       "      <td>0.387420</td>\n",
       "      <td>0.348678</td>\n",
       "    </tr>\n",
       "    <tr>\n",
       "      <td>3</td>\n",
       "      <td>0.7</td>\n",
       "      <td>20</td>\n",
       "      <td>0.952038</td>\n",
       "      <td>0.006839</td>\n",
       "      <td>0.000798</td>\n",
       "    </tr>\n",
       "    <tr>\n",
       "      <td>4</td>\n",
       "      <td>0.8</td>\n",
       "      <td>20</td>\n",
       "      <td>0.997405</td>\n",
       "      <td>0.057646</td>\n",
       "      <td>0.011529</td>\n",
       "    </tr>\n",
       "    <tr>\n",
       "      <td>5</td>\n",
       "      <td>0.9</td>\n",
       "      <td>20</td>\n",
       "      <td>0.999993</td>\n",
       "      <td>0.270170</td>\n",
       "      <td>0.121577</td>\n",
       "    </tr>\n",
       "  </tbody>\n",
       "</table>\n",
       "</div>"
      ],
      "text/plain": [
       "     p   n      half       one      none\n",
       "0  0.7  10  0.849732  0.121061  0.028248\n",
       "1  0.8  10  0.967207  0.268435  0.107374\n",
       "2  0.9  10  0.998365  0.387420  0.348678\n",
       "3  0.7  20  0.952038  0.006839  0.000798\n",
       "4  0.8  20  0.997405  0.057646  0.011529\n",
       "5  0.9  20  0.999993  0.270170  0.121577"
      ]
     },
     "execution_count": 41,
     "metadata": {},
     "output_type": "execute_result"
    }
   ],
   "source": [
    "probs = []\n",
    "N = [10,20]\n",
    "P = [.7,.8,.9]\n",
    "for n in N:\n",
    "    for p in P:\n",
    "        dist = binom(n,p)\n",
    "        #half stick around\n",
    "        half = dist.sf(n/2)\n",
    "        #one leaves\n",
    "        one =  dist.pmf(n-1)\n",
    "        #none leave\n",
    "        none = dist.pmf(n)\n",
    "        probs.append({'p' : p, 'n' : n, 'half' : half, 'one' : one, 'none' : none})\n",
    "        \n",
    "df = pd.DataFrame(probs)\n",
    "plt.bar()"
   ]
  },
  {
   "cell_type": "code",
   "execution_count": null,
   "metadata": {},
   "outputs": [],
   "source": []
  }
 ],
 "metadata": {
  "kernelspec": {
   "display_name": "Python 3",
   "language": "python",
   "name": "python3"
  },
  "language_info": {
   "codemirror_mode": {
    "name": "ipython",
    "version": 3
   },
   "file_extension": ".py",
   "mimetype": "text/x-python",
   "name": "python",
   "nbconvert_exporter": "python",
   "pygments_lexer": "ipython3",
   "version": "3.7.4"
  }
 },
 "nbformat": 4,
 "nbformat_minor": 2
}
