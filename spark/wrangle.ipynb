{
 "cells": [
  {
   "cell_type": "code",
   "execution_count": 1,
   "metadata": {},
   "outputs": [],
   "source": [
    "import pyspark \n",
    "spark = pyspark.sql.SparkSession.builder.getOrCreate()\n",
    "import pyspark.sql.functions as F"
   ]
  },
  {
   "cell_type": "markdown",
   "metadata": {},
   "source": [
    "# Data Acquisition\n",
    "**This exercises uses the case.csv, dept.csv, and source.csv files from the san antonio 311 call dataset.**\n",
    "\n",
    "Read the `case`, `department`, and `source` data into their own spark dataframes."
   ]
  },
  {
   "cell_type": "code",
   "execution_count": 2,
   "metadata": {},
   "outputs": [
    {
     "name": "stdout",
     "output_type": "stream",
     "text": [
      "-RECORD 0------------------------------------\n",
      " case_id              | 1014127332           \n",
      " case_opened_date     | 1/1/18 0:42          \n",
      " case_closed_date     | 1/1/18 12:29         \n",
      " SLA_due_date         | 9/26/20 0:42         \n",
      " case_late            | NO                   \n",
      " num_days_late        | -998.5087616000001   \n",
      " case_closed          | YES                  \n",
      " dept_division        | Field Operations     \n",
      " service_request_type | Stray Animal         \n",
      " SLA_days             | 999.0                \n",
      " case_status          | Closed               \n",
      " source_id            | svcCRMLS             \n",
      " request_address      | 2315  EL PASO ST,... \n",
      " council_district     | 5                    \n",
      "only showing top 1 row\n",
      "\n"
     ]
    }
   ],
   "source": [
    "case = spark.read.csv('case.csv', header = True)\n",
    "dept = spark.read.csv('dept.csv', header = True)\n",
    "source = spark.read.csv('source.csv', header = True)\n",
    "case.show(1, vertical = True)"
   ]
  },
  {
   "cell_type": "markdown",
   "metadata": {},
   "source": [
    "### 1) Let's see how writing to the local disk works in spark:\n",
    "\n",
    "- Write the code necessary to store the source data in both csv and json format, store these as sources_csv and sources_json"
   ]
  },
  {
   "cell_type": "code",
   "execution_count": 3,
   "metadata": {},
   "outputs": [],
   "source": [
    "# source.write.csv('sources_csv.csv')\n",
    "# source.write.json('sources_json.json')"
   ]
  },
  {
   "cell_type": "markdown",
   "metadata": {},
   "source": [
    "- Inspect your folder structure. What do you notice?"
   ]
  },
  {
   "cell_type": "markdown",
   "metadata": {},
   "source": [
    "> Well, it looks like it saves a bunch of random shit when all I asked for WAS A FUCKING CSV!"
   ]
  },
  {
   "cell_type": "markdown",
   "metadata": {},
   "source": [
    "- Inspect the data in your dataframes. Are the data types appropriate? Write the code necessary to cast the values to the appropriate types."
   ]
  },
  {
   "cell_type": "code",
   "execution_count": 4,
   "metadata": {},
   "outputs": [
    {
     "name": "stdout",
     "output_type": "stream",
     "text": [
      "-RECORD 0------------------------------------\n",
      " case_id              | 1014127332           \n",
      " case_opened_date     | 1/1/18 0:42          \n",
      " case_closed_date     | 1/1/18 12:29         \n",
      " SLA_due_date         | 9/26/20 0:42         \n",
      " case_late            | NO                   \n",
      " num_days_late        | -998.5087616000001   \n",
      " case_closed          | YES                  \n",
      " dept_division        | Field Operations     \n",
      " service_request_type | Stray Animal         \n",
      " SLA_days             | 999.0                \n",
      " case_status          | Closed               \n",
      " source_id            | svcCRMLS             \n",
      " request_address      | 2315  EL PASO ST,... \n",
      " council_district     | 5                    \n",
      "only showing top 1 row\n",
      "\n",
      "root\n",
      " |-- case_id: string (nullable = true)\n",
      " |-- case_opened_date: string (nullable = true)\n",
      " |-- case_closed_date: string (nullable = true)\n",
      " |-- SLA_due_date: string (nullable = true)\n",
      " |-- case_late: string (nullable = true)\n",
      " |-- num_days_late: string (nullable = true)\n",
      " |-- case_closed: string (nullable = true)\n",
      " |-- dept_division: string (nullable = true)\n",
      " |-- service_request_type: string (nullable = true)\n",
      " |-- SLA_days: string (nullable = true)\n",
      " |-- case_status: string (nullable = true)\n",
      " |-- source_id: string (nullable = true)\n",
      " |-- request_address: string (nullable = true)\n",
      " |-- council_district: string (nullable = true)\n",
      "\n"
     ]
    }
   ],
   "source": [
    "case.show(1, vertical = True)\n",
    "case.printSchema()"
   ]
  },
  {
   "cell_type": "code",
   "execution_count": 5,
   "metadata": {},
   "outputs": [
    {
     "name": "stdout",
     "output_type": "stream",
     "text": [
      "-RECORD 0------------------------------------\n",
      " case_id              | 1014127332           \n",
      " case_opened_date     | 2018-01-01 00:42:00  \n",
      " case_closed_date     | 2018-01-01 12:29:00  \n",
      " SLA_due_date         | 2020-09-01 00:42:00  \n",
      " case_late            | false                \n",
      " num_days_late        | -998.5088            \n",
      " case_closed          | YES                  \n",
      " dept_division        | Field Operations     \n",
      " service_request_type | Stray Animal         \n",
      " SLA_days             | 999.0                \n",
      " case_status          | null                 \n",
      " source_id            | svcCRMLS             \n",
      " request_address      | 2315  EL PASO ST,... \n",
      " council_district     | 5                    \n",
      "only showing top 1 row\n",
      "\n"
     ]
    }
   ],
   "source": [
    "case = (case.withColumn('case_late', case.case_late.cast('boolean'))\n",
    "            .withColumn('case_status', case.case_status.cast('boolean'))\n",
    "            .withColumn('num_days_late', case.num_days_late.cast('float'))\n",
    "            .withColumn('SLA_days', case.SLA_days.cast('float'))\n",
    "            .withColumn('case_opened_date', F.to_timestamp(case.case_opened_date, 'M/d/yy H:mm'))\n",
    "            .withColumn('case_closed_date', F.to_timestamp(case.case_closed_date, 'M/d/yy H:mm'))\n",
    "            .withColumn('SLA_due_date', F.to_timestamp(case.SLA_due_date, 'M/mm/yy H:mm'))\n",
    "       )\n",
    "case.show(1, vertical = True)"
   ]
  },
  {
   "cell_type": "code",
   "execution_count": 6,
   "metadata": {},
   "outputs": [
    {
     "name": "stdout",
     "output_type": "stream",
     "text": [
      "-RECORD 0---------------------------\n",
      " source_id       | 100137           \n",
      " source_username | Merlene Blodgett \n",
      "only showing top 1 row\n",
      "\n",
      "root\n",
      " |-- source_id: string (nullable = true)\n",
      " |-- source_username: string (nullable = true)\n",
      "\n"
     ]
    }
   ],
   "source": [
    "source.show(1, vertical = True)\n",
    "source.printSchema()"
   ]
  },
  {
   "cell_type": "code",
   "execution_count": 7,
   "metadata": {},
   "outputs": [
    {
     "name": "stdout",
     "output_type": "stream",
     "text": [
      "-RECORD 0----------------------------------\n",
      " dept_division          | 311 Call Center  \n",
      " dept_name              | Customer Service \n",
      " standardized_dept_name | Customer Service \n",
      " dept_subject_to_SLA    | YES              \n",
      "only showing top 1 row\n",
      "\n",
      "root\n",
      " |-- dept_division: string (nullable = true)\n",
      " |-- dept_name: string (nullable = true)\n",
      " |-- standardized_dept_name: string (nullable = true)\n",
      " |-- dept_subject_to_SLA: string (nullable = true)\n",
      "\n"
     ]
    }
   ],
   "source": [
    "dept.show(1, vertical = True)\n",
    "dept.printSchema()"
   ]
  },
  {
   "cell_type": "code",
   "execution_count": 8,
   "metadata": {},
   "outputs": [
    {
     "name": "stdout",
     "output_type": "stream",
     "text": [
      "root\n",
      " |-- dept_division: string (nullable = true)\n",
      " |-- dept_name: string (nullable = true)\n",
      " |-- standardized_dept_name: string (nullable = true)\n",
      " |-- dept_subject_to_SLA: boolean (nullable = true)\n",
      "\n"
     ]
    }
   ],
   "source": [
    "dept = dept.withColumn('dept_subject_to_SLA', dept.dept_subject_to_SLA.cast('boolean'))\n",
    "dept.printSchema()"
   ]
  },
  {
   "cell_type": "markdown",
   "metadata": {},
   "source": [
    "### 2) Explore\n",
    "\n",
    "- How old is the latest (in terms of days past SLA) currently open issue? How long has the oldest (in terms of days since opened) currently opened issue been open?"
   ]
  },
  {
   "cell_type": "code",
   "execution_count": 9,
   "metadata": {},
   "outputs": [
    {
     "name": "stdout",
     "output_type": "stream",
     "text": [
      "-RECORD 0------------------------------------\n",
      " case_id              | 1013225646           \n",
      " case_opened_date     | 2017-01-01 13:48:00  \n",
      " case_closed_date     | null                 \n",
      " SLA_due_date         | 2017-01-01 08:30:00  \n",
      " case_late            | true                 \n",
      " num_days_late        | 348.64584            \n",
      " case_closed          | NO                   \n",
      " dept_division        | Code Enforcement     \n",
      " service_request_type | No Address Posted    \n",
      " SLA_days             | 15.7786              \n",
      " case_status          | null                 \n",
      " source_id            | svcCRMSS             \n",
      " request_address      | 7299  SHADOW RIDG... \n",
      " council_district     | 6                    \n",
      " overdue_time         | 584                  \n",
      "only showing top 1 row\n",
      "\n"
     ]
    }
   ],
   "source": [
    "max_date = F.lit(case.select(F.max('case_closed_date')).head()[0])\n",
    "min_date = F.lit(case.select(F.max('case_opened_date')).head()[0])\n",
    "overdue_time = F.when(F.isnull('case_closed_date'), F.datediff(max_date, case.SLA_due_date))\\\n",
    "                .otherwise(F.datediff(case.case_closed_date  , case.SLA_due_date)).alias('overdue_time')\n",
    "case.select('*', overdue_time).where(overdue_time == F.lit(case.select(F.max(overdue_time)).head()[0])).show(1, vertical = True)"
   ]
  },
  {
   "cell_type": "code",
   "execution_count": 10,
   "metadata": {},
   "outputs": [
    {
     "name": "stdout",
     "output_type": "stream",
     "text": [
      "-RECORD 0------------------------------------\n",
      " case_id              | 1013225646           \n",
      " case_opened_date     | 2017-01-01 13:48:00  \n",
      " case_closed_date     | null                 \n",
      " SLA_due_date         | 2017-01-01 08:30:00  \n",
      " case_late            | true                 \n",
      " num_days_late        | 348.64584            \n",
      " case_closed          | NO                   \n",
      " dept_division        | Code Enforcement     \n",
      " service_request_type | No Address Posted    \n",
      " SLA_days             | 15.7786              \n",
      " case_status          | null                 \n",
      " source_id            | svcCRMSS             \n",
      " request_address      | 7299  SHADOW RIDG... \n",
      " council_district     | 6                    \n",
      " case_lifetime        | 584                  \n",
      "only showing top 1 row\n",
      "\n"
     ]
    }
   ],
   "source": [
    "opened_time = F.when(F.isnull('case_closed_date'), F.datediff(max_date, case.case_opened_date))\\\n",
    "               .otherwise(F.datediff('case_closed_date','case_opened_date')).alias('case_lifetime')\n",
    "case.select('*', opened_time).where(opened_time == F.lit(case.select(F.max(opened_time)).head()[0])).show(1, vertical = True)"
   ]
  },
  {
   "cell_type": "markdown",
   "metadata": {},
   "source": [
    "- How many Stray Animal cases are there?"
   ]
  },
  {
   "cell_type": "code",
   "execution_count": 11,
   "metadata": {},
   "outputs": [
    {
     "name": "stdout",
     "output_type": "stream",
     "text": [
      "+--------------------+-----+\n",
      "|service_request_type|count|\n",
      "+--------------------+-----+\n",
      "|Stray Animal        |26760|\n",
      "+--------------------+-----+\n",
      "\n"
     ]
    }
   ],
   "source": [
    "case.where(case.service_request_type.contains(F.lit('Stray'))).groupBy('service_request_type').count().show(100,truncate = False)"
   ]
  },
  {
   "cell_type": "markdown",
   "metadata": {},
   "source": [
    "- How many service requests that are assigned to the Field Operations department (dept_division) are not classified as \"Officer Standby\" request type (service_request_type)?"
   ]
  },
  {
   "cell_type": "code",
   "execution_count": 12,
   "metadata": {},
   "outputs": [
    {
     "name": "stdout",
     "output_type": "stream",
     "text": [
      "+--------------------+-----+\n",
      "|service_request_type|count|\n",
      "+--------------------+-----+\n",
      "|Animal Permits Re...| 3026|\n",
      "|Injured Animal(Cr...| 9633|\n",
      "|     Officer Standby| 3013|\n",
      "|Animal Bite(Non-C...| 4750|\n",
      "|        Stray Animal|26760|\n",
      "|Trapped/Confined ...|11354|\n",
      "|City Council Anim...|  365|\n",
      "|Aggressive Animal...|24882|\n",
      "|Animal Bite(Criti...|  708|\n",
      "|Public Nuisance(O...|10715|\n",
      "|Aggressive Animal...| 5266|\n",
      "|Animal Cruelty(Cr...| 3001|\n",
      "|Spay/Neuter Reque...|    1|\n",
      "|      Animal Neglect|13441|\n",
      "+--------------------+-----+\n",
      "\n"
     ]
    }
   ],
   "source": [
    "# case.groupBy('dept_division').count().show(100, truncate = False)\n",
    "case.where(case.dept_division == 'Field Operations').groupBy('service_request_type').count().show()"
   ]
  },
  {
   "cell_type": "markdown",
   "metadata": {},
   "source": [
    "- Convert the council_district column to a string column."
   ]
  },
  {
   "cell_type": "code",
   "execution_count": 13,
   "metadata": {},
   "outputs": [],
   "source": [
    "#Already did that"
   ]
  },
  {
   "cell_type": "markdown",
   "metadata": {},
   "source": [
    "- Extract the year from the case_closed_date column."
   ]
  },
  {
   "cell_type": "code",
   "execution_count": 14,
   "metadata": {},
   "outputs": [
    {
     "name": "stdout",
     "output_type": "stream",
     "text": [
      "+----------------------+\n",
      "|year(case_closed_date)|\n",
      "+----------------------+\n",
      "|                  2018|\n",
      "|                  2018|\n",
      "|                  2018|\n",
      "|                  2018|\n",
      "|                  2018|\n",
      "+----------------------+\n",
      "only showing top 5 rows\n",
      "\n"
     ]
    }
   ],
   "source": [
    "case.select(F.year('case_closed_date')).alias('closed_year').show(5)"
   ]
  },
  {
   "cell_type": "markdown",
   "metadata": {},
   "source": [
    "- Convert num_days_late from days to hours in new columns num_hours_late."
   ]
  },
  {
   "cell_type": "code",
   "execution_count": 15,
   "metadata": {},
   "outputs": [
    {
     "name": "stdout",
     "output_type": "stream",
     "text": [
      "+----------+\n",
      "|hours_late|\n",
      "+----------+\n",
      "| -23964.21|\n",
      "|  -48.3025|\n",
      "| -72.53611|\n",
      "|-360.27554|\n",
      "|  8.931944|\n",
      "+----------+\n",
      "only showing top 5 rows\n",
      "\n"
     ]
    }
   ],
   "source": [
    "case.select((case.num_days_late * 24).alias('hours_late')).show(5)"
   ]
  },
  {
   "cell_type": "markdown",
   "metadata": {},
   "source": [
    "- Join the case data with the source and department data."
   ]
  },
  {
   "cell_type": "code",
   "execution_count": 16,
   "metadata": {},
   "outputs": [
    {
     "name": "stdout",
     "output_type": "stream",
     "text": [
      "-RECORD 0--------------------------------------\n",
      " dept_division          | Field Operations     \n",
      " source_id              | svcCRMLS             \n",
      " case_id                | 1014127332           \n",
      " case_opened_date       | 2018-01-01 00:42:00  \n",
      " case_closed_date       | 2018-01-01 12:29:00  \n",
      " SLA_due_date           | 2020-09-01 00:42:00  \n",
      " case_late              | false                \n",
      " num_days_late          | -998.5088            \n",
      " case_closed            | YES                  \n",
      " service_request_type   | Stray Animal         \n",
      " SLA_days               | 999.0                \n",
      " case_status            | null                 \n",
      " request_address        | 2315  EL PASO ST,... \n",
      " council_district       | 5                    \n",
      " source_username        | svcCRMLS             \n",
      " dept_name              | Animal Care Services \n",
      " standardized_dept_name | Animal Care Services \n",
      " dept_subject_to_SLA    | true                 \n",
      "only showing top 1 row\n",
      "\n"
     ]
    }
   ],
   "source": [
    "df = case.join(source, on = 'source_id', how = 'inner').join(dept, on = 'dept_division')\n",
    "df.select('*').show(1, vertical = True)"
   ]
  },
  {
   "cell_type": "markdown",
   "metadata": {},
   "source": [
    "- Are there any cases that do not have a request source?"
   ]
  },
  {
   "cell_type": "code",
   "execution_count": 17,
   "metadata": {},
   "outputs": [
    {
     "name": "stdout",
     "output_type": "stream",
     "text": [
      "(0 rows)\n",
      "\n"
     ]
    }
   ],
   "source": [
    "df.where(F.isnull(df.source_id)|(df.source_id == '')).show(vertical=True)"
   ]
  },
  {
   "cell_type": "markdown",
   "metadata": {},
   "source": [
    "- What are the top 10 service request types in terms of number of requests?"
   ]
  },
  {
   "cell_type": "code",
   "execution_count": 18,
   "metadata": {},
   "outputs": [
    {
     "name": "stdout",
     "output_type": "stream",
     "text": [
      "+--------------------+-----+\n",
      "|service_request_type|count|\n",
      "+--------------------+-----+\n",
      "|           No Pickup|89210|\n",
      "|Overgrown Yard/Trash|66403|\n",
      "|        Bandit Signs|32968|\n",
      "|        Damaged Cart|31163|\n",
      "|Front Or Side Yar...|28920|\n",
      "|        Stray Animal|27361|\n",
      "|Aggressive Animal...|25492|\n",
      "|Cart Exchange Req...|22608|\n",
      "|Junk Vehicle On P...|21649|\n",
      "|     Pot Hole Repair|20827|\n",
      "+--------------------+-----+\n",
      "only showing top 10 rows\n",
      "\n"
     ]
    }
   ],
   "source": [
    "df.groupBy('service_request_type').count().sort(F.desc('count')).show(10)"
   ]
  },
  {
   "cell_type": "markdown",
   "metadata": {},
   "source": [
    "- What are the top 10 service request types in terms of average days late?"
   ]
  },
  {
   "cell_type": "code",
   "execution_count": 19,
   "metadata": {},
   "outputs": [
    {
     "name": "stdout",
     "output_type": "stream",
     "text": [
      "+--------------------+------------------+\n",
      "|service_request_type|     avg_days_late|\n",
      "+--------------------+------------------+\n",
      "|Traffic Signal Gr...|             292.8|\n",
      "|  Zoning: Junk Yards|211.47635135135135|\n",
      "|Donation Containe...|178.04516129032257|\n",
      "|Labeling for Used...|176.28571428571428|\n",
      "|Record Keeping of...|167.14285714285714|\n",
      "|Signage Requied f...|             163.5|\n",
      "|Zoning: Recycle Yard|163.24747474747474|\n",
      "|Storage of Used M...|           157.875|\n",
      "|License Requied U...|             140.0|\n",
      "|           Complaint|125.21570247933884|\n",
      "+--------------------+------------------+\n",
      "only showing top 10 rows\n",
      "\n"
     ]
    }
   ],
   "source": [
    "df.groupBy('service_request_type').agg(F.mean(overdue_time).alias('avg_days_late')).sort(F.desc('avg_days_late')).show(10)"
   ]
  },
  {
   "cell_type": "markdown",
   "metadata": {},
   "source": [
    "- Does number of days late depend on department?"
   ]
  },
  {
   "cell_type": "code",
   "execution_count": 20,
   "metadata": {},
   "outputs": [
    {
     "name": "stdout",
     "output_type": "stream",
     "text": [
      "+--------------------+------------------+\n",
      "|       dept_division|     avg_days_late|\n",
      "+--------------------+------------------+\n",
      "|Code Enforcement ...|163.24747474747474|\n",
      "|     311 Call Center|105.95015576323988|\n",
      "|        Reservations|              83.5|\n",
      "|Engineering Division|  81.1295633500358|\n",
      "|Director's Office...| 61.74856046065259|\n",
      "|               Shops| 31.65546218487395|\n",
      "|           Tree Crew| 19.79310344827586|\n",
      "|         Solid Waste|18.682598039215687|\n",
      "|              Trades|18.476262933657942|\n",
      "|Clean and Green N...|15.939024390243903|\n",
      "+--------------------+------------------+\n",
      "only showing top 10 rows\n",
      "\n"
     ]
    }
   ],
   "source": [
    "df.groupBy('dept_division').agg(F.mean(overdue_time).alias('avg_days_late')).sort(F.desc('avg_days_late')).show(10)"
   ]
  },
  {
   "cell_type": "markdown",
   "metadata": {},
   "source": [
    "- How do number of days late depend on department and request type?"
   ]
  },
  {
   "cell_type": "code",
   "execution_count": 21,
   "metadata": {},
   "outputs": [
    {
     "name": "stdout",
     "output_type": "stream",
     "text": [
      "+--------------------+--------------------+------------------+\n",
      "|       dept_division|service_request_type|     avg_days_late|\n",
      "+--------------------+--------------------+------------------+\n",
      "|             Signals|Traffic Signal Gr...|             292.8|\n",
      "|    Code Enforcement|  Zoning: Junk Yards|211.47635135135135|\n",
      "|    Code Enforcement|Donation Containe...|178.04516129032257|\n",
      "|Code Enforcement ...|Labeling for Used...|176.28571428571428|\n",
      "|Code Enforcement ...|Record Keeping of...|167.14285714285714|\n",
      "|Code Enforcement ...|Signage Requied f...|             163.5|\n",
      "|Code Enforcement ...|Zoning: Recycle Yard|163.24747474747474|\n",
      "|Code Enforcement ...|Storage of Used M...|           157.875|\n",
      "|Code Enforcement ...|        Bandit Signs|             149.6|\n",
      "|Code Enforcement ...|License Requied U...|             140.0|\n",
      "+--------------------+--------------------+------------------+\n",
      "only showing top 10 rows\n",
      "\n"
     ]
    }
   ],
   "source": [
    "df.groupBy('dept_division', 'service_request_type').agg(F.mean(overdue_time).alias('avg_days_late')).sort(F.desc('avg_days_late')).show(10)"
   ]
  }
 ],
 "metadata": {
  "kernelspec": {
   "display_name": "Python 3",
   "language": "python",
   "name": "python3"
  },
  "language_info": {
   "codemirror_mode": {
    "name": "ipython",
    "version": 3
   },
   "file_extension": ".py",
   "mimetype": "text/x-python",
   "name": "python",
   "nbconvert_exporter": "python",
   "pygments_lexer": "ipython3",
   "version": "3.7.4"
  }
 },
 "nbformat": 4,
 "nbformat_minor": 2
}
