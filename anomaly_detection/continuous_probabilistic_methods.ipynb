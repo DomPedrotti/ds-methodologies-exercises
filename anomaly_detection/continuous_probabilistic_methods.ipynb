{
 "cells": [
  {
   "cell_type": "code",
   "execution_count": 41,
   "metadata": {},
   "outputs": [],
   "source": [
    "import pandas as pd\n",
    "from pprint import pprint\n",
    "import matplotlib.pyplot as plt\n",
    "import seaborn as sns\n",
    "\n",
    "from scipy.stats import shapiro\n",
    "\n",
    "import warnings\n",
    "warnings.filterwarnings('ignore')\n",
    "\n",
    "%matplotlib inline"
   ]
  },
  {
   "cell_type": "markdown",
   "metadata": {},
   "source": [
    "### I) Define a function named *get_lower_and_upper_bounds* that has two arguments. The first argument is a pandas Series. The second argument is the multiplier, which should have a default argument of 1.5."
   ]
  },
  {
   "cell_type": "code",
   "execution_count": 2,
   "metadata": {},
   "outputs": [],
   "source": [
    "def get_lower_and_upper_bounds(series, method = 'iqr', multiplier = 1.5):\n",
    "    if method == 'iqr':\n",
    "        iqr_range = series.quantile(.75)-series.quantile(.25)\n",
    "        lower_bound = series.quantile(.25) - (iqr_range * multiplier)\n",
    "        upper_bound = series.quantile(.75) + (iqr_range * multiplier)\n",
    "    elif method == 'std':\n",
    "        sigma = series.std()\n",
    "        mu = series.mean()\n",
    "        lower_bound = mu - (sigma * multiplier)\n",
    "        upper_bound = mu + (sigma * multiplier)\n",
    "    return lower_bound,upper_bound"
   ]
  },
  {
   "cell_type": "markdown",
   "metadata": {},
   "source": [
    "1) Using lemonade.csv dataset and focusing on continuous variables:"
   ]
  },
  {
   "cell_type": "code",
   "execution_count": 3,
   "metadata": {},
   "outputs": [
    {
     "data": {
      "text/html": [
       "<div>\n",
       "<style scoped>\n",
       "    .dataframe tbody tr th:only-of-type {\n",
       "        vertical-align: middle;\n",
       "    }\n",
       "\n",
       "    .dataframe tbody tr th {\n",
       "        vertical-align: top;\n",
       "    }\n",
       "\n",
       "    .dataframe thead th {\n",
       "        text-align: right;\n",
       "    }\n",
       "</style>\n",
       "<table border=\"1\" class=\"dataframe\">\n",
       "  <thead>\n",
       "    <tr style=\"text-align: right;\">\n",
       "      <th></th>\n",
       "      <th>date</th>\n",
       "      <th>day</th>\n",
       "      <th>temperature</th>\n",
       "      <th>rainfall</th>\n",
       "      <th>flyers</th>\n",
       "      <th>price</th>\n",
       "      <th>sales</th>\n",
       "    </tr>\n",
       "  </thead>\n",
       "  <tbody>\n",
       "    <tr>\n",
       "      <th>0</th>\n",
       "      <td>2017-01-01</td>\n",
       "      <td>Sunday</td>\n",
       "      <td>27.0</td>\n",
       "      <td>2.00</td>\n",
       "      <td>15</td>\n",
       "      <td>0.5</td>\n",
       "      <td>10</td>\n",
       "    </tr>\n",
       "    <tr>\n",
       "      <th>1</th>\n",
       "      <td>2017-01-02</td>\n",
       "      <td>Monday</td>\n",
       "      <td>28.9</td>\n",
       "      <td>1.33</td>\n",
       "      <td>15</td>\n",
       "      <td>0.5</td>\n",
       "      <td>13</td>\n",
       "    </tr>\n",
       "    <tr>\n",
       "      <th>2</th>\n",
       "      <td>2017-01-03</td>\n",
       "      <td>Tuesday</td>\n",
       "      <td>34.5</td>\n",
       "      <td>1.33</td>\n",
       "      <td>27</td>\n",
       "      <td>0.5</td>\n",
       "      <td>15</td>\n",
       "    </tr>\n",
       "    <tr>\n",
       "      <th>3</th>\n",
       "      <td>2017-01-04</td>\n",
       "      <td>Wednesday</td>\n",
       "      <td>44.1</td>\n",
       "      <td>1.05</td>\n",
       "      <td>28</td>\n",
       "      <td>0.5</td>\n",
       "      <td>17</td>\n",
       "    </tr>\n",
       "    <tr>\n",
       "      <th>4</th>\n",
       "      <td>2017-01-05</td>\n",
       "      <td>Thursday</td>\n",
       "      <td>42.4</td>\n",
       "      <td>1.00</td>\n",
       "      <td>33</td>\n",
       "      <td>0.5</td>\n",
       "      <td>18</td>\n",
       "    </tr>\n",
       "  </tbody>\n",
       "</table>\n",
       "</div>"
      ],
      "text/plain": [
       "        date        day  temperature  rainfall  flyers  price  sales\n",
       "0 2017-01-01     Sunday         27.0      2.00      15    0.5     10\n",
       "1 2017-01-02     Monday         28.9      1.33      15    0.5     13\n",
       "2 2017-01-03    Tuesday         34.5      1.33      27    0.5     15\n",
       "3 2017-01-04  Wednesday         44.1      1.05      28    0.5     17\n",
       "4 2017-01-05   Thursday         42.4      1.00      33    0.5     18"
      ]
     },
     "execution_count": 3,
     "metadata": {},
     "output_type": "execute_result"
    }
   ],
   "source": [
    "lemon = pd.read_csv('lemonade.csv')\n",
    "lemon.columns = [col.lower() for col in lemon]\n",
    "lemon.date = pd.to_datetime(lemon.date)\n",
    "lemon.head()"
   ]
  },
  {
   "cell_type": "code",
   "execution_count": 43,
   "metadata": {
    "scrolled": false
   },
   "outputs": [
    {
     "data": {
      "image/png": "[encoded data removed]",
      "text/plain": [
       "<Figure size 432x288 with 1 Axes>"
      ]
     },
     "metadata": {
      "needs_background": "light"
     },
     "output_type": "display_data"
    },
    {
     "data": {
      "image/png": "[encoded data removed]",
      "text/plain": [
       "<Figure size 432x288 with 1 Axes>"
      ]
     },
     "metadata": {
      "needs_background": "light"
     },
     "output_type": "display_data"
    },
    {
     "data": {
      "image/png": "[encoded data removed]",
      "text/plain": [
       "<Figure size 432x288 with 1 Axes>"
      ]
     },
     "metadata": {
      "needs_background": "light"
     },
     "output_type": "display_data"
    },
    {
     "data": {
      "image/png": "[encoded data removed]",
      "text/plain": [
       "<Figure size 432x288 with 1 Axes>"
      ]
     },
     "metadata": {
      "needs_background": "light"
     },
     "output_type": "display_data"
    },
    {
     "data": {
      "image/png": "[encoded data removed]",
      "text/plain": [
       "<Figure size 432x288 with 1 Axes>"
      ]
     },
     "metadata": {
      "needs_background": "light"
     },
     "output_type": "display_data"
    }
   ],
   "source": [
    "for col in lemon.select_dtypes([float,int]).columns:\n",
    "    #plot data\n",
    "    plt.scatter(x = lemon.date, y = lemon[col])\n",
    "    \n",
    "    #plot upper and lower outlier bounds\n",
    "    low,high = get_lower_and_upper_bounds(lemon[col])\n",
    "    low2,high2 = get_lower_and_upper_bounds(lemon[col], multiplier=3)\n",
    "    plt.hlines(low, xmin= '2017-01-01', xmax='2017-12-31', linestyles=':', colors='orange')\n",
    "    plt.hlines(high, xmin= '2017-01-01', xmax='2017-12-31', linestyles=':', colors='orange')\n",
    "    plt.hlines(low2, xmin= '2017-01-01', xmax='2017-12-31', linestyles=':', colors='firebrick')\n",
    "    plt.hlines(high2, xmin= '2017-01-01', xmax='2017-12-31', linestyles=':', colors='firebrick')\n",
    "    \n",
    "    #make plot\n",
    "    plt.title(f'{col} over time')\n",
    "    plt.xticks(rotation = 45)\n",
    "    plt.show()"
   ]
  },
  {
   "cell_type": "markdown",
   "metadata": {},
   "source": [
    "- Use the IQR Range Rule and the upper and lower bounds to identify the lower outliers of each column of lemonade.csv, using the multiplier of 1.5. Do these lower outliers make sense?Which outliers should be kept?"
   ]
  },
  {
   "cell_type": "code",
   "execution_count": 5,
   "metadata": {},
   "outputs": [
    {
     "name": "stdout",
     "output_type": "stream",
     "text": [
      "temperature\n",
      "364    15.1\n",
      "Name: temperature, dtype: float64 \n",
      "\n",
      "rainfall\n",
      "Series([], Name: rainfall, dtype: float64) \n",
      "\n",
      "flyers\n",
      "324   -38\n",
      "Name: flyers, dtype: int64 \n",
      "\n",
      "price\n",
      "Series([], Name: price, dtype: float64) \n",
      "\n",
      "sales\n",
      "Series([], Name: sales, dtype: int64) \n",
      "\n"
     ]
    }
   ],
   "source": [
    "for col in lemon.select_dtypes([int,float]).columns:\n",
    "    lower,upper = get_lower_and_upper_bounds(lemon[col])\n",
    "    print(col)\n",
    "    print(lemon[col][(lemon[col] < lower)], '\\n')"
   ]
  },
  {
   "cell_type": "markdown",
   "metadata": {},
   "source": [
    "> low temperature may be valid, but negative value of fliers is an anomaly"
   ]
  },
  {
   "cell_type": "markdown",
   "metadata": {},
   "source": [
    "- Use the IQR Range Rule and the upper and lower bounds to identify the upper outliers of each column of lemonade.csv, using the multiplier of 1.5. Do these lower outliers make sense?Which outliers should be kept?"
   ]
  },
  {
   "cell_type": "code",
   "execution_count": 6,
   "metadata": {},
   "outputs": [
    {
     "name": "stdout",
     "output_type": "stream",
     "text": [
      "temperature\n",
      "41    212.0\n",
      "Name: temperature, dtype: float64 \n",
      "\n",
      "rainfall\n",
      "0      2.00\n",
      "1      1.33\n",
      "2      1.33\n",
      "5      1.54\n",
      "6      1.54\n",
      "10     1.54\n",
      "11     1.33\n",
      "12     1.33\n",
      "15     1.67\n",
      "16     1.43\n",
      "19     1.43\n",
      "23     1.54\n",
      "27     1.33\n",
      "28     1.33\n",
      "337    1.54\n",
      "338    1.82\n",
      "342    1.43\n",
      "343    1.82\n",
      "345    1.33\n",
      "346    1.43\n",
      "347    1.54\n",
      "350    1.33\n",
      "351    1.43\n",
      "354    1.33\n",
      "355    1.54\n",
      "359    1.43\n",
      "363    1.43\n",
      "364    2.50\n",
      "Name: rainfall, dtype: float64 \n",
      "\n",
      "flyers\n",
      "166    77\n",
      "194    80\n",
      "Name: flyers, dtype: int64 \n",
      "\n",
      "price\n",
      "Series([], Name: price, dtype: float64) \n",
      "\n",
      "sales\n",
      "183    235\n",
      "184    534\n",
      "185     99\n",
      "258     87\n",
      "Name: sales, dtype: int64 \n",
      "\n"
     ]
    }
   ],
   "source": [
    "for col in lemon.select_dtypes([int,float]).columns:\n",
    "    lower,upper = get_lower_and_upper_bounds(lemon[col])\n",
    "    print(col)\n",
    "    print(lemon[col][(lemon[col] > upper)], '\\n')"
   ]
  },
  {
   "cell_type": "markdown",
   "metadata": {},
   "source": [
    "> Temperature is definately an anomaly, sales probably are too, but I can't say for sure. Fliers and rainfall look like legit outliers"
   ]
  },
  {
   "cell_type": "markdown",
   "metadata": {},
   "source": [
    "- Using the multiplier of 3, IQR Range Rule, and the lower and upper bounds, identify the outliers below the lower bound in each colum of lemonade.csv. Do these lower outliers make sense?Which outliers should be kept?"
   ]
  },
  {
   "cell_type": "code",
   "execution_count": 7,
   "metadata": {},
   "outputs": [
    {
     "name": "stdout",
     "output_type": "stream",
     "text": [
      "temperature\n",
      "Series([], Name: temperature, dtype: float64) \n",
      "\n",
      "rainfall\n",
      "Series([], Name: rainfall, dtype: float64) \n",
      "\n",
      "flyers\n",
      "324   -38\n",
      "Name: flyers, dtype: int64 \n",
      "\n",
      "price\n",
      "Series([], Name: price, dtype: float64) \n",
      "\n",
      "sales\n",
      "Series([], Name: sales, dtype: int64) \n",
      "\n"
     ]
    }
   ],
   "source": [
    "for col in lemon.select_dtypes([int,float]).columns:\n",
    "    lower,upper = get_lower_and_upper_bounds(lemon[col], multiplier=3)\n",
    "    print(col)\n",
    "    print(lemon[col][(lemon[col] < lower)], '\\n')"
   ]
  },
  {
   "cell_type": "markdown",
   "metadata": {},
   "source": [
    "> same reaction, fliers are definitely anomolus"
   ]
  },
  {
   "cell_type": "markdown",
   "metadata": {},
   "source": [
    "- Using the multiplier of 3, IQR Range Rule, and the lower and upper bounds, identify the outliers above the upper_bound in each colum of lemonade.csv. Do these upper outliers make sense? Which outliers should be kept?"
   ]
  },
  {
   "cell_type": "code",
   "execution_count": 8,
   "metadata": {},
   "outputs": [
    {
     "name": "stdout",
     "output_type": "stream",
     "text": [
      "temperature\n",
      "41    212.0\n",
      "Name: temperature, dtype: float64 \n",
      "\n",
      "rainfall\n",
      "0      2.00\n",
      "338    1.82\n",
      "343    1.82\n",
      "364    2.50\n",
      "Name: rainfall, dtype: float64 \n",
      "\n",
      "flyers\n",
      "Series([], Name: flyers, dtype: int64) \n",
      "\n",
      "price\n",
      "Series([], Name: price, dtype: float64) \n",
      "\n",
      "sales\n",
      "183    235\n",
      "184    534\n",
      "185     99\n",
      "258     87\n",
      "Name: sales, dtype: int64 \n",
      "\n"
     ]
    }
   ],
   "source": [
    "for col in lemon.select_dtypes([int,float]).columns:\n",
    "    lower,upper = get_lower_and_upper_bounds(lemon[col], multiplier=3)\n",
    "    print(col)\n",
    "    print(lemon[col][(lemon[col] > upper)], '\\n')"
   ]
  },
  {
   "cell_type": "markdown",
   "metadata": {},
   "source": [
    "> Temperature is an anomoly"
   ]
  },
  {
   "cell_type": "markdown",
   "metadata": {},
   "source": [
    "2) Identify if any columns in lemonade.csv are normally distributed. For normally distributed columns:\n",
    "\n"
   ]
  },
  {
   "cell_type": "code",
   "execution_count": 9,
   "metadata": {
    "scrolled": true
   },
   "outputs": [
    {
     "data": {
      "image/png": "[encoded data removed]",
      "text/plain": [
       "<Figure size 432x288 with 1 Axes>"
      ]
     },
     "metadata": {
      "needs_background": "light"
     },
     "output_type": "display_data"
    },
    {
     "name": "stdout",
     "output_type": "stream",
     "text": [
      "p value: 1.8322809361339537e-13\n"
     ]
    },
    {
     "data": {
      "image/png": "[encoded data removed]",
      "text/plain": [
       "<Figure size 432x288 with 1 Axes>"
      ]
     },
     "metadata": {
      "needs_background": "light"
     },
     "output_type": "display_data"
    },
    {
     "name": "stdout",
     "output_type": "stream",
     "text": [
      "p value: 3.751794714290933e-18\n"
     ]
    },
    {
     "data": {
      "image/png": "[encoded data removed]",
      "text/plain": [
       "<Figure size 432x288 with 1 Axes>"
      ]
     },
     "metadata": {
      "needs_background": "light"
     },
     "output_type": "display_data"
    },
    {
     "name": "stdout",
     "output_type": "stream",
     "text": [
      "p value: 5.3233948165143374e-06\n"
     ]
    },
    {
     "data": {
      "image/png": "[encoded data removed]",
      "text/plain": [
       "<Figure size 432x288 with 1 Axes>"
      ]
     },
     "metadata": {
      "needs_background": "light"
     },
     "output_type": "display_data"
    },
    {
     "name": "stdout",
     "output_type": "stream",
     "text": [
      "p value: 1.0\n"
     ]
    },
    {
     "data": {
      "image/png": "[encoded data removed]",
      "text/plain": [
       "<Figure size 432x288 with 1 Axes>"
      ]
     },
     "metadata": {
      "needs_background": "light"
     },
     "output_type": "display_data"
    },
    {
     "name": "stdout",
     "output_type": "stream",
     "text": [
      "p value: 1.1644224338167397e-36\n"
     ]
    }
   ],
   "source": [
    "for col in lemon.select_dtypes([float,int]).columns:\n",
    "    plt.hist(lemon[col], bins = 25)        \n",
    "    plt.title(col)\n",
    "    plt.xticks(rotation = 45)\n",
    "    plt.show()\n",
    "    print(f'p value: {shapiro(lemon[col])[1]}')"
   ]
  },
  {
   "cell_type": "markdown",
   "metadata": {},
   "source": [
    "- Use a 2 sigma decision rule to isolate the outliers.\n",
    "    - Do these make sense?\n",
    "    - Should certain outliers be kept or removed?"
   ]
  },
  {
   "cell_type": "code",
   "execution_count": 10,
   "metadata": {},
   "outputs": [
    {
     "name": "stdout",
     "output_type": "stream",
     "text": [
      "temperature\n",
      "~low values~\n",
      "338    22.0\n",
      "364    15.1\n",
      "Name: temperature, dtype: float64\n",
      "~high values~\n",
      "41     212.0\n",
      "166     99.3\n",
      "176    102.6\n",
      "181    102.9\n",
      "190     98.0\n",
      "198     99.3\n",
      "202     99.6\n",
      "207     97.9\n",
      "Name: temperature, dtype: float64 \n",
      "\n",
      "rainfall\n",
      "~low values~\n",
      "Series([], Name: rainfall, dtype: float64)\n",
      "~high values~\n",
      "0      2.00\n",
      "5      1.54\n",
      "6      1.54\n",
      "10     1.54\n",
      "15     1.67\n",
      "16     1.43\n",
      "19     1.43\n",
      "23     1.54\n",
      "337    1.54\n",
      "338    1.82\n",
      "342    1.43\n",
      "343    1.82\n",
      "346    1.43\n",
      "347    1.54\n",
      "351    1.43\n",
      "355    1.54\n",
      "359    1.43\n",
      "363    1.43\n",
      "364    2.50\n",
      "Name: rainfall, dtype: float64 \n",
      "\n",
      "flyers\n",
      "~low values~\n",
      "324   -38\n",
      "338    11\n",
      "364     9\n",
      "Name: flyers, dtype: int64\n",
      "~high values~\n",
      "166    77\n",
      "170    70\n",
      "171    76\n",
      "182    68\n",
      "183    68\n",
      "194    80\n",
      "198    76\n",
      "203    72\n",
      "204    69\n",
      "207    74\n",
      "Name: flyers, dtype: int64 \n",
      "\n",
      "price\n",
      "not normally distributed\n",
      "\n",
      "sales\n",
      "~low values~\n",
      "Series([], Name: sales, dtype: int64)\n",
      "~high values~\n",
      "183    235\n",
      "184    534\n",
      "185     99\n",
      "Name: sales, dtype: int64 \n",
      "\n"
     ]
    }
   ],
   "source": [
    "for col in lemon.select_dtypes([int,float]).columns:\n",
    "    if shapiro(lemon[col])[1] < .05:\n",
    "        lower,upper = get_lower_and_upper_bounds(lemon[col], method='std' ,multiplier=2)\n",
    "        print(col)\n",
    "        print('~low values~')\n",
    "        print(lemon[col][(lemon[col] < lower)])\n",
    "        print('~high values~')\n",
    "        print(lemon[col][(lemon[col] > upper)], '\\n')\n",
    "    else:\n",
    "        print(col)\n",
    "        print('not normally distributed\\n')"
   ]
  },
  {
   "cell_type": "markdown",
   "metadata": {},
   "source": [
    "> My reactions have not changed"
   ]
  },
  {
   "cell_type": "code",
   "execution_count": 11,
   "metadata": {},
   "outputs": [
    {
     "name": "stdout",
     "output_type": "stream",
     "text": [
      "temperature\n",
      "~low values~\n",
      "Series([], Name: temperature, dtype: float64)\n",
      "~high values~\n",
      "41    212.0\n",
      "Name: temperature, dtype: float64 \n",
      "\n",
      "rainfall\n",
      "~low values~\n",
      "Series([], Name: rainfall, dtype: float64)\n",
      "~high values~\n",
      "0      2.00\n",
      "15     1.67\n",
      "338    1.82\n",
      "343    1.82\n",
      "364    2.50\n",
      "Name: rainfall, dtype: float64 \n",
      "\n",
      "flyers\n",
      "~low values~\n",
      "324   -38\n",
      "Name: flyers, dtype: int64\n",
      "~high values~\n",
      "Series([], Name: flyers, dtype: int64) \n",
      "\n",
      "price\n",
      "not normally distributed\n",
      "\n",
      "sales\n",
      "~low values~\n",
      "Series([], Name: sales, dtype: int64)\n",
      "~high values~\n",
      "183    235\n",
      "184    534\n",
      "Name: sales, dtype: int64 \n",
      "\n"
     ]
    }
   ],
   "source": [
    "for col in lemon.select_dtypes([int,float]).columns:\n",
    "    if shapiro(lemon[col])[1] < .05:\n",
    "        lower,upper = get_lower_and_upper_bounds(lemon[col], method='std' ,multiplier=3)\n",
    "        print(col)\n",
    "        print('~low values~')\n",
    "        print(lemon[col][(lemon[col] < lower)])\n",
    "        print('~high values~')\n",
    "        print(lemon[col][(lemon[col] > upper)], '\\n')\n",
    "    else:\n",
    "        print(col)\n",
    "        print('not normally distributed\\n')"
   ]
  },
  {
   "cell_type": "markdown",
   "metadata": {},
   "source": [
    "> Still caught the obvious outliers"
   ]
  },
  {
   "cell_type": "code",
   "execution_count": 12,
   "metadata": {},
   "outputs": [
    {
     "data": {
      "text/plain": [
       "(array([736330., 736361., 736389., 736420., 736450., 736481., 736511.,\n",
       "        736542., 736573., 736603., 736634., 736664.]),\n",
       " <a list of 12 Text xticklabel objects>)"
      ]
     },
     "execution_count": 12,
     "metadata": {},
     "output_type": "execute_result"
    },
    {
     "data": {
      "image/png": "[encoded data removed]",
      "text/plain": [
       "<Figure size 432x288 with 1 Axes>"
      ]
     },
     "metadata": {
      "needs_background": "light"
     },
     "output_type": "display_data"
    }
   ],
   "source": [
    "plt.scatter(y = lemon.sales, x = lemon.date)\n",
    "plt.yscale('log')\n",
    "plt.xlim(xmin = '2017-01-01', xmax = '2017-12-31')\n",
    "plt.xticks(rotation = 45)"
   ]
  },
  {
   "cell_type": "code",
   "execution_count": 13,
   "metadata": {},
   "outputs": [
    {
     "data": {
      "text/html": [
       "<div>\n",
       "<style scoped>\n",
       "    .dataframe tbody tr th:only-of-type {\n",
       "        vertical-align: middle;\n",
       "    }\n",
       "\n",
       "    .dataframe tbody tr th {\n",
       "        vertical-align: top;\n",
       "    }\n",
       "\n",
       "    .dataframe thead th {\n",
       "        text-align: right;\n",
       "    }\n",
       "</style>\n",
       "<table border=\"1\" class=\"dataframe\">\n",
       "  <thead>\n",
       "    <tr style=\"text-align: right;\">\n",
       "      <th></th>\n",
       "      <th>date</th>\n",
       "      <th>day</th>\n",
       "      <th>temperature</th>\n",
       "      <th>rainfall</th>\n",
       "      <th>flyers</th>\n",
       "      <th>price</th>\n",
       "      <th>sales</th>\n",
       "    </tr>\n",
       "  </thead>\n",
       "  <tbody>\n",
       "    <tr>\n",
       "      <th>183</th>\n",
       "      <td>2017-07-03</td>\n",
       "      <td>Monday</td>\n",
       "      <td>81.5</td>\n",
       "      <td>0.54</td>\n",
       "      <td>68</td>\n",
       "      <td>0.5</td>\n",
       "      <td>235</td>\n",
       "    </tr>\n",
       "    <tr>\n",
       "      <th>184</th>\n",
       "      <td>2017-07-04</td>\n",
       "      <td>Tuesday</td>\n",
       "      <td>84.2</td>\n",
       "      <td>0.59</td>\n",
       "      <td>49</td>\n",
       "      <td>0.5</td>\n",
       "      <td>534</td>\n",
       "    </tr>\n",
       "    <tr>\n",
       "      <th>185</th>\n",
       "      <td>2017-07-05</td>\n",
       "      <td>Wednesday</td>\n",
       "      <td>93.0</td>\n",
       "      <td>0.40</td>\n",
       "      <td>55</td>\n",
       "      <td>0.5</td>\n",
       "      <td>99</td>\n",
       "    </tr>\n",
       "    <tr>\n",
       "      <th>258</th>\n",
       "      <td>2017-09-16</td>\n",
       "      <td>Saturday</td>\n",
       "      <td>68.1</td>\n",
       "      <td>0.69</td>\n",
       "      <td>37</td>\n",
       "      <td>0.5</td>\n",
       "      <td>87</td>\n",
       "    </tr>\n",
       "  </tbody>\n",
       "</table>\n",
       "</div>"
      ],
      "text/plain": [
       "          date        day  temperature  rainfall  flyers  price  sales\n",
       "183 2017-07-03     Monday         81.5      0.54      68    0.5    235\n",
       "184 2017-07-04    Tuesday         84.2      0.59      49    0.5    534\n",
       "185 2017-07-05  Wednesday         93.0      0.40      55    0.5     99\n",
       "258 2017-09-16   Saturday         68.1      0.69      37    0.5     87"
      ]
     },
     "execution_count": 13,
     "metadata": {},
     "output_type": "execute_result"
    }
   ],
   "source": [
    "_, upper = get_lower_and_upper_bounds(lemon.sales)\n",
    "lemon[lemon.sales > upper]"
   ]
  },
  {
   "cell_type": "code",
   "execution_count": 14,
   "metadata": {},
   "outputs": [
    {
     "name": "stdout",
     "output_type": "stream",
     "text": [
      "2\n"
     ]
    }
   ],
   "source": [
    "for i in [2]:\n",
    "    print(i)"
   ]
  },
  {
   "cell_type": "code",
   "execution_count": 51,
   "metadata": {},
   "outputs": [
    {
     "data": {
      "text/plain": [
       "'temperature'"
      ]
     },
     "execution_count": 51,
     "metadata": {},
     "output_type": "execute_result"
    }
   ],
   "source": [
    "col = lemon.temperature\n",
    "col.name"
   ]
  },
  {
   "cell_type": "code",
   "execution_count": 52,
   "metadata": {},
   "outputs": [],
   "source": [
    "from continuous_probabilistic_methods import get_lower_and_upper_bounds, plot_columns"
   ]
  },
  {
   "cell_type": "code",
   "execution_count": 53,
   "metadata": {},
   "outputs": [
    {
     "data": {
      "text/plain": [
       "(34.0958190867927, 88.35349598170053)"
      ]
     },
     "execution_count": 53,
     "metadata": {},
     "output_type": "execute_result"
    }
   ],
   "source": [
    "get_lower_and_upper_bounds(col, 'std')"
   ]
  },
  {
   "cell_type": "code",
   "execution_count": 55,
   "metadata": {},
   "outputs": [
    {
     "data": {
      "image/png": "[encoded data removed]",
      "text/plain": [
       "<Figure size 432x288 with 1 Axes>"
      ]
     },
     "metadata": {
      "needs_background": "light"
     },
     "output_type": "display_data"
    }
   ],
   "source": [
    "plot_columns(col, outlier_method='std', multiplier=2)"
   ]
  },
  {
   "cell_type": "code",
   "execution_count": null,
   "metadata": {},
   "outputs": [],
   "source": []
  }
 ],
 "metadata": {
  "kernelspec": {
   "display_name": "Python 3",
   "language": "python",
   "name": "python3"
  },
  "language_info": {
   "codemirror_mode": {
    "name": "ipython",
    "version": 3
   },
   "file_extension": ".py",
   "mimetype": "text/x-python",
   "name": "python",
   "nbconvert_exporter": "python",
   "pygments_lexer": "ipython3",
   "version": "3.7.0"
  }
 },
 "nbformat": 4,
 "nbformat_minor": 2
}
