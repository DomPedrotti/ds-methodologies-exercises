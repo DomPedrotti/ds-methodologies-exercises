{
 "cells": [
  {
   "cell_type": "code",
   "execution_count": 1,
   "metadata": {},
   "outputs": [],
   "source": [
    "import pandas as pd\n",
    "import warnings\n",
    "warnings.filterwarnings('ignore')\n",
    "from requests import get\n",
    "from bs4 import BeautifulSoup\n",
    "import bs4\n",
    "import re"
   ]
  },
  {
   "cell_type": "markdown",
   "metadata": {},
   "source": [
    "## Beautiful Soup\n",
    "\n",
    "By the end of this exercise, you should have a file named `acquire.py` that contains the specified functions. If you wish, you may break your work into separate files for each website (e.g. `acquire_codeup_blog.py` and `acquire_news_articles.py`), but the end function should be present in `acquire.py` (that is, `acquire.py` should import `get_blog_articles` from the `acquire_codeup_blog` module.)"
   ]
  },
  {
   "cell_type": "markdown",
   "metadata": {},
   "source": [
    "1) Codeup Blog Articles\n",
    "\n",
    "Scrape the article text from the following pages: "
   ]
  },
  {
   "cell_type": "markdown",
   "metadata": {},
   "source": [
    "url: https://codeup.com/codeups-data-science-career-accelerator-is-here/"
   ]
  },
  {
   "cell_type": "code",
   "execution_count": 4,
   "metadata": {},
   "outputs": [],
   "source": [
    "url = 'https://codeup.com/codeups-data-science-career-accelerator-is-here/'\n",
    "headers = {'User-Agent': 'Codeup Bayes Data Science'}\n",
    "response = get(url,headers)"
   ]
  },
  {
   "cell_type": "code",
   "execution_count": 5,
   "metadata": {},
   "outputs": [
    {
     "data": {
      "text/plain": [
       "'<html>\\r\\n<head><title>403 Forbidden</title></head>\\r\\n<body bgcolor=\"white\">\\r\\n<center><h1>403 Forbidden</h1></center>\\r\\n<hr><center>nginx</center>\\r\\n</body>\\r\\n</html>\\r\\n'"
      ]
     },
     "execution_count": 5,
     "metadata": {},
     "output_type": "execute_result"
    }
   ],
   "source": [
    "response.text"
   ]
  },
  {
   "cell_type": "markdown",
   "metadata": {},
   "source": [
    "url: https://codeup.com/data-science-myths/"
   ]
  },
  {
   "cell_type": "code",
   "execution_count": 4,
   "metadata": {},
   "outputs": [],
   "source": [
    "url = 'https://codeup.com/data-science-myths/'\n",
    "response = get(url,headers)"
   ]
  },
  {
   "cell_type": "code",
   "execution_count": 5,
   "metadata": {},
   "outputs": [
    {
     "data": {
      "text/plain": [
       "'<html>\\r\\n<head><title>403 Forbidden</title></head>\\r\\n<body bgcolor=\"white\">\\r\\n<center><h1>403 Forbidden</h1></center>\\r\\n<hr><center>nginx</center>\\r\\n</body>\\r\\n</html>\\r\\n'"
      ]
     },
     "execution_count": 5,
     "metadata": {},
     "output_type": "execute_result"
    }
   ],
   "source": [
    "response.text"
   ]
  },
  {
   "cell_type": "markdown",
   "metadata": {},
   "source": [
    "url: https://codeup.com/data-science-vs-data-analytics-whats-the-difference/\n"
   ]
  },
  {
   "cell_type": "code",
   "execution_count": 6,
   "metadata": {},
   "outputs": [],
   "source": [
    "url = 'https://codeup.com/data-science-vs-data-analytics-whats-the-difference/'\n",
    "response = get(url,headers)"
   ]
  },
  {
   "cell_type": "code",
   "execution_count": 7,
   "metadata": {},
   "outputs": [
    {
     "data": {
      "text/plain": [
       "'<html>\\r\\n<head><title>403 Forbidden</title></head>\\r\\n<body bgcolor=\"white\">\\r\\n<center><h1>403 Forbidden</h1></center>\\r\\n<hr><center>nginx</center>\\r\\n</body>\\r\\n</html>\\r\\n'"
      ]
     },
     "execution_count": 7,
     "metadata": {},
     "output_type": "execute_result"
    }
   ],
   "source": [
    "response.text"
   ]
  },
  {
   "cell_type": "markdown",
   "metadata": {},
   "source": [
    "url: https://codeup.com/10-tips-to-crush-it-at-the-sa-tech-job-fair/\n"
   ]
  },
  {
   "cell_type": "code",
   "execution_count": 8,
   "metadata": {},
   "outputs": [],
   "source": [
    "url = 'https://codeup.com/10-tips-to-crush-it-at-the-sa-tech-job-fair/'\n",
    "response = get(url,headers)"
   ]
  },
  {
   "cell_type": "code",
   "execution_count": 9,
   "metadata": {},
   "outputs": [
    {
     "data": {
      "text/plain": [
       "'<html>\\r\\n<head><title>403 Forbidden</title></head>\\r\\n<body bgcolor=\"white\">\\r\\n<center><h1>403 Forbidden</h1></center>\\r\\n<hr><center>nginx</center>\\r\\n</body>\\r\\n</html>\\r\\n'"
      ]
     },
     "execution_count": 9,
     "metadata": {},
     "output_type": "execute_result"
    }
   ],
   "source": [
    "response.text"
   ]
  },
  {
   "cell_type": "markdown",
   "metadata": {},
   "source": [
    "url: https://codeup.com/competitor-bootcamps-are-closing-is-the-model-in-danger/\n"
   ]
  },
  {
   "cell_type": "code",
   "execution_count": 10,
   "metadata": {},
   "outputs": [],
   "source": [
    "url = 'https://codeup.com/competitor-bootcamps-are-closing-is-the-model-in-danger/'\n",
    "response = get(url,headers)"
   ]
  },
  {
   "cell_type": "code",
   "execution_count": 11,
   "metadata": {},
   "outputs": [
    {
     "data": {
      "text/plain": [
       "'<html>\\r\\n<head><title>403 Forbidden</title></head>\\r\\n<body bgcolor=\"white\">\\r\\n<center><h1>403 Forbidden</h1></center>\\r\\n<hr><center>nginx</center>\\r\\n</body>\\r\\n</html>\\r\\n'"
      ]
     },
     "execution_count": 11,
     "metadata": {},
     "output_type": "execute_result"
    }
   ],
   "source": [
    "response.text"
   ]
  },
  {
   "cell_type": "markdown",
   "metadata": {},
   "source": [
    "2) News Articles\n",
    "We will now be scraping text data from *inshorts*, a website that provides a brief overview of many different topics.\n",
    "https://inshorts.com/\n",
    "\n",
    "Write a function that scrapes the news articles for the following topics:"
   ]
  },
  {
   "cell_type": "code",
   "execution_count": 12,
   "metadata": {},
   "outputs": [
    {
     "data": {
      "text/html": [
       "<div>\n",
       "<style scoped>\n",
       "    .dataframe tbody tr th:only-of-type {\n",
       "        vertical-align: middle;\n",
       "    }\n",
       "\n",
       "    .dataframe tbody tr th {\n",
       "        vertical-align: top;\n",
       "    }\n",
       "\n",
       "    .dataframe thead th {\n",
       "        text-align: right;\n",
       "    }\n",
       "</style>\n",
       "<table border=\"1\" class=\"dataframe\">\n",
       "  <thead>\n",
       "    <tr style=\"text-align: right;\">\n",
       "      <th></th>\n",
       "      <th>title</th>\n",
       "      <th>content</th>\n",
       "      <th>category</th>\n",
       "    </tr>\n",
       "  </thead>\n",
       "  <tbody>\n",
       "  </tbody>\n",
       "</table>\n",
       "</div>"
      ],
      "text/plain": [
       "Empty DataFrame\n",
       "Columns: [title, content, category]\n",
       "Index: []"
      ]
     },
     "execution_count": 12,
     "metadata": {},
     "output_type": "execute_result"
    }
   ],
   "source": [
    "news = pd.DataFrame(columns=['title','content','category'])\n",
    "news"
   ]
  },
  {
   "cell_type": "markdown",
   "metadata": {},
   "source": [
    "- Business"
   ]
  },
  {
   "cell_type": "code",
   "execution_count": 13,
   "metadata": {},
   "outputs": [],
   "source": [
    "url = 'https://inshorts.com/en/read/business'\n",
    "response = get(url,headers)\n",
    "soup = BeautifulSoup(response.text)"
   ]
  },
  {
   "cell_type": "code",
   "execution_count": 14,
   "metadata": {},
   "outputs": [
    {
     "data": {
      "text/plain": [
       "'Online investment platform Groww crosses 40 lakh users'"
      ]
     },
     "execution_count": 14,
     "metadata": {},
     "output_type": "execute_result"
    }
   ],
   "source": [
    "headlines = soup.find_all('span', itemprop = 'headline')\n",
    "headlines = [x.get_text() for x in headlines]\n",
    "headlines[0]"
   ]
  },
  {
   "cell_type": "code",
   "execution_count": 15,
   "metadata": {},
   "outputs": [
    {
     "data": {
      "text/plain": [
       "'Launched in 2017, Groww aims to simplify investing by letting users open accounts and invest in any mutual fund instantly, through UPI or net banking. With 40 lakh users, Groww offers zero commission mutual funds and is launching stock investing soon. Groww has received net funding of $30mn, from investors like Mukesh Bansal, YC, Sequoia India, Ribbit Capital among others.'"
      ]
     },
     "execution_count": 15,
     "metadata": {},
     "output_type": "execute_result"
    }
   ],
   "source": [
    "content = soup.find_all('div', itemprop = 'articleBody')\n",
    "content = [x.get_text() for x in content]\n",
    "content[0]"
   ]
  },
  {
   "cell_type": "code",
   "execution_count": 16,
   "metadata": {},
   "outputs": [
    {
     "data": {
      "text/html": [
       "<div>\n",
       "<style scoped>\n",
       "    .dataframe tbody tr th:only-of-type {\n",
       "        vertical-align: middle;\n",
       "    }\n",
       "\n",
       "    .dataframe tbody tr th {\n",
       "        vertical-align: top;\n",
       "    }\n",
       "\n",
       "    .dataframe thead th {\n",
       "        text-align: right;\n",
       "    }\n",
       "</style>\n",
       "<table border=\"1\" class=\"dataframe\">\n",
       "  <thead>\n",
       "    <tr style=\"text-align: right;\">\n",
       "      <th></th>\n",
       "      <th>title</th>\n",
       "      <th>content</th>\n",
       "      <th>category</th>\n",
       "    </tr>\n",
       "  </thead>\n",
       "  <tbody>\n",
       "    <tr>\n",
       "      <th>0</th>\n",
       "      <td>Online investment platform Groww crosses 40 la...</td>\n",
       "      <td>Launched in 2017, Groww aims to simplify inves...</td>\n",
       "      <td>business</td>\n",
       "    </tr>\n",
       "    <tr>\n",
       "      <th>1</th>\n",
       "      <td>No better person than Pichai to lead Google &amp; ...</td>\n",
       "      <td>Google Co-founders Larry Page and Sergey Brin,...</td>\n",
       "      <td>business</td>\n",
       "    </tr>\n",
       "    <tr>\n",
       "      <th>2</th>\n",
       "      <td>This won't affect Alphabet structure: Pichai o...</td>\n",
       "      <td>On being appointed as Alphabet's CEO, Google C...</td>\n",
       "      <td>business</td>\n",
       "    </tr>\n",
       "    <tr>\n",
       "      <th>3</th>\n",
       "      <td>P Chidambaram walks out of Tihar Jail after 10...</td>\n",
       "      <td>Congress leader P Chidambaram walked out of Ti...</td>\n",
       "      <td>business</td>\n",
       "    </tr>\n",
       "    <tr>\n",
       "      <th>4</th>\n",
       "      <td>What peak is there now to climb: Harsha Bhogle...</td>\n",
       "      <td>Cricket commentator Harsha Bhogle took to Twit...</td>\n",
       "      <td>business</td>\n",
       "    </tr>\n",
       "  </tbody>\n",
       "</table>\n",
       "</div>"
      ],
      "text/plain": [
       "                                               title  \\\n",
       "0  Online investment platform Groww crosses 40 la...   \n",
       "1  No better person than Pichai to lead Google & ...   \n",
       "2  This won't affect Alphabet structure: Pichai o...   \n",
       "3  P Chidambaram walks out of Tihar Jail after 10...   \n",
       "4  What peak is there now to climb: Harsha Bhogle...   \n",
       "\n",
       "                                             content  category  \n",
       "0  Launched in 2017, Groww aims to simplify inves...  business  \n",
       "1  Google Co-founders Larry Page and Sergey Brin,...  business  \n",
       "2  On being appointed as Alphabet's CEO, Google C...  business  \n",
       "3  Congress leader P Chidambaram walked out of Ti...  business  \n",
       "4  Cricket commentator Harsha Bhogle took to Twit...  business  "
      ]
     },
     "execution_count": 16,
     "metadata": {},
     "output_type": "execute_result"
    }
   ],
   "source": [
    "business = pd.DataFrame(headlines, columns=['title'])\n",
    "business['content'] = content\n",
    "business['category'] = 'business'\n",
    "news = news.append(business, ignore_index=True)\n",
    "news.head()"
   ]
  },
  {
   "cell_type": "markdown",
   "metadata": {},
   "source": [
    "- Sports"
   ]
  },
  {
   "cell_type": "code",
   "execution_count": 17,
   "metadata": {},
   "outputs": [],
   "source": [
    "url = 'https://inshorts.com/en/read/sports'\n",
    "response = get(url,headers)\n",
    "soup = BeautifulSoup(response.text)"
   ]
  },
  {
   "cell_type": "code",
   "execution_count": 18,
   "metadata": {},
   "outputs": [],
   "source": [
    "headlines = soup.find_all('span', itemprop = 'headline')\n",
    "headlines = [x.get_text() for x in headlines]\n",
    "\n",
    "content = soup.find_all('div', itemprop = 'articleBody')\n",
    "content = [x.get_text() for x in content]\n",
    "\n",
    "sports = pd.DataFrame(headlines, columns=['title'])\n",
    "sports['content'] = content\n",
    "sports['category'] = 'sports'\n",
    "news = news.append(sports, ignore_index=True)"
   ]
  },
  {
   "cell_type": "markdown",
   "metadata": {},
   "source": [
    "- Technology"
   ]
  },
  {
   "cell_type": "code",
   "execution_count": 19,
   "metadata": {},
   "outputs": [],
   "source": [
    "url = 'https://inshorts.com/en/read/technology'\n",
    "response = get(url,headers)\n",
    "soup = BeautifulSoup(response.text)"
   ]
  },
  {
   "cell_type": "code",
   "execution_count": 20,
   "metadata": {},
   "outputs": [],
   "source": [
    "headlines = soup.find_all('span', itemprop = 'headline')\n",
    "headlines = [x.get_text() for x in headlines]\n",
    "\n",
    "content = soup.find_all('div', itemprop = 'articleBody')\n",
    "content = [x.get_text() for x in content]\n",
    "\n",
    "technology = pd.DataFrame(headlines, columns=['title'])\n",
    "technology['content'] = content\n",
    "technology['category'] = 'technology'\n",
    "news = news.append(technology, ignore_index=True)"
   ]
  },
  {
   "cell_type": "markdown",
   "metadata": {},
   "source": [
    "- Entertainment"
   ]
  },
  {
   "cell_type": "code",
   "execution_count": 21,
   "metadata": {},
   "outputs": [],
   "source": [
    "url = 'https://inshorts.com/en/read/entertainment'\n",
    "response = get(url,headers)\n",
    "soup = BeautifulSoup(response.text)"
   ]
  },
  {
   "cell_type": "code",
   "execution_count": 22,
   "metadata": {},
   "outputs": [],
   "source": [
    "headlines = soup.find_all('span', itemprop = 'headline')\n",
    "headlines = [x.get_text() for x in headlines]\n",
    "\n",
    "content = soup.find_all('div', itemprop = 'articleBody')\n",
    "content = [x.get_text() for x in content]\n",
    "\n",
    "entertainment = pd.DataFrame(headlines, columns=['title'])\n",
    "entertainment['content'] = content\n",
    "entertainment['category'] = 'entertainment'\n",
    "news = news.append(entertainment, ignore_index=True)"
   ]
  },
  {
   "cell_type": "code",
   "execution_count": 23,
   "metadata": {},
   "outputs": [
    {
     "data": {
      "text/plain": [
       "(100, 3)"
      ]
     },
     "execution_count": 23,
     "metadata": {},
     "output_type": "execute_result"
    }
   ],
   "source": [
    "news.shape"
   ]
  },
  {
   "cell_type": "code",
   "execution_count": 2,
   "metadata": {},
   "outputs": [
    {
     "data": {
      "text/html": [
       "<div>\n",
       "<style scoped>\n",
       "    .dataframe tbody tr th:only-of-type {\n",
       "        vertical-align: middle;\n",
       "    }\n",
       "\n",
       "    .dataframe tbody tr th {\n",
       "        vertical-align: top;\n",
       "    }\n",
       "\n",
       "    .dataframe thead th {\n",
       "        text-align: right;\n",
       "    }\n",
       "</style>\n",
       "<table border=\"1\" class=\"dataframe\">\n",
       "  <thead>\n",
       "    <tr style=\"text-align: right;\">\n",
       "      <th></th>\n",
       "      <th>category</th>\n",
       "      <th>content</th>\n",
       "      <th>title</th>\n",
       "    </tr>\n",
       "  </thead>\n",
       "  <tbody>\n",
       "    <tr>\n",
       "      <th>0</th>\n",
       "      <td>business</td>\n",
       "      <td>Launched in 2017, Groww aims to simplify inves...</td>\n",
       "      <td>Online investment platform Groww crosses 40 la...</td>\n",
       "    </tr>\n",
       "    <tr>\n",
       "      <th>1</th>\n",
       "      <td>business</td>\n",
       "      <td>Google Co-founders Larry Page and Sergey Brin,...</td>\n",
       "      <td>No better person than Pichai to lead Google &amp; ...</td>\n",
       "    </tr>\n",
       "    <tr>\n",
       "      <th>2</th>\n",
       "      <td>business</td>\n",
       "      <td>On being appointed as Alphabet's CEO, Google C...</td>\n",
       "      <td>This won't affect Alphabet structure: Pichai o...</td>\n",
       "    </tr>\n",
       "    <tr>\n",
       "      <th>3</th>\n",
       "      <td>business</td>\n",
       "      <td>Congress leader P Chidambaram walked out of Ti...</td>\n",
       "      <td>P Chidambaram walks out of Tihar Jail after 10...</td>\n",
       "    </tr>\n",
       "    <tr>\n",
       "      <th>4</th>\n",
       "      <td>business</td>\n",
       "      <td>Cricket commentator Harsha Bhogle took to Twit...</td>\n",
       "      <td>What peak is there now to climb: Harsha Bhogle...</td>\n",
       "    </tr>\n",
       "    <tr>\n",
       "      <th>5</th>\n",
       "      <td>business</td>\n",
       "      <td>Paytm Founder and CEO Vijay Shekhar Sharma con...</td>\n",
       "      <td>Every founder dreams of teammate like you: Pay...</td>\n",
       "    </tr>\n",
       "    <tr>\n",
       "      <th>6</th>\n",
       "      <td>business</td>\n",
       "      <td>Madurai-born Alphabet CEO Sundar Pichai, an al...</td>\n",
       "      <td>What is the life journey of Sundar Pichai, CEO...</td>\n",
       "    </tr>\n",
       "    <tr>\n",
       "      <th>7</th>\n",
       "      <td>business</td>\n",
       "      <td>Mahindra Group Chairman Anand Mahindra congrat...</td>\n",
       "      <td>India's most robust export product: Mahindra c...</td>\n",
       "    </tr>\n",
       "    <tr>\n",
       "      <th>8</th>\n",
       "      <td>business</td>\n",
       "      <td>Video game 'League of Legends' maker Riot Game...</td>\n",
       "      <td>'League of Legends' game maker to settle gende...</td>\n",
       "    </tr>\n",
       "    <tr>\n",
       "      <th>9</th>\n",
       "      <td>business</td>\n",
       "      <td>Former Google India head and current Managing ...</td>\n",
       "      <td>Incredibly proud: Rajan Anandan on Google CEO ...</td>\n",
       "    </tr>\n",
       "    <tr>\n",
       "      <th>10</th>\n",
       "      <td>business</td>\n",
       "      <td>The Central Drugs Standard Control Organisatio...</td>\n",
       "      <td>Centre asks states to halt online sales of med...</td>\n",
       "    </tr>\n",
       "    <tr>\n",
       "      <th>11</th>\n",
       "      <td>business</td>\n",
       "      <td>The Finance Ministers of several states met Un...</td>\n",
       "      <td>Feel embarrassed to ask, govt must pay: States...</td>\n",
       "    </tr>\n",
       "    <tr>\n",
       "      <th>12</th>\n",
       "      <td>business</td>\n",
       "      <td>Pakistani property tycoon Malik Riaz Hussain h...</td>\n",
       "      <td>Pakistani property tycoon hands over ₹1,770 cr...</td>\n",
       "    </tr>\n",
       "    <tr>\n",
       "      <th>13</th>\n",
       "      <td>business</td>\n",
       "      <td>The Union Cabinet on Wednesday approved the la...</td>\n",
       "      <td>India to launch 1st debt exchange-traded fund ...</td>\n",
       "    </tr>\n",
       "    <tr>\n",
       "      <th>14</th>\n",
       "      <td>business</td>\n",
       "      <td>Airtel has said it would raise up to ₹21,500 c...</td>\n",
       "      <td>Airtel to raise up to ₹21,500 crore after SC r...</td>\n",
       "    </tr>\n",
       "    <tr>\n",
       "      <th>15</th>\n",
       "      <td>business</td>\n",
       "      <td>Vistara Chief Commercial Officer Sanjiv Kapoor...</td>\n",
       "      <td>Our crew are human too: Vistara after user pos...</td>\n",
       "    </tr>\n",
       "    <tr>\n",
       "      <th>16</th>\n",
       "      <td>business</td>\n",
       "      <td>The Initial Public Offering of Ujjivan Small F...</td>\n",
       "      <td>Ujjivan Small Finance Bank IPO becomes 2019's ...</td>\n",
       "    </tr>\n",
       "    <tr>\n",
       "      <th>17</th>\n",
       "      <td>business</td>\n",
       "      <td>Rohan Murty, the son of Infosys Co-founder Nar...</td>\n",
       "      <td>Infosys Co-founder Narayana Murthy's son Rohan...</td>\n",
       "    </tr>\n",
       "    <tr>\n",
       "      <th>18</th>\n",
       "      <td>business</td>\n",
       "      <td>Reliance Jio on Wednesday unveiled new prepaid...</td>\n",
       "      <td>Jio to hike tariffs by up to 39% from December...</td>\n",
       "    </tr>\n",
       "    <tr>\n",
       "      <th>19</th>\n",
       "      <td>business</td>\n",
       "      <td>Over 92,000 employees of BSNL and MTNL have op...</td>\n",
       "      <td>Over 92,000 BSNL, MTNL employees opted for VRS...</td>\n",
       "    </tr>\n",
       "    <tr>\n",
       "      <th>20</th>\n",
       "      <td>business</td>\n",
       "      <td>State Bank of India will cut its stake in mutu...</td>\n",
       "      <td>SBI to cut 8% stake in UTI mutual fund through...</td>\n",
       "    </tr>\n",
       "    <tr>\n",
       "      <th>21</th>\n",
       "      <td>business</td>\n",
       "      <td>Hyundai Motor is planning to invest about $51....</td>\n",
       "      <td>Hyundai Motor unveils plan to invest $52 bn ov...</td>\n",
       "    </tr>\n",
       "    <tr>\n",
       "      <th>22</th>\n",
       "      <td>business</td>\n",
       "      <td>The government is planning to revise its rule ...</td>\n",
       "      <td>Govt may ease foreign control rule to aid Air ...</td>\n",
       "    </tr>\n",
       "    <tr>\n",
       "      <th>23</th>\n",
       "      <td>business</td>\n",
       "      <td>Saudi Aramco's institutional tranche for its I...</td>\n",
       "      <td>Saudi Aramco IPO institutional tranche nearly ...</td>\n",
       "    </tr>\n",
       "    <tr>\n",
       "      <th>24</th>\n",
       "      <td>business</td>\n",
       "      <td>Shares of Kerala-based CSB Bank listed at 41% ...</td>\n",
       "      <td>CSB Bank share lists at 41% premium to issue p...</td>\n",
       "    </tr>\n",
       "    <tr>\n",
       "      <th>25</th>\n",
       "      <td>sports</td>\n",
       "      <td>Team India captain Virat Kohli has reclaimed t...</td>\n",
       "      <td>Latest Test rankings out, Virat Kohli reclaims...</td>\n",
       "    </tr>\n",
       "    <tr>\n",
       "      <th>26</th>\n",
       "      <td>sports</td>\n",
       "      <td>On December 4, 2009, Virender Sehwag was dismi...</td>\n",
       "      <td>Sehwag fell short by 7 runs to become 1st play...</td>\n",
       "    </tr>\n",
       "    <tr>\n",
       "      <th>27</th>\n",
       "      <td>sports</td>\n",
       "      <td>Pakistan Railways dismissed Dera Ismail Khan f...</td>\n",
       "      <td>Team once took 20 wkts for 59 after hitting 91...</td>\n",
       "    </tr>\n",
       "    <tr>\n",
       "      <th>28</th>\n",
       "      <td>sports</td>\n",
       "      <td>Former Indian cricketer Ajit Agarkar scored on...</td>\n",
       "      <td>Agarkar scored only 1 ton in int'l cricket, it...</td>\n",
       "    </tr>\n",
       "    <tr>\n",
       "      <th>29</th>\n",
       "      <td>sports</td>\n",
       "      <td>Legend Don Bradman smashed 185 runs to help Au...</td>\n",
       "      <td>Bradman once hit 185 in 1 innings, India score...</td>\n",
       "    </tr>\n",
       "    <tr>\n",
       "      <th>...</th>\n",
       "      <td>...</td>\n",
       "      <td>...</td>\n",
       "      <td>...</td>\n",
       "    </tr>\n",
       "    <tr>\n",
       "      <th>70</th>\n",
       "      <td>technology</td>\n",
       "      <td>Customers will soon be able to withdraw cash t...</td>\n",
       "      <td>Customers will soon be able to withdraw cash u...</td>\n",
       "    </tr>\n",
       "    <tr>\n",
       "      <th>71</th>\n",
       "      <td>technology</td>\n",
       "      <td>Instagram users will now be able to see 'Like'...</td>\n",
       "      <td>New browser extension makes hidden Instagram l...</td>\n",
       "    </tr>\n",
       "    <tr>\n",
       "      <th>72</th>\n",
       "      <td>technology</td>\n",
       "      <td>Microsoft's computer vision app for the blind ...</td>\n",
       "      <td>Microsoft app that lets the blind identify pho...</td>\n",
       "    </tr>\n",
       "    <tr>\n",
       "      <th>73</th>\n",
       "      <td>technology</td>\n",
       "      <td>Online community platform LocalCircles has urg...</td>\n",
       "      <td>IT panel urged to look out for child safety on...</td>\n",
       "    </tr>\n",
       "    <tr>\n",
       "      <th>74</th>\n",
       "      <td>technology</td>\n",
       "      <td>India has ranked 73rd out of 152 countries lis...</td>\n",
       "      <td>India ranks 73rd in UN index assessing e-comme...</td>\n",
       "    </tr>\n",
       "    <tr>\n",
       "      <th>75</th>\n",
       "      <td>entertainment</td>\n",
       "      <td>Expressing her anger over the gangrape and mur...</td>\n",
       "      <td>India no country for women: Anoushka Shankar o...</td>\n",
       "    </tr>\n",
       "    <tr>\n",
       "      <th>76</th>\n",
       "      <td>entertainment</td>\n",
       "      <td>In an interaction with former pornstar Brittni...</td>\n",
       "      <td>I said no to a Playboy shoot, I can't get nake...</td>\n",
       "    </tr>\n",
       "    <tr>\n",
       "      <th>77</th>\n",
       "      <td>entertainment</td>\n",
       "      <td>A video of an all-girls choir from Bengaluru s...</td>\n",
       "      <td>Bengaluru schoolgirls sing Imagine Dragons' 'B...</td>\n",
       "    </tr>\n",
       "    <tr>\n",
       "      <th>78</th>\n",
       "      <td>entertainment</td>\n",
       "      <td>Himesh Reshammiya has replaced Anu Malik as In...</td>\n",
       "      <td>Himesh replaces Anu as judge on Indian Idol 11...</td>\n",
       "    </tr>\n",
       "    <tr>\n",
       "      <th>79</th>\n",
       "      <td>entertainment</td>\n",
       "      <td>'Game of Thrones' actor Jason Momoa criticised...</td>\n",
       "      <td>GoT actor Jason criticises Chris Pratt for usi...</td>\n",
       "    </tr>\n",
       "    <tr>\n",
       "      <th>80</th>\n",
       "      <td>entertainment</td>\n",
       "      <td>Speaking about the growing age gap between Bol...</td>\n",
       "      <td>If I was 50, I would feel odd romancing a 22-y...</td>\n",
       "    </tr>\n",
       "    <tr>\n",
       "      <th>81</th>\n",
       "      <td>entertainment</td>\n",
       "      <td>The Churchgate Government Railway Police has a...</td>\n",
       "      <td>Man stalks, assaults TV actress and ex-Splitsv...</td>\n",
       "    </tr>\n",
       "    <tr>\n",
       "      <th>82</th>\n",
       "      <td>entertainment</td>\n",
       "      <td>Actor Randeep Hooda dislocated his patella whi...</td>\n",
       "      <td>Randeep Hooda dislocates knee during stunt, ca...</td>\n",
       "    </tr>\n",
       "    <tr>\n",
       "      <th>83</th>\n",
       "      <td>entertainment</td>\n",
       "      <td>'Deadpool' actor Ryan Reynolds has said India ...</td>\n",
       "      <td>India is one of the best cinema industries in ...</td>\n",
       "    </tr>\n",
       "    <tr>\n",
       "      <th>84</th>\n",
       "      <td>entertainment</td>\n",
       "      <td>Akshay Kumar has said he works with debutant d...</td>\n",
       "      <td>I work with new directors because big director...</td>\n",
       "    </tr>\n",
       "    <tr>\n",
       "      <th>85</th>\n",
       "      <td>entertainment</td>\n",
       "      <td>When asked about 53-year-old Salman Khan roman...</td>\n",
       "      <td>Ask him only: Sonakshi when asked about Salman...</td>\n",
       "    </tr>\n",
       "    <tr>\n",
       "      <th>86</th>\n",
       "      <td>entertainment</td>\n",
       "      <td>American singer Jason Derulo has revealed that...</td>\n",
       "      <td>I've underwear on: Jason Derulo after Instagra...</td>\n",
       "    </tr>\n",
       "    <tr>\n",
       "      <th>87</th>\n",
       "      <td>entertainment</td>\n",
       "      <td>Actress Bhumi Pednekar in an interview to Zoom...</td>\n",
       "      <td>I stalk Priyanka Chopra on social media, I thi...</td>\n",
       "    </tr>\n",
       "    <tr>\n",
       "      <th>88</th>\n",
       "      <td>entertainment</td>\n",
       "      <td>Actor Riteish Deshmukh has been accused of ava...</td>\n",
       "      <td>Riteish accused of availing loan waiver meant ...</td>\n",
       "    </tr>\n",
       "    <tr>\n",
       "      <th>89</th>\n",
       "      <td>entertainment</td>\n",
       "      <td>Daniel Shravan, a filmmaker, has been criticis...</td>\n",
       "      <td>Filmmaker says 'women should carry condoms, co...</td>\n",
       "    </tr>\n",
       "    <tr>\n",
       "      <th>90</th>\n",
       "      <td>entertainment</td>\n",
       "      <td>Speaking about their 23-year age gap, Leonardo...</td>\n",
       "      <td>People should date who they want to: DiCaprio'...</td>\n",
       "    </tr>\n",
       "    <tr>\n",
       "      <th>91</th>\n",
       "      <td>entertainment</td>\n",
       "      <td>Talking about his choices of doing social dram...</td>\n",
       "      <td>Don't take films so seriously: Akshay on socia...</td>\n",
       "    </tr>\n",
       "    <tr>\n",
       "      <th>92</th>\n",
       "      <td>entertainment</td>\n",
       "      <td>Actor Asha Parekh revealed in an interview tha...</td>\n",
       "      <td>I loved a married director but didn't want to ...</td>\n",
       "    </tr>\n",
       "    <tr>\n",
       "      <th>93</th>\n",
       "      <td>entertainment</td>\n",
       "      <td>South Korean actor Cha In-Ha, aged 27, was fou...</td>\n",
       "      <td>27-yr-old S Korean actor Cha In-Ha found dead ...</td>\n",
       "    </tr>\n",
       "    <tr>\n",
       "      <th>94</th>\n",
       "      <td>entertainment</td>\n",
       "      <td>Actor Pankaj Tripathi has said that no matter ...</td>\n",
       "      <td>Will never do child abuse scene, no matter wha...</td>\n",
       "    </tr>\n",
       "    <tr>\n",
       "      <th>95</th>\n",
       "      <td>entertainment</td>\n",
       "      <td>Martin Scorsese's directorial 'The Irishman' h...</td>\n",
       "      <td>De Niro defends Anna Paquin's 7 words of dialo...</td>\n",
       "    </tr>\n",
       "    <tr>\n",
       "      <th>96</th>\n",
       "      <td>entertainment</td>\n",
       "      <td>Talking about working with 'Love Aaj Kal 2' di...</td>\n",
       "      <td>Imtiaz Ali has changed my acting process, pers...</td>\n",
       "    </tr>\n",
       "    <tr>\n",
       "      <th>97</th>\n",
       "      <td>entertainment</td>\n",
       "      <td>Miss World 2017 Manushi Chhillar has decided t...</td>\n",
       "      <td>Manushi Chhillar to promote AIDS awareness amo...</td>\n",
       "    </tr>\n",
       "    <tr>\n",
       "      <th>98</th>\n",
       "      <td>entertainment</td>\n",
       "      <td>Kriti Sanon has said that her character in her...</td>\n",
       "      <td>It's a great comparison: Kriti on comparison w...</td>\n",
       "    </tr>\n",
       "    <tr>\n",
       "      <th>99</th>\n",
       "      <td>entertainment</td>\n",
       "      <td>Deepika Padukone has said that she continues t...</td>\n",
       "      <td>I've to feel butterflies in my stomach: Deepik...</td>\n",
       "    </tr>\n",
       "  </tbody>\n",
       "</table>\n",
       "<p>100 rows × 3 columns</p>\n",
       "</div>"
      ],
      "text/plain": [
       "         category                                            content  \\\n",
       "0        business  Launched in 2017, Groww aims to simplify inves...   \n",
       "1        business  Google Co-founders Larry Page and Sergey Brin,...   \n",
       "2        business  On being appointed as Alphabet's CEO, Google C...   \n",
       "3        business  Congress leader P Chidambaram walked out of Ti...   \n",
       "4        business  Cricket commentator Harsha Bhogle took to Twit...   \n",
       "5        business  Paytm Founder and CEO Vijay Shekhar Sharma con...   \n",
       "6        business  Madurai-born Alphabet CEO Sundar Pichai, an al...   \n",
       "7        business  Mahindra Group Chairman Anand Mahindra congrat...   \n",
       "8        business  Video game 'League of Legends' maker Riot Game...   \n",
       "9        business  Former Google India head and current Managing ...   \n",
       "10       business  The Central Drugs Standard Control Organisatio...   \n",
       "11       business  The Finance Ministers of several states met Un...   \n",
       "12       business  Pakistani property tycoon Malik Riaz Hussain h...   \n",
       "13       business  The Union Cabinet on Wednesday approved the la...   \n",
       "14       business  Airtel has said it would raise up to ₹21,500 c...   \n",
       "15       business  Vistara Chief Commercial Officer Sanjiv Kapoor...   \n",
       "16       business  The Initial Public Offering of Ujjivan Small F...   \n",
       "17       business  Rohan Murty, the son of Infosys Co-founder Nar...   \n",
       "18       business  Reliance Jio on Wednesday unveiled new prepaid...   \n",
       "19       business  Over 92,000 employees of BSNL and MTNL have op...   \n",
       "20       business  State Bank of India will cut its stake in mutu...   \n",
       "21       business  Hyundai Motor is planning to invest about $51....   \n",
       "22       business  The government is planning to revise its rule ...   \n",
       "23       business  Saudi Aramco's institutional tranche for its I...   \n",
       "24       business  Shares of Kerala-based CSB Bank listed at 41% ...   \n",
       "25         sports  Team India captain Virat Kohli has reclaimed t...   \n",
       "26         sports  On December 4, 2009, Virender Sehwag was dismi...   \n",
       "27         sports  Pakistan Railways dismissed Dera Ismail Khan f...   \n",
       "28         sports  Former Indian cricketer Ajit Agarkar scored on...   \n",
       "29         sports  Legend Don Bradman smashed 185 runs to help Au...   \n",
       "..            ...                                                ...   \n",
       "70     technology  Customers will soon be able to withdraw cash t...   \n",
       "71     technology  Instagram users will now be able to see 'Like'...   \n",
       "72     technology  Microsoft's computer vision app for the blind ...   \n",
       "73     technology  Online community platform LocalCircles has urg...   \n",
       "74     technology  India has ranked 73rd out of 152 countries lis...   \n",
       "75  entertainment  Expressing her anger over the gangrape and mur...   \n",
       "76  entertainment  In an interaction with former pornstar Brittni...   \n",
       "77  entertainment  A video of an all-girls choir from Bengaluru s...   \n",
       "78  entertainment  Himesh Reshammiya has replaced Anu Malik as In...   \n",
       "79  entertainment  'Game of Thrones' actor Jason Momoa criticised...   \n",
       "80  entertainment  Speaking about the growing age gap between Bol...   \n",
       "81  entertainment  The Churchgate Government Railway Police has a...   \n",
       "82  entertainment  Actor Randeep Hooda dislocated his patella whi...   \n",
       "83  entertainment  'Deadpool' actor Ryan Reynolds has said India ...   \n",
       "84  entertainment  Akshay Kumar has said he works with debutant d...   \n",
       "85  entertainment  When asked about 53-year-old Salman Khan roman...   \n",
       "86  entertainment  American singer Jason Derulo has revealed that...   \n",
       "87  entertainment  Actress Bhumi Pednekar in an interview to Zoom...   \n",
       "88  entertainment  Actor Riteish Deshmukh has been accused of ava...   \n",
       "89  entertainment  Daniel Shravan, a filmmaker, has been criticis...   \n",
       "90  entertainment  Speaking about their 23-year age gap, Leonardo...   \n",
       "91  entertainment  Talking about his choices of doing social dram...   \n",
       "92  entertainment  Actor Asha Parekh revealed in an interview tha...   \n",
       "93  entertainment  South Korean actor Cha In-Ha, aged 27, was fou...   \n",
       "94  entertainment  Actor Pankaj Tripathi has said that no matter ...   \n",
       "95  entertainment  Martin Scorsese's directorial 'The Irishman' h...   \n",
       "96  entertainment  Talking about working with 'Love Aaj Kal 2' di...   \n",
       "97  entertainment  Miss World 2017 Manushi Chhillar has decided t...   \n",
       "98  entertainment  Kriti Sanon has said that her character in her...   \n",
       "99  entertainment  Deepika Padukone has said that she continues t...   \n",
       "\n",
       "                                                title  \n",
       "0   Online investment platform Groww crosses 40 la...  \n",
       "1   No better person than Pichai to lead Google & ...  \n",
       "2   This won't affect Alphabet structure: Pichai o...  \n",
       "3   P Chidambaram walks out of Tihar Jail after 10...  \n",
       "4   What peak is there now to climb: Harsha Bhogle...  \n",
       "5   Every founder dreams of teammate like you: Pay...  \n",
       "6   What is the life journey of Sundar Pichai, CEO...  \n",
       "7   India's most robust export product: Mahindra c...  \n",
       "8   'League of Legends' game maker to settle gende...  \n",
       "9   Incredibly proud: Rajan Anandan on Google CEO ...  \n",
       "10  Centre asks states to halt online sales of med...  \n",
       "11  Feel embarrassed to ask, govt must pay: States...  \n",
       "12  Pakistani property tycoon hands over ₹1,770 cr...  \n",
       "13  India to launch 1st debt exchange-traded fund ...  \n",
       "14  Airtel to raise up to ₹21,500 crore after SC r...  \n",
       "15  Our crew are human too: Vistara after user pos...  \n",
       "16  Ujjivan Small Finance Bank IPO becomes 2019's ...  \n",
       "17  Infosys Co-founder Narayana Murthy's son Rohan...  \n",
       "18  Jio to hike tariffs by up to 39% from December...  \n",
       "19  Over 92,000 BSNL, MTNL employees opted for VRS...  \n",
       "20  SBI to cut 8% stake in UTI mutual fund through...  \n",
       "21  Hyundai Motor unveils plan to invest $52 bn ov...  \n",
       "22  Govt may ease foreign control rule to aid Air ...  \n",
       "23  Saudi Aramco IPO institutional tranche nearly ...  \n",
       "24  CSB Bank share lists at 41% premium to issue p...  \n",
       "25  Latest Test rankings out, Virat Kohli reclaims...  \n",
       "26  Sehwag fell short by 7 runs to become 1st play...  \n",
       "27  Team once took 20 wkts for 59 after hitting 91...  \n",
       "28  Agarkar scored only 1 ton in int'l cricket, it...  \n",
       "29  Bradman once hit 185 in 1 innings, India score...  \n",
       "..                                                ...  \n",
       "70  Customers will soon be able to withdraw cash u...  \n",
       "71  New browser extension makes hidden Instagram l...  \n",
       "72  Microsoft app that lets the blind identify pho...  \n",
       "73  IT panel urged to look out for child safety on...  \n",
       "74  India ranks 73rd in UN index assessing e-comme...  \n",
       "75  India no country for women: Anoushka Shankar o...  \n",
       "76  I said no to a Playboy shoot, I can't get nake...  \n",
       "77  Bengaluru schoolgirls sing Imagine Dragons' 'B...  \n",
       "78  Himesh replaces Anu as judge on Indian Idol 11...  \n",
       "79  GoT actor Jason criticises Chris Pratt for usi...  \n",
       "80  If I was 50, I would feel odd romancing a 22-y...  \n",
       "81  Man stalks, assaults TV actress and ex-Splitsv...  \n",
       "82  Randeep Hooda dislocates knee during stunt, ca...  \n",
       "83  India is one of the best cinema industries in ...  \n",
       "84  I work with new directors because big director...  \n",
       "85  Ask him only: Sonakshi when asked about Salman...  \n",
       "86  I've underwear on: Jason Derulo after Instagra...  \n",
       "87  I stalk Priyanka Chopra on social media, I thi...  \n",
       "88  Riteish accused of availing loan waiver meant ...  \n",
       "89  Filmmaker says 'women should carry condoms, co...  \n",
       "90  People should date who they want to: DiCaprio'...  \n",
       "91  Don't take films so seriously: Akshay on socia...  \n",
       "92  I loved a married director but didn't want to ...  \n",
       "93  27-yr-old S Korean actor Cha In-Ha found dead ...  \n",
       "94  Will never do child abuse scene, no matter wha...  \n",
       "95  De Niro defends Anna Paquin's 7 words of dialo...  \n",
       "96  Imtiaz Ali has changed my acting process, pers...  \n",
       "97  Manushi Chhillar to promote AIDS awareness amo...  \n",
       "98  It's a great comparison: Kriti on comparison w...  \n",
       "99  I've to feel butterflies in my stomach: Deepik...  \n",
       "\n",
       "[100 rows x 3 columns]"
      ]
     },
     "execution_count": 2,
     "metadata": {},
     "output_type": "execute_result"
    }
   ],
   "source": [
    "from acquire import acquire_news_articles\n",
    "acquire_news_articles()"
   ]
  },
  {
   "cell_type": "code",
   "execution_count": 3,
   "metadata": {},
   "outputs": [
    {
     "name": "stdout",
     "output_type": "stream",
     "text": [
      "4.66 ms ± 74.6 µs per loop (mean ± std. dev. of 7 runs, 100 loops each)\n"
     ]
    }
   ],
   "source": [
    "%timeit acquire_news_articles()"
   ]
  },
  {
   "cell_type": "code",
   "execution_count": 4,
   "metadata": {},
   "outputs": [
    {
     "name": "stdout",
     "output_type": "stream",
     "text": [
      "671 ms ± 77.8 ms per loop (mean ± std. dev. of 7 runs, 1 loop each)\n"
     ]
    }
   ],
   "source": [
    "%timeit acquire_news_articles(from_cache=False)"
   ]
  },
  {
   "cell_type": "code",
   "execution_count": null,
   "metadata": {},
   "outputs": [],
   "source": []
  }
 ],
 "metadata": {
  "kernelspec": {
   "display_name": "Python 3",
   "language": "python",
   "name": "python3"
  },
  "language_info": {
   "codemirror_mode": {
    "name": "ipython",
    "version": 3
   },
   "file_extension": ".py",
   "mimetype": "text/x-python",
   "name": "python",
   "nbconvert_exporter": "python",
   "pygments_lexer": "ipython3",
   "version": "3.7.0"
  }
 },
 "nbformat": 4,
 "nbformat_minor": 2
}
