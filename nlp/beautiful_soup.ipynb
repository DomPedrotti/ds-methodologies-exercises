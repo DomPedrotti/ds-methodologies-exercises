{
 "cells": [
  {
   "cell_type": "code",
   "execution_count": 1,
   "metadata": {},
   "outputs": [],
   "source": [
    "import pandas as pd\n",
    "import warnings\n",
    "warnings.filterwarnings('ignore')\n",
    "from requests import get\n",
    "from bs4 import BeautifulSoup\n",
    "import bs4\n",
    "import re"
   ]
  },
  {
   "cell_type": "markdown",
   "metadata": {},
   "source": [
    "## Beautiful Soup\n",
    "\n",
    "By the end of this exercise, you should have a file named `acquire.py` that contains the specified functions. If you wish, you may break your work into separate files for each website (e.g. `acquire_codeup_blog.py` and `acquire_news_articles.py`), but the end function should be present in `acquire.py` (that is, `acquire.py` should import `get_blog_articles` from the `acquire_codeup_blog` module.)"
   ]
  },
  {
   "cell_type": "markdown",
   "metadata": {},
   "source": [
    "1) Codeup Blog Articles\n",
    "\n",
    "Scrape the article text from the following pages: "
   ]
  },
  {
   "cell_type": "markdown",
   "metadata": {},
   "source": [
    "url: https://codeup.com/codeups-data-science-career-accelerator-is-here/"
   ]
  },
  {
   "cell_type": "code",
   "execution_count": 2,
   "metadata": {},
   "outputs": [],
   "source": [
    "url = 'https://codeup.com/codeups-data-science-career-accelerator-is-here/'\n",
    "headers = {'User-Agent': 'Codeup Data Science Student'}\n",
    "response = get(url,headers=headers)"
   ]
  },
  {
   "cell_type": "code",
   "execution_count": 3,
   "metadata": {},
   "outputs": [
    {
     "data": {
      "text/plain": [
       "'Codeup’s Data Science Career Accelerator is Here!'"
      ]
     },
     "execution_count": 3,
     "metadata": {},
     "output_type": "execute_result"
    }
   ],
   "source": [
    "soup = BeautifulSoup(response.text)\n",
    "titles = soup.select_one('h1').get_text()\n",
    "titles"
   ]
  },
  {
   "cell_type": "code",
   "execution_count": 4,
   "metadata": {},
   "outputs": [],
   "source": [
    "contents = soup.select_one('div.mk-single-content.clearfix').get_text()\n",
    "data = [{'title': titles, 'content': contents}]"
   ]
  },
  {
   "cell_type": "markdown",
   "metadata": {},
   "source": [
    "url: https://codeup.com/data-science-myths/"
   ]
  },
  {
   "cell_type": "code",
   "execution_count": 5,
   "metadata": {},
   "outputs": [],
   "source": [
    "url = 'https://codeup.com/data-science-myths/'\n",
    "response = get(url,headers = headers)"
   ]
  },
  {
   "cell_type": "code",
   "execution_count": 6,
   "metadata": {},
   "outputs": [
    {
     "data": {
      "text/plain": [
       "'Codeup’s Data Science Career Accelerator is Here!'"
      ]
     },
     "execution_count": 6,
     "metadata": {},
     "output_type": "execute_result"
    }
   ],
   "source": [
    "soup = BeautifulSoup(response.text)\n",
    "title = soup.select_one('.page-title').get_text()\n",
    "content = soup.select_one('div.mk-single-content.clearfix').get_text()\n",
    "data.append({'title': title, 'content': content})\n",
    "data[0]['title']"
   ]
  },
  {
   "cell_type": "markdown",
   "metadata": {},
   "source": [
    "url: https://codeup.com/data-science-vs-data-analytics-whats-the-difference/\n"
   ]
  },
  {
   "cell_type": "code",
   "execution_count": 7,
   "metadata": {},
   "outputs": [],
   "source": [
    "url = 'https://codeup.com/data-science-vs-data-analytics-whats-the-difference/'\n",
    "response = get(url,headers = headers)"
   ]
  },
  {
   "cell_type": "code",
   "execution_count": 8,
   "metadata": {},
   "outputs": [],
   "source": [
    "soup = BeautifulSoup(response.text)\n",
    "title = soup.select_one('.page-title').get_text()\n",
    "content = soup.select_one('div.mk-single-content.clearfix').get_text()\n",
    "data.append({'title': title, 'content': content})"
   ]
  },
  {
   "cell_type": "markdown",
   "metadata": {},
   "source": [
    "url: https://codeup.com/10-tips-to-crush-it-at-the-sa-tech-job-fair/\n"
   ]
  },
  {
   "cell_type": "code",
   "execution_count": 9,
   "metadata": {},
   "outputs": [],
   "source": [
    "url = 'https://codeup.com/10-tips-to-crush-it-at-the-sa-tech-job-fair/'\n",
    "response = get(url,headers = headers)"
   ]
  },
  {
   "cell_type": "code",
   "execution_count": 10,
   "metadata": {},
   "outputs": [],
   "source": [
    "soup = BeautifulSoup(response.text)\n",
    "title = soup.select_one('h1').get_text()\n",
    "content = soup.select_one('div.mk-single-content.clearfix').get_text()\n",
    "data.append({'title': title, 'content': content})"
   ]
  },
  {
   "cell_type": "markdown",
   "metadata": {},
   "source": [
    "url: https://codeup.com/competitor-bootcamps-are-closing-is-the-model-in-danger/\n"
   ]
  },
  {
   "cell_type": "code",
   "execution_count": 11,
   "metadata": {},
   "outputs": [],
   "source": [
    "url = 'https://codeup.com/competitor-bootcamps-are-closing-is-the-model-in-danger/'\n",
    "response = get(url,headers = headers)"
   ]
  },
  {
   "cell_type": "code",
   "execution_count": 12,
   "metadata": {},
   "outputs": [],
   "source": [
    "soup = BeautifulSoup(response.text)\n",
    "title = soup.select_one('h1').get_text()\n",
    "content = soup.select_one('div.mk-single-content.clearfix').get_text()\n",
    "data.append({'title': title, 'content': content})"
   ]
  },
  {
   "cell_type": "code",
   "execution_count": 13,
   "metadata": {},
   "outputs": [
    {
     "data": {
      "text/plain": [
       "5"
      ]
     },
     "execution_count": 13,
     "metadata": {},
     "output_type": "execute_result"
    }
   ],
   "source": [
    "len(data)"
   ]
  },
  {
   "cell_type": "markdown",
   "metadata": {},
   "source": [
    "2) News Articles\n",
    "We will now be scraping text data from *inshorts*, a website that provides a brief overview of many different topics.\n",
    "https://inshorts.com/\n",
    "\n",
    "Write a function that scrapes the news articles for the following topics:"
   ]
  },
  {
   "cell_type": "code",
   "execution_count": 14,
   "metadata": {},
   "outputs": [
    {
     "data": {
      "text/html": [
       "<div>\n",
       "<style scoped>\n",
       "    .dataframe tbody tr th:only-of-type {\n",
       "        vertical-align: middle;\n",
       "    }\n",
       "\n",
       "    .dataframe tbody tr th {\n",
       "        vertical-align: top;\n",
       "    }\n",
       "\n",
       "    .dataframe thead th {\n",
       "        text-align: right;\n",
       "    }\n",
       "</style>\n",
       "<table border=\"1\" class=\"dataframe\">\n",
       "  <thead>\n",
       "    <tr style=\"text-align: right;\">\n",
       "      <th></th>\n",
       "      <th>title</th>\n",
       "      <th>content</th>\n",
       "      <th>category</th>\n",
       "    </tr>\n",
       "  </thead>\n",
       "  <tbody>\n",
       "  </tbody>\n",
       "</table>\n",
       "</div>"
      ],
      "text/plain": [
       "Empty DataFrame\n",
       "Columns: [title, content, category]\n",
       "Index: []"
      ]
     },
     "execution_count": 14,
     "metadata": {},
     "output_type": "execute_result"
    }
   ],
   "source": [
    "news = pd.DataFrame(columns=['title','content','category'])\n",
    "news"
   ]
  },
  {
   "cell_type": "markdown",
   "metadata": {},
   "source": [
    "- Business"
   ]
  },
  {
   "cell_type": "code",
   "execution_count": 15,
   "metadata": {},
   "outputs": [],
   "source": [
    "url = 'https://inshorts.com/en/read/business'\n",
    "response = get(url,headers)\n",
    "soup = BeautifulSoup(response.text)"
   ]
  },
  {
   "cell_type": "code",
   "execution_count": 16,
   "metadata": {},
   "outputs": [
    {
     "data": {
      "text/plain": [
       "'RBI keeps repo rate unchanged at 5.15% after five cuts this year'"
      ]
     },
     "execution_count": 16,
     "metadata": {},
     "output_type": "execute_result"
    }
   ],
   "source": [
    "headlines = soup.find_all('span', itemprop = 'headline')\n",
    "headlines = [x.get_text() for x in headlines]\n",
    "headlines[0]"
   ]
  },
  {
   "cell_type": "code",
   "execution_count": 17,
   "metadata": {},
   "outputs": [
    {
     "data": {
      "text/plain": [
       "'The RBI on Thursday kept the repo rate unchanged after five cuts this year. In 2019, the RBI has cut repo rate by 135 basis points so far but banks have passed on only a fraction of rate cuts to consumers. The status quo comes despite data showing growth slumping to a six-and-a-half-year low of 4.5% in the July-September quarter.'"
      ]
     },
     "execution_count": 17,
     "metadata": {},
     "output_type": "execute_result"
    }
   ],
   "source": [
    "content = soup.find_all('div', itemprop = 'articleBody')\n",
    "content = [x.get_text() for x in content]\n",
    "content[0]"
   ]
  },
  {
   "cell_type": "code",
   "execution_count": 18,
   "metadata": {},
   "outputs": [
    {
     "data": {
      "text/html": [
       "<div>\n",
       "<style scoped>\n",
       "    .dataframe tbody tr th:only-of-type {\n",
       "        vertical-align: middle;\n",
       "    }\n",
       "\n",
       "    .dataframe tbody tr th {\n",
       "        vertical-align: top;\n",
       "    }\n",
       "\n",
       "    .dataframe thead th {\n",
       "        text-align: right;\n",
       "    }\n",
       "</style>\n",
       "<table border=\"1\" class=\"dataframe\">\n",
       "  <thead>\n",
       "    <tr style=\"text-align: right;\">\n",
       "      <th></th>\n",
       "      <th>title</th>\n",
       "      <th>content</th>\n",
       "      <th>category</th>\n",
       "    </tr>\n",
       "  </thead>\n",
       "  <tbody>\n",
       "    <tr>\n",
       "      <th>0</th>\n",
       "      <td>RBI keeps repo rate unchanged at 5.15% after f...</td>\n",
       "      <td>The RBI on Thursday kept the repo rate unchang...</td>\n",
       "      <td>business</td>\n",
       "    </tr>\n",
       "    <tr>\n",
       "      <th>1</th>\n",
       "      <td>P Chidambaram walks out of Tihar Jail after 10...</td>\n",
       "      <td>Congress leader P Chidambaram walked out of Ti...</td>\n",
       "      <td>business</td>\n",
       "    </tr>\n",
       "    <tr>\n",
       "      <th>2</th>\n",
       "      <td>8, 7, 6.6, 5.8, 5 &amp; 4.5 is the state of econom...</td>\n",
       "      <td>Former Finance Minister P Chidambaram on Thurs...</td>\n",
       "      <td>business</td>\n",
       "    </tr>\n",
       "    <tr>\n",
       "      <th>3</th>\n",
       "      <td>Google Co-founders gain $2.3B after Sundar Pic...</td>\n",
       "      <td>Google Co-founders Sergey Brin and Larry Page ...</td>\n",
       "      <td>business</td>\n",
       "    </tr>\n",
       "    <tr>\n",
       "      <th>4</th>\n",
       "      <td>Musk says in court his net worth is around $20...</td>\n",
       "      <td>Tesla and SpaceX founder and CEO Elon Musk, in...</td>\n",
       "      <td>business</td>\n",
       "    </tr>\n",
       "  </tbody>\n",
       "</table>\n",
       "</div>"
      ],
      "text/plain": [
       "                                               title  \\\n",
       "0  RBI keeps repo rate unchanged at 5.15% after f...   \n",
       "1  P Chidambaram walks out of Tihar Jail after 10...   \n",
       "2  8, 7, 6.6, 5.8, 5 & 4.5 is the state of econom...   \n",
       "3  Google Co-founders gain $2.3B after Sundar Pic...   \n",
       "4  Musk says in court his net worth is around $20...   \n",
       "\n",
       "                                             content  category  \n",
       "0  The RBI on Thursday kept the repo rate unchang...  business  \n",
       "1  Congress leader P Chidambaram walked out of Ti...  business  \n",
       "2  Former Finance Minister P Chidambaram on Thurs...  business  \n",
       "3  Google Co-founders Sergey Brin and Larry Page ...  business  \n",
       "4  Tesla and SpaceX founder and CEO Elon Musk, in...  business  "
      ]
     },
     "execution_count": 18,
     "metadata": {},
     "output_type": "execute_result"
    }
   ],
   "source": [
    "business = pd.DataFrame(headlines, columns=['title'])\n",
    "business['content'] = content\n",
    "business['category'] = 'business'\n",
    "news = news.append(business, ignore_index=True)\n",
    "news.head()"
   ]
  },
  {
   "cell_type": "markdown",
   "metadata": {},
   "source": [
    "- Sports"
   ]
  },
  {
   "cell_type": "code",
   "execution_count": 19,
   "metadata": {},
   "outputs": [],
   "source": [
    "url = 'https://inshorts.com/en/read/sports'\n",
    "response = get(url,headers)\n",
    "soup = BeautifulSoup(response.text)"
   ]
  },
  {
   "cell_type": "code",
   "execution_count": 20,
   "metadata": {},
   "outputs": [],
   "source": [
    "headlines = soup.find_all('span', itemprop = 'headline')\n",
    "headlines = [x.get_text() for x in headlines]\n",
    "\n",
    "content = soup.find_all('div', itemprop = 'articleBody')\n",
    "content = [x.get_text() for x in content]\n",
    "\n",
    "sports = pd.DataFrame(headlines, columns=['title'])\n",
    "sports['content'] = content\n",
    "sports['category'] = 'sports'\n",
    "news = news.append(sports, ignore_index=True)"
   ]
  },
  {
   "cell_type": "markdown",
   "metadata": {},
   "source": [
    "- Technology"
   ]
  },
  {
   "cell_type": "code",
   "execution_count": 21,
   "metadata": {},
   "outputs": [],
   "source": [
    "url = 'https://inshorts.com/en/read/technology'\n",
    "response = get(url,headers)\n",
    "soup = BeautifulSoup(response.text)"
   ]
  },
  {
   "cell_type": "code",
   "execution_count": 22,
   "metadata": {},
   "outputs": [],
   "source": [
    "headlines = soup.find_all('span', itemprop = 'headline')\n",
    "headlines = [x.get_text() for x in headlines]\n",
    "\n",
    "content = soup.find_all('div', itemprop = 'articleBody')\n",
    "content = [x.get_text() for x in content]\n",
    "\n",
    "technology = pd.DataFrame(headlines, columns=['title'])\n",
    "technology['content'] = content\n",
    "technology['category'] = 'technology'\n",
    "news = news.append(technology, ignore_index=True)"
   ]
  },
  {
   "cell_type": "markdown",
   "metadata": {},
   "source": [
    "- Entertainment"
   ]
  },
  {
   "cell_type": "code",
   "execution_count": 23,
   "metadata": {},
   "outputs": [],
   "source": [
    "url = 'https://inshorts.com/en/read/entertainment'\n",
    "response = get(url,headers)\n",
    "soup = BeautifulSoup(response.text)"
   ]
  },
  {
   "cell_type": "code",
   "execution_count": 24,
   "metadata": {},
   "outputs": [],
   "source": [
    "headlines = soup.find_all('span', itemprop = 'headline')\n",
    "headlines = [x.get_text() for x in headlines]\n",
    "\n",
    "content = soup.find_all('div', itemprop = 'articleBody')\n",
    "content = [x.get_text() for x in content]\n",
    "\n",
    "entertainment = pd.DataFrame(headlines, columns=['title'])\n",
    "entertainment['content'] = content\n",
    "entertainment['category'] = 'entertainment'\n",
    "news = news.append(entertainment, ignore_index=True)"
   ]
  },
  {
   "cell_type": "code",
   "execution_count": 25,
   "metadata": {},
   "outputs": [
    {
     "data": {
      "text/plain": [
       "(100, 3)"
      ]
     },
     "execution_count": 25,
     "metadata": {},
     "output_type": "execute_result"
    }
   ],
   "source": [
    "news.shape"
   ]
  },
  {
   "cell_type": "code",
   "execution_count": 26,
   "metadata": {},
   "outputs": [
    {
     "data": {
      "text/html": [
       "<div>\n",
       "<style scoped>\n",
       "    .dataframe tbody tr th:only-of-type {\n",
       "        vertical-align: middle;\n",
       "    }\n",
       "\n",
       "    .dataframe tbody tr th {\n",
       "        vertical-align: top;\n",
       "    }\n",
       "\n",
       "    .dataframe thead th {\n",
       "        text-align: right;\n",
       "    }\n",
       "</style>\n",
       "<table border=\"1\" class=\"dataframe\">\n",
       "  <thead>\n",
       "    <tr style=\"text-align: right;\">\n",
       "      <th></th>\n",
       "      <th>category</th>\n",
       "      <th>content</th>\n",
       "      <th>title</th>\n",
       "    </tr>\n",
       "  </thead>\n",
       "  <tbody>\n",
       "    <tr>\n",
       "      <th>0</th>\n",
       "      <td>business</td>\n",
       "      <td>The RBI on Thursday kept the repo rate unchang...</td>\n",
       "      <td>RBI keeps repo rate unchanged at 5.15% after f...</td>\n",
       "    </tr>\n",
       "    <tr>\n",
       "      <th>1</th>\n",
       "      <td>business</td>\n",
       "      <td>Congress leader P Chidambaram walked out of Ti...</td>\n",
       "      <td>P Chidambaram walks out of Tihar Jail after 10...</td>\n",
       "    </tr>\n",
       "    <tr>\n",
       "      <th>2</th>\n",
       "      <td>business</td>\n",
       "      <td>Former Finance Minister P Chidambaram on Thurs...</td>\n",
       "      <td>8, 7, 6.6, 5.8, 5 &amp; 4.5 is the state of econom...</td>\n",
       "    </tr>\n",
       "    <tr>\n",
       "      <th>3</th>\n",
       "      <td>business</td>\n",
       "      <td>Google Co-founders Sergey Brin and Larry Page ...</td>\n",
       "      <td>Google Co-founders gain $2.3B after Sundar Pic...</td>\n",
       "    </tr>\n",
       "    <tr>\n",
       "      <th>4</th>\n",
       "      <td>business</td>\n",
       "      <td>Tesla and SpaceX founder and CEO Elon Musk, in...</td>\n",
       "      <td>Musk says in court his net worth is around $20...</td>\n",
       "    </tr>\n",
       "    <tr>\n",
       "      <th>5</th>\n",
       "      <td>business</td>\n",
       "      <td>Nirav Modi has been declared a fugitive econom...</td>\n",
       "      <td>Nirav Modi declared fugitive economic offender...</td>\n",
       "    </tr>\n",
       "    <tr>\n",
       "      <th>6</th>\n",
       "      <td>business</td>\n",
       "      <td>The Finance Ministers of several states met Un...</td>\n",
       "      <td>Feel embarrassed to ask, govt must pay: States...</td>\n",
       "    </tr>\n",
       "    <tr>\n",
       "      <th>7</th>\n",
       "      <td>business</td>\n",
       "      <td>In a bid to provide relief to depositors of sc...</td>\n",
       "      <td>Maharashtra govt suggests merger of PMC Bank w...</td>\n",
       "    </tr>\n",
       "    <tr>\n",
       "      <th>8</th>\n",
       "      <td>business</td>\n",
       "      <td>The RBI on Thursday lowered its GDP growth for...</td>\n",
       "      <td>RBI cuts India's GDP growth forecast for the c...</td>\n",
       "    </tr>\n",
       "    <tr>\n",
       "      <th>9</th>\n",
       "      <td>business</td>\n",
       "      <td>The Indonesian government has decided to fire ...</td>\n",
       "      <td>Indonesia fires flag carrier's CEO for smuggli...</td>\n",
       "    </tr>\n",
       "    <tr>\n",
       "      <th>10</th>\n",
       "      <td>business</td>\n",
       "      <td>Airtel has said it would raise up to ₹21,500 c...</td>\n",
       "      <td>Airtel to raise up to ₹21,500 crore after SC r...</td>\n",
       "    </tr>\n",
       "    <tr>\n",
       "      <th>11</th>\n",
       "      <td>business</td>\n",
       "      <td>The Initial Public Offering of Ujjivan Small F...</td>\n",
       "      <td>Ujjivan Small Finance Bank IPO becomes 2019's ...</td>\n",
       "    </tr>\n",
       "    <tr>\n",
       "      <th>12</th>\n",
       "      <td>business</td>\n",
       "      <td>Reliance Jio on Wednesday unveiled new prepaid...</td>\n",
       "      <td>Jio to hike tariffs by up to 39% from December...</td>\n",
       "    </tr>\n",
       "    <tr>\n",
       "      <th>13</th>\n",
       "      <td>business</td>\n",
       "      <td>Vistara Chief Commercial Officer Sanjiv Kapoor...</td>\n",
       "      <td>Our crew are human too: Vistara after user pos...</td>\n",
       "    </tr>\n",
       "    <tr>\n",
       "      <th>14</th>\n",
       "      <td>business</td>\n",
       "      <td>Roh Soh-yeong, the wife of South Korean conglo...</td>\n",
       "      <td>S Korea's SK Group Chairman's wife files for d...</td>\n",
       "    </tr>\n",
       "    <tr>\n",
       "      <th>15</th>\n",
       "      <td>business</td>\n",
       "      <td>The Union Cabinet on Wednesday approved the la...</td>\n",
       "      <td>India to launch 1st debt exchange-traded fund ...</td>\n",
       "    </tr>\n",
       "    <tr>\n",
       "      <th>16</th>\n",
       "      <td>business</td>\n",
       "      <td>Swedish manufacturer Saab has said it wants to...</td>\n",
       "      <td>Want control of manufacturing if we win $15bn ...</td>\n",
       "    </tr>\n",
       "    <tr>\n",
       "      <th>17</th>\n",
       "      <td>business</td>\n",
       "      <td>Ford and McDonald's have partnered for a proje...</td>\n",
       "      <td>Ford to use McDonald's coffee bean waste to ma...</td>\n",
       "    </tr>\n",
       "    <tr>\n",
       "      <th>18</th>\n",
       "      <td>business</td>\n",
       "      <td>Over 92,000 employees of BSNL and MTNL have op...</td>\n",
       "      <td>Over 92,000 BSNL, MTNL employees opted for VRS...</td>\n",
       "    </tr>\n",
       "    <tr>\n",
       "      <th>19</th>\n",
       "      <td>business</td>\n",
       "      <td>State Bank of India will cut its stake in mutu...</td>\n",
       "      <td>SBI to cut 8% stake in UTI mutual fund through...</td>\n",
       "    </tr>\n",
       "    <tr>\n",
       "      <th>20</th>\n",
       "      <td>business</td>\n",
       "      <td>Shares of Kerala-based CSB Bank listed at 41% ...</td>\n",
       "      <td>CSB Bank share lists at 41% premium to issue p...</td>\n",
       "    </tr>\n",
       "    <tr>\n",
       "      <th>21</th>\n",
       "      <td>business</td>\n",
       "      <td>Hyundai Motor is planning to invest about $51....</td>\n",
       "      <td>Hyundai Motor unveils plan to invest $52 bn ov...</td>\n",
       "    </tr>\n",
       "    <tr>\n",
       "      <th>22</th>\n",
       "      <td>business</td>\n",
       "      <td>RBI Governor Shaktikanta Das said central bank...</td>\n",
       "      <td>RBI has good idea of vulnerabilities in NBFC s...</td>\n",
       "    </tr>\n",
       "    <tr>\n",
       "      <th>23</th>\n",
       "      <td>business</td>\n",
       "      <td>The Reserve Bank of India (RBI) has raised its...</td>\n",
       "      <td>RBI raises peer-to-peer lending limit five-tim...</td>\n",
       "    </tr>\n",
       "    <tr>\n",
       "      <th>24</th>\n",
       "      <td>business</td>\n",
       "      <td>IL&amp;FS has reported a loss of ₹22,527 crore for...</td>\n",
       "      <td>IL&amp;FS reports ₹22,527 crore net loss for FY19</td>\n",
       "    </tr>\n",
       "    <tr>\n",
       "      <th>25</th>\n",
       "      <td>sports</td>\n",
       "      <td>During a Mzansi Super League match against Dur...</td>\n",
       "      <td>South African bowler celebrates wicket with ma...</td>\n",
       "    </tr>\n",
       "    <tr>\n",
       "      <th>26</th>\n",
       "      <td>sports</td>\n",
       "      <td>On December 4, 2009, Virender Sehwag was dismi...</td>\n",
       "      <td>Sehwag fell short by 7 runs to become 1st play...</td>\n",
       "    </tr>\n",
       "    <tr>\n",
       "      <th>27</th>\n",
       "      <td>sports</td>\n",
       "      <td>India Women's 15-year-old opener Shafali Verma...</td>\n",
       "      <td>Shafali, who broke Sachin's record, once playe...</td>\n",
       "    </tr>\n",
       "    <tr>\n",
       "      <th>28</th>\n",
       "      <td>sports</td>\n",
       "      <td>Afghanistan leg-spinner Rashid Khan took to Tw...</td>\n",
       "      <td>Invite kyun nahi kiya: Rashid Khan wishes Mani...</td>\n",
       "    </tr>\n",
       "    <tr>\n",
       "      <th>29</th>\n",
       "      <td>sports</td>\n",
       "      <td>Pakistan Railways dismissed Dera Ismail Khan f...</td>\n",
       "      <td>Team once took 20 wkts for 59 after hitting 91...</td>\n",
       "    </tr>\n",
       "    <tr>\n",
       "      <th>...</th>\n",
       "      <td>...</td>\n",
       "      <td>...</td>\n",
       "      <td>...</td>\n",
       "    </tr>\n",
       "    <tr>\n",
       "      <th>70</th>\n",
       "      <td>technology</td>\n",
       "      <td>Amazon Web Services (AWS) CEO Andy Jassy criti...</td>\n",
       "      <td>US unfairly awarded $10 bn cloud contract to M...</td>\n",
       "    </tr>\n",
       "    <tr>\n",
       "      <th>71</th>\n",
       "      <td>technology</td>\n",
       "      <td>India has ranked 73rd out of 152 countries lis...</td>\n",
       "      <td>India ranks 73rd in UN index assessing e-comme...</td>\n",
       "    </tr>\n",
       "    <tr>\n",
       "      <th>72</th>\n",
       "      <td>technology</td>\n",
       "      <td>Online community platform LocalCircles has urg...</td>\n",
       "      <td>IT panel urged to look out for child safety on...</td>\n",
       "    </tr>\n",
       "    <tr>\n",
       "      <th>73</th>\n",
       "      <td>technology</td>\n",
       "      <td>Customers will soon be able to withdraw cash t...</td>\n",
       "      <td>Customers will soon be able to withdraw cash u...</td>\n",
       "    </tr>\n",
       "    <tr>\n",
       "      <th>74</th>\n",
       "      <td>technology</td>\n",
       "      <td>Google has launched a messaging feature in Goo...</td>\n",
       "      <td>Google launches private chat feature in its Go...</td>\n",
       "    </tr>\n",
       "    <tr>\n",
       "      <th>75</th>\n",
       "      <td>entertainment</td>\n",
       "      <td>Actor Hrithik Roshan has shared a report on Tw...</td>\n",
       "      <td>I've friends who're better than me: Hrithik on...</td>\n",
       "    </tr>\n",
       "    <tr>\n",
       "      <th>76</th>\n",
       "      <td>entertainment</td>\n",
       "      <td>Singer Justin Timberlake has apologised to his...</td>\n",
       "      <td>Justin Timberlake apologises to wife over pics...</td>\n",
       "    </tr>\n",
       "    <tr>\n",
       "      <th>77</th>\n",
       "      <td>entertainment</td>\n",
       "      <td>Daniel Shravan, a filmmaker, has been criticis...</td>\n",
       "      <td>Filmmaker says 'women should carry condoms, co...</td>\n",
       "    </tr>\n",
       "    <tr>\n",
       "      <th>78</th>\n",
       "      <td>entertainment</td>\n",
       "      <td>Hrithik Roshan has been voted the sexiest Asia...</td>\n",
       "      <td>Hrithik Roshan voted sexiest Asian male of the...</td>\n",
       "    </tr>\n",
       "    <tr>\n",
       "      <th>79</th>\n",
       "      <td>entertainment</td>\n",
       "      <td>'La La Land' actress Emma Stone got engaged to...</td>\n",
       "      <td>'La La Land' actress Emma Stone gets engaged; ...</td>\n",
       "    </tr>\n",
       "    <tr>\n",
       "      <th>80</th>\n",
       "      <td>entertainment</td>\n",
       "      <td>Speaking about battling mental health issues, ...</td>\n",
       "      <td>Was in Goa, wanted to walk into ocean &amp; never ...</td>\n",
       "    </tr>\n",
       "    <tr>\n",
       "      <th>81</th>\n",
       "      <td>entertainment</td>\n",
       "      <td>Speaking about their 23-year age gap, Leonardo...</td>\n",
       "      <td>People should date who they want to: DiCaprio'...</td>\n",
       "    </tr>\n",
       "    <tr>\n",
       "      <th>82</th>\n",
       "      <td>entertainment</td>\n",
       "      <td>Actor Randeep Hooda dislocated his patella whi...</td>\n",
       "      <td>Randeep Hooda dislocates knee during stunt, ca...</td>\n",
       "    </tr>\n",
       "    <tr>\n",
       "      <th>83</th>\n",
       "      <td>entertainment</td>\n",
       "      <td>When asked about 53-year-old Salman Khan roman...</td>\n",
       "      <td>Ask him only: Sonakshi when asked about Salman...</td>\n",
       "    </tr>\n",
       "    <tr>\n",
       "      <th>84</th>\n",
       "      <td>entertainment</td>\n",
       "      <td>Actress Bhumi Pednekar in an interview to Zoom...</td>\n",
       "      <td>I stalk Priyanka Chopra on social media, I thi...</td>\n",
       "    </tr>\n",
       "    <tr>\n",
       "      <th>85</th>\n",
       "      <td>entertainment</td>\n",
       "      <td>Bigg Boss 13 contestant Arhaan Khan has been a...</td>\n",
       "      <td>Bigg Boss 13's Arhaan Khan accused of cheating...</td>\n",
       "    </tr>\n",
       "    <tr>\n",
       "      <th>86</th>\n",
       "      <td>entertainment</td>\n",
       "      <td>Singer Neha Kakkar took to Instagram Story to ...</td>\n",
       "      <td>Neha Kakkar criticises comedy act for mocking ...</td>\n",
       "    </tr>\n",
       "    <tr>\n",
       "      <th>87</th>\n",
       "      <td>entertainment</td>\n",
       "      <td>Malayalam adult film actress Shakeela has clai...</td>\n",
       "      <td>Adult film star claims Censor Board members de...</td>\n",
       "    </tr>\n",
       "    <tr>\n",
       "      <th>88</th>\n",
       "      <td>entertainment</td>\n",
       "      <td>Speaking about the growing age gap between Bol...</td>\n",
       "      <td>If I was 50, I would feel odd romancing a 22-y...</td>\n",
       "    </tr>\n",
       "    <tr>\n",
       "      <th>89</th>\n",
       "      <td>entertainment</td>\n",
       "      <td>The Churchgate Government Railway Police has a...</td>\n",
       "      <td>Man stalks, assaults TV actress and ex-Splitsv...</td>\n",
       "    </tr>\n",
       "    <tr>\n",
       "      <th>90</th>\n",
       "      <td>entertainment</td>\n",
       "      <td>American singer Jason Derulo has revealed that...</td>\n",
       "      <td>I've underwear on: Jason Derulo after Instagra...</td>\n",
       "    </tr>\n",
       "    <tr>\n",
       "      <th>91</th>\n",
       "      <td>entertainment</td>\n",
       "      <td>Actress Priyanka Chopra, who is UNICEF's Goodw...</td>\n",
       "      <td>Priyanka Chopra receives UNICEF's Danny Kaye H...</td>\n",
       "    </tr>\n",
       "    <tr>\n",
       "      <th>92</th>\n",
       "      <td>entertainment</td>\n",
       "      <td>Rishi Kapoor got criticised on Twitter for cal...</td>\n",
       "      <td>Rishi gets criticised for calling The Irishman...</td>\n",
       "    </tr>\n",
       "    <tr>\n",
       "      <th>93</th>\n",
       "      <td>entertainment</td>\n",
       "      <td>Singer and actress Shibani Dandekar recalled a...</td>\n",
       "      <td>I can't imagine living my life with no fear fo...</td>\n",
       "    </tr>\n",
       "    <tr>\n",
       "      <th>94</th>\n",
       "      <td>entertainment</td>\n",
       "      <td>Deepika Padukone, in an interview with The New...</td>\n",
       "      <td>All I wanted to do was sleep: Deepika on fight...</td>\n",
       "    </tr>\n",
       "    <tr>\n",
       "      <th>95</th>\n",
       "      <td>entertainment</td>\n",
       "      <td>Talking about working with 'Love Aaj Kal 2' di...</td>\n",
       "      <td>Imtiaz Ali has changed my acting process, pers...</td>\n",
       "    </tr>\n",
       "    <tr>\n",
       "      <th>96</th>\n",
       "      <td>entertainment</td>\n",
       "      <td>Deepika Padukone has said that she continues t...</td>\n",
       "      <td>I've to feel butterflies in my stomach: Deepik...</td>\n",
       "    </tr>\n",
       "    <tr>\n",
       "      <th>97</th>\n",
       "      <td>entertainment</td>\n",
       "      <td>Actor Asha Parekh revealed in an interview tha...</td>\n",
       "      <td>I loved a married director but didn't want to ...</td>\n",
       "    </tr>\n",
       "    <tr>\n",
       "      <th>98</th>\n",
       "      <td>entertainment</td>\n",
       "      <td>American media personality Kim Kardashian reve...</td>\n",
       "      <td>I've gotten rid of plastic bottles: Kim after ...</td>\n",
       "    </tr>\n",
       "    <tr>\n",
       "      <th>99</th>\n",
       "      <td>entertainment</td>\n",
       "      <td>Director Shoojit Sircar on Wednesday took to T...</td>\n",
       "      <td>Check your filmy ethics before lecturing: Shoo...</td>\n",
       "    </tr>\n",
       "  </tbody>\n",
       "</table>\n",
       "<p>100 rows × 3 columns</p>\n",
       "</div>"
      ],
      "text/plain": [
       "         category                                            content  \\\n",
       "0        business  The RBI on Thursday kept the repo rate unchang...   \n",
       "1        business  Congress leader P Chidambaram walked out of Ti...   \n",
       "2        business  Former Finance Minister P Chidambaram on Thurs...   \n",
       "3        business  Google Co-founders Sergey Brin and Larry Page ...   \n",
       "4        business  Tesla and SpaceX founder and CEO Elon Musk, in...   \n",
       "5        business  Nirav Modi has been declared a fugitive econom...   \n",
       "6        business  The Finance Ministers of several states met Un...   \n",
       "7        business  In a bid to provide relief to depositors of sc...   \n",
       "8        business  The RBI on Thursday lowered its GDP growth for...   \n",
       "9        business  The Indonesian government has decided to fire ...   \n",
       "10       business  Airtel has said it would raise up to ₹21,500 c...   \n",
       "11       business  The Initial Public Offering of Ujjivan Small F...   \n",
       "12       business  Reliance Jio on Wednesday unveiled new prepaid...   \n",
       "13       business  Vistara Chief Commercial Officer Sanjiv Kapoor...   \n",
       "14       business  Roh Soh-yeong, the wife of South Korean conglo...   \n",
       "15       business  The Union Cabinet on Wednesday approved the la...   \n",
       "16       business  Swedish manufacturer Saab has said it wants to...   \n",
       "17       business  Ford and McDonald's have partnered for a proje...   \n",
       "18       business  Over 92,000 employees of BSNL and MTNL have op...   \n",
       "19       business  State Bank of India will cut its stake in mutu...   \n",
       "20       business  Shares of Kerala-based CSB Bank listed at 41% ...   \n",
       "21       business  Hyundai Motor is planning to invest about $51....   \n",
       "22       business  RBI Governor Shaktikanta Das said central bank...   \n",
       "23       business  The Reserve Bank of India (RBI) has raised its...   \n",
       "24       business  IL&FS has reported a loss of ₹22,527 crore for...   \n",
       "25         sports  During a Mzansi Super League match against Dur...   \n",
       "26         sports  On December 4, 2009, Virender Sehwag was dismi...   \n",
       "27         sports  India Women's 15-year-old opener Shafali Verma...   \n",
       "28         sports  Afghanistan leg-spinner Rashid Khan took to Tw...   \n",
       "29         sports  Pakistan Railways dismissed Dera Ismail Khan f...   \n",
       "..            ...                                                ...   \n",
       "70     technology  Amazon Web Services (AWS) CEO Andy Jassy criti...   \n",
       "71     technology  India has ranked 73rd out of 152 countries lis...   \n",
       "72     technology  Online community platform LocalCircles has urg...   \n",
       "73     technology  Customers will soon be able to withdraw cash t...   \n",
       "74     technology  Google has launched a messaging feature in Goo...   \n",
       "75  entertainment  Actor Hrithik Roshan has shared a report on Tw...   \n",
       "76  entertainment  Singer Justin Timberlake has apologised to his...   \n",
       "77  entertainment  Daniel Shravan, a filmmaker, has been criticis...   \n",
       "78  entertainment  Hrithik Roshan has been voted the sexiest Asia...   \n",
       "79  entertainment  'La La Land' actress Emma Stone got engaged to...   \n",
       "80  entertainment  Speaking about battling mental health issues, ...   \n",
       "81  entertainment  Speaking about their 23-year age gap, Leonardo...   \n",
       "82  entertainment  Actor Randeep Hooda dislocated his patella whi...   \n",
       "83  entertainment  When asked about 53-year-old Salman Khan roman...   \n",
       "84  entertainment  Actress Bhumi Pednekar in an interview to Zoom...   \n",
       "85  entertainment  Bigg Boss 13 contestant Arhaan Khan has been a...   \n",
       "86  entertainment  Singer Neha Kakkar took to Instagram Story to ...   \n",
       "87  entertainment  Malayalam adult film actress Shakeela has clai...   \n",
       "88  entertainment  Speaking about the growing age gap between Bol...   \n",
       "89  entertainment  The Churchgate Government Railway Police has a...   \n",
       "90  entertainment  American singer Jason Derulo has revealed that...   \n",
       "91  entertainment  Actress Priyanka Chopra, who is UNICEF's Goodw...   \n",
       "92  entertainment  Rishi Kapoor got criticised on Twitter for cal...   \n",
       "93  entertainment  Singer and actress Shibani Dandekar recalled a...   \n",
       "94  entertainment  Deepika Padukone, in an interview with The New...   \n",
       "95  entertainment  Talking about working with 'Love Aaj Kal 2' di...   \n",
       "96  entertainment  Deepika Padukone has said that she continues t...   \n",
       "97  entertainment  Actor Asha Parekh revealed in an interview tha...   \n",
       "98  entertainment  American media personality Kim Kardashian reve...   \n",
       "99  entertainment  Director Shoojit Sircar on Wednesday took to T...   \n",
       "\n",
       "                                                title  \n",
       "0   RBI keeps repo rate unchanged at 5.15% after f...  \n",
       "1   P Chidambaram walks out of Tihar Jail after 10...  \n",
       "2   8, 7, 6.6, 5.8, 5 & 4.5 is the state of econom...  \n",
       "3   Google Co-founders gain $2.3B after Sundar Pic...  \n",
       "4   Musk says in court his net worth is around $20...  \n",
       "5   Nirav Modi declared fugitive economic offender...  \n",
       "6   Feel embarrassed to ask, govt must pay: States...  \n",
       "7   Maharashtra govt suggests merger of PMC Bank w...  \n",
       "8   RBI cuts India's GDP growth forecast for the c...  \n",
       "9   Indonesia fires flag carrier's CEO for smuggli...  \n",
       "10  Airtel to raise up to ₹21,500 crore after SC r...  \n",
       "11  Ujjivan Small Finance Bank IPO becomes 2019's ...  \n",
       "12  Jio to hike tariffs by up to 39% from December...  \n",
       "13  Our crew are human too: Vistara after user pos...  \n",
       "14  S Korea's SK Group Chairman's wife files for d...  \n",
       "15  India to launch 1st debt exchange-traded fund ...  \n",
       "16  Want control of manufacturing if we win $15bn ...  \n",
       "17  Ford to use McDonald's coffee bean waste to ma...  \n",
       "18  Over 92,000 BSNL, MTNL employees opted for VRS...  \n",
       "19  SBI to cut 8% stake in UTI mutual fund through...  \n",
       "20  CSB Bank share lists at 41% premium to issue p...  \n",
       "21  Hyundai Motor unveils plan to invest $52 bn ov...  \n",
       "22  RBI has good idea of vulnerabilities in NBFC s...  \n",
       "23  RBI raises peer-to-peer lending limit five-tim...  \n",
       "24      IL&FS reports ₹22,527 crore net loss for FY19  \n",
       "25  South African bowler celebrates wicket with ma...  \n",
       "26  Sehwag fell short by 7 runs to become 1st play...  \n",
       "27  Shafali, who broke Sachin's record, once playe...  \n",
       "28  Invite kyun nahi kiya: Rashid Khan wishes Mani...  \n",
       "29  Team once took 20 wkts for 59 after hitting 91...  \n",
       "..                                                ...  \n",
       "70  US unfairly awarded $10 bn cloud contract to M...  \n",
       "71  India ranks 73rd in UN index assessing e-comme...  \n",
       "72  IT panel urged to look out for child safety on...  \n",
       "73  Customers will soon be able to withdraw cash u...  \n",
       "74  Google launches private chat feature in its Go...  \n",
       "75  I've friends who're better than me: Hrithik on...  \n",
       "76  Justin Timberlake apologises to wife over pics...  \n",
       "77  Filmmaker says 'women should carry condoms, co...  \n",
       "78  Hrithik Roshan voted sexiest Asian male of the...  \n",
       "79  'La La Land' actress Emma Stone gets engaged; ...  \n",
       "80  Was in Goa, wanted to walk into ocean & never ...  \n",
       "81  People should date who they want to: DiCaprio'...  \n",
       "82  Randeep Hooda dislocates knee during stunt, ca...  \n",
       "83  Ask him only: Sonakshi when asked about Salman...  \n",
       "84  I stalk Priyanka Chopra on social media, I thi...  \n",
       "85  Bigg Boss 13's Arhaan Khan accused of cheating...  \n",
       "86  Neha Kakkar criticises comedy act for mocking ...  \n",
       "87  Adult film star claims Censor Board members de...  \n",
       "88  If I was 50, I would feel odd romancing a 22-y...  \n",
       "89  Man stalks, assaults TV actress and ex-Splitsv...  \n",
       "90  I've underwear on: Jason Derulo after Instagra...  \n",
       "91  Priyanka Chopra receives UNICEF's Danny Kaye H...  \n",
       "92  Rishi gets criticised for calling The Irishman...  \n",
       "93  I can't imagine living my life with no fear fo...  \n",
       "94  All I wanted to do was sleep: Deepika on fight...  \n",
       "95  Imtiaz Ali has changed my acting process, pers...  \n",
       "96  I've to feel butterflies in my stomach: Deepik...  \n",
       "97  I loved a married director but didn't want to ...  \n",
       "98  I've gotten rid of plastic bottles: Kim after ...  \n",
       "99  Check your filmy ethics before lecturing: Shoo...  \n",
       "\n",
       "[100 rows x 3 columns]"
      ]
     },
     "execution_count": 26,
     "metadata": {},
     "output_type": "execute_result"
    }
   ],
   "source": [
    "from acquire import acquire_news_articles\n",
    "acquire_news_articles()"
   ]
  },
  {
   "cell_type": "code",
   "execution_count": 27,
   "metadata": {},
   "outputs": [
    {
     "name": "stdout",
     "output_type": "stream",
     "text": [
      "4.98 ms ± 79.8 µs per loop (mean ± std. dev. of 7 runs, 100 loops each)\n"
     ]
    }
   ],
   "source": [
    "%timeit acquire_news_articles()"
   ]
  },
  {
   "cell_type": "code",
   "execution_count": 28,
   "metadata": {},
   "outputs": [
    {
     "name": "stdout",
     "output_type": "stream",
     "text": [
      "842 ms ± 62.5 ms per loop (mean ± std. dev. of 7 runs, 1 loop each)\n"
     ]
    }
   ],
   "source": [
    "%timeit acquire_news_articles(from_cache=False)"
   ]
  },
  {
   "cell_type": "code",
   "execution_count": null,
   "metadata": {},
   "outputs": [],
   "source": []
  },
  {
   "cell_type": "code",
   "execution_count": 29,
   "metadata": {},
   "outputs": [],
   "source": [
    "from acquire import get_blog_articles"
   ]
  },
  {
   "cell_type": "code",
   "execution_count": 30,
   "metadata": {},
   "outputs": [
    {
     "data": {
      "text/plain": [
       "[{'title': 'Codeup’s Data Science Career Accelerator is Here! - Codeup',\n",
       "  'content': '\\nThe rumors are true! The time has arrived. Codeup has officially opened applications to our new Data Science career accelerator, with only 25 seats available! This immersive program is one of a kind in San Antonio, and will help you land a job in\\xa0Glassdoor’s #1 Best Job in America.\\nData Science is a method of providing actionable intelligence from data.\\xa0The data revolution has hit San Antonio,\\xa0resulting in an explosion in Data Scientist positions\\xa0across companies like USAA, Accenture, Booz Allen Hamilton, and HEB. We’ve even seen\\xa0UTSA invest $70 M for a Cybersecurity Center and School of Data Science.\\xa0We built a program to specifically meet the growing demands of this industry.\\nOur program will be 18 weeks long, full-time, hands-on, and project-based. Our curriculum development and instruction is led by Senior Data Scientist, Maggie Giust, who has worked at HEB, Capital Group, and Rackspace, along with input from dozens of practitioners and hiring partners. Students will work with real data sets, realistic problems, and the entire data science pipeline from collection to deployment. They will receive professional development training in resume writing, interviewing, and continuing education to prepare for a smooth transition to the workforce.\\nWe focus on applied data science for immediate impact and ROI in a business, which is how we can back it all up with a 6 month tuition refund guarantee – just like our existing Web Dev program. We’re focusing on Data Science with Python, SQL, and ML, covered in\\xa014 modules: 1) Fundamentals; 2) Applied statistics; 3) SQL; 4) Python; 5) Supervised machine learning – regression; 6) Supervised machine learning – classification; 7) Unsupervised machine learning – clustering; 8) Time series analysis; 9) Anomaly detection; 10) Natural language processing; 11) Distributed machine learning; 12) Advanced topics (deep learning, NoSQL, cloud deployment, etc.); 13) Storytelling with data; and 14) Domain expertise development.\\nApplications are now open\\xa0for Codeup’s first Data Science cohort, which will start class on February 4, 2019. Hurry – there are only 25 seats available! To further our mission of cultivating inclusive growth, scholarships will be available to women, minorities, LGBTQIA+ individuals, veterans, first responders, and people relocating to San Antonio.\\nIf you want to learn about joining our program or hiring our graduates, email datascience@codeup.com!\\n'},\n",
       " {'title': 'Data Science Myths - Codeup',\n",
       "  'content': '\\nBy Dimitri Antoniou and Maggie Giust\\nData Science, Big Data, Machine Learning, NLP, Neural Networks…these buzzwords have rapidly spread into mainstream use over the last few years. Unfortunately, definitions are varied and sources of truth are limited. Data Scientists are in fact not magical unicorn wizards who can snap their fingers and turn a business around! Today, we’ll take a cue from our favorite Mythbusters to tackle some common myths and misconceptions in the field of Data Science.\\n\\nvia GIPHY\\nMyth #1: Data Science = Statistics\\nAt first glance, this one doesn’t sound unreasonable. Statistics is defined as, “A branch of mathematics dealing with the collection, analysis, interpretation, and presentation of masses of numerical data.” That sounds a lot like our definition of Data Science: a method of drawing actionable intelligence from data. \\nIn truth, statistics is actually one small piece of Data Science. As our Senior Data Scientist puts it, “Statistics forces us to make assumptions about the nature of the relationship between variables, the distribution of the data, etc.” In the traditional Data Science venn diagram, you’ll see that math/stats make up ⅓ of a working professional. These are tools and skills to leverage, but data science itself is about drawing intelligence from data.\\nBUSTED\\n\\nvia GIPHY\\n\\xa0\\nMyth #2: Data Scientist = Business/Data Analyst\\nThis one is so common that we wrote a whole post about it! These are separate and different roles within the data field. While a data scientist will often do analytics, their spectrum of work is wider. A data analyst will use structured data to create dashboards and KPIs, while a Data Scientist deals with unstructured and messy data for a range of outputs. If they’re interested, business analysts will often progress to data scientists.\\nBUSTED\\n\\nvia GIPHY\\n\\xa0\\nMyth #3: Data Science = Data Science\\nThis one’s tricky, because it’s impossible to either confirm or bust! The ‘myth’ is that one person or company using the term Data Science is not necessarily the same as another person or company using the same term. Depending on organizational capacity, individual experience, educational background, and many other variables, we might be using the same name for different animals.\\nTl;dr: don’t assume a common understanding across hiring managers, recruiters, and practitioners. Look instead for specifics of tools, techniques, methodologies, and outputs. That being said, this one falls in the “plausible” category, because it may actually be true in some circumstances, while false in others.\\nPLAUSIBLE\\n\\nvia GIPHY\\n\\xa0\\nMyth #4: Data Science curricula are well-defined and consistent.\\nWe recommend checking this one out for yourself! A quick google search for bootcamps, master’s degree programs, and online courses will reveal that different organizations teach different things. There is no commonly accepted framework for teaching data science! Some focus more on the engineering, others focus more on machine learning, some think deep learning is foundational, and some prefer to use R. \\nOur curriculum was built through employer interviews, practitioner interviews, market research, and company partnerships. But we’re based in San Antonio! A bootcamp in New York might follow the same process and end up with a different syllabus. Keep in mind, whatever your learning path, that there will be gaps in your learning. The most important thing is to recognize those gaps.\\nBUSTED\\n\\nvia GIPHY\\n\\xa0\\nMyth #5: If I want to be a data scientist, I just need to learn Python or R.\\nThis one is common and dangerous! Just like statistics, programming languages like Python and R are tools. They’re just pieces of a larger puzzle! Knowing Python without understanding the data science pipeline is like knowing how to build a floor without having a floor plan. Of course, these are valuable technical skills that give you a leg up, but they’re second in importance to asking the right questions, knowing what tools to use when, and communicating your findings.\\nBUSTED\\n\\nvia GIPHY\\nStill have questions? Reach out to us at (210) 802-7289 or DataScience@codeup.com! Want to learn more about Data Science? Check out our recent blog posts at tribucodeup.wpengine.com/blog. And of course, if data science gets you excited, get started with us today at tribucodeup.wpengine.com/apply!\\n\\n\\n\\n \\n\\n\\n\\n\\n\\n \\n\\n \\n\\n\\n \\n\\nSan Antonio: 600 Navarro St. #600, San Antonio, Texas \\n\\n \\n\\n \\n\\n \\n\\n|   info@codeup.com \\n\\n   |   210 - 802 - 7289   \\n\\n \\n\\nDallas: 701 Commerce St #100A, Dallas, TX 75202 \\n\\n\\n \\nvar htmlDiv = document.getElementById(\"rs-plugin-settings-inline-css\"); var htmlDivCss=\"\";\\r\\n\\t\\t\\t\\tif(htmlDiv) {\\r\\n\\t\\t\\t\\t\\thtmlDiv.innerHTML = htmlDiv.innerHTML + htmlDivCss;\\r\\n\\t\\t\\t\\t}else{\\r\\n\\t\\t\\t\\t\\tvar htmlDiv = document.createElement(\"div\");\\r\\n\\t\\t\\t\\t\\thtmlDiv.innerHTML = \"<style>\" + htmlDivCss + \"</style>\";\\r\\n\\t\\t\\t\\t\\tdocument.getElementsByTagName(\"head\")[0].appendChild(htmlDiv.childNodes[0]);\\r\\n\\t\\t\\t\\t}\\r\\n\\t\\t\\t\\n\\r\\nif (setREVStartSize!==undefined) setREVStartSize(\\r\\n\\t{c: \\'#rev_slider_1_1\\', responsiveLevels: [1240,1024,778,480], gridwidth: [1240,1024,778,480], gridheight: [283,283,239,239], sliderLayout: \\'fullwidth\\'});\\r\\n\\t\\t\\t\\r\\nvar revapi1,\\r\\n\\ttpj;\\t\\r\\n(function() {\\t\\t\\t\\r\\n\\tif (!/loaded|interactive|complete/.test(document.readyState)) document.addEventListener(\"DOMContentLoaded\",onLoad); else onLoad();\\t\\r\\n\\tfunction onLoad() {\\t\\t\\t\\t\\r\\n\\t\\tif (tpj===undefined) { tpj = jQuery; if(\"off\" == \"on\") tpj.noConflict();}\\r\\n\\tif(tpj(\"#rev_slider_1_1\").revolution == undefined){\\n\\t\\trevslider_showDoubleJqueryError(\"#rev_slider_1_1\");\\n\\t}else{\\n\\t\\trevapi1 = tpj(\"#rev_slider_1_1\").show().revolution({\\n\\t\\t\\tsliderType:\"hero\",\\n\\t\\t\\tjsFileLocation:\"//codeup.com/wp-content/plugins/revslider/public/assets/js/\",\\n\\t\\t\\tsliderLayout:\"fullwidth\",\\n\\t\\t\\tdottedOverlay:\"none\",\\n\\t\\t\\tdelay:9000,\\n\\t\\t\\tresponsiveLevels:[1240,1024,778,480],\\n\\t\\t\\tvisibilityLevels:[1240,1024,778,480],\\n\\t\\t\\tgridwidth:[1240,1024,778,480],\\n\\t\\t\\tgridheight:[283,283,239,239],\\n\\t\\t\\tlazyType:\"none\",\\n\\t\\t\\tshadow:0,\\n\\t\\t\\tspinner:\"spinner0\",\\n\\t\\t\\tautoHeight:\"off\",\\n\\t\\t\\tdisableProgressBar:\"on\",\\n\\t\\t\\thideThumbsOnMobile:\"off\",\\n\\t\\t\\thideSliderAtLimit:0,\\n\\t\\t\\thideCaptionAtLimit:0,\\n\\t\\t\\thideAllCaptionAtLilmit:0,\\n\\t\\t\\tdebugMode:false,\\n\\t\\t\\tfallbacks: {\\n\\t\\t\\t\\tsimplifyAll:\"off\",\\n\\t\\t\\t\\tdisableFocusListener:false,\\n\\t\\t\\t}\\n\\t\\t});\\n\\t}; /* END OF revapi call */\\n\\t\\n }; /* END OF ON LOAD FUNCTION */\\r\\n}()); /* END OF WRAPPING FUNCTION */\\r\\n\\n\\n'},\n",
       " {'title': 'Data Science VS Data Analytics: What’s The Difference? - Codeup',\n",
       "  'content': '\\nBy Dimitri Antoniou\\nA week ago, Codeup launched our immersive Data Science career accelerator! With our first class kicking off in February and only 25 seats available, we’ve been answering a lot of questions from prospective students. One in particular has come up so many times we decided to dedicate a blog post to it. What is the difference between data science and data analytics?\\nFirst, let’s define some of our terms! Take a look at this blog to understand what Data Science is. In short, it is a method of turning raw data into action, leading to a desired outcome. Big Data refers to data sets that are large and complex, usually exceeding the capacity of computers and normal processing power to deal with. Machine Learning is the process of ‘learning’ underlying patterns of data in order to automate the extraction of intelligence from that data.\\n\\nNow, let’s look at the data pipeline that data scientists work through to reach the actionable insights and outcomes we mentioned:\\n\\nWe start by collecting data, which may come from social media channels, network logs, financials, employee records, or more.\\nWe then process that data into usable information stored in databases or streamed.\\nNext, we look back on the history of that data to summarize, describe, and explain, turning the data into meaningful knowledge. Here we’re primarily using mathematics, statistics, and visualization methods.\\nNow we convert that knowledge into intelligence, seeking to predict future events so that we can make decisions in the present. This is where practitioners will introduce mathematical/statistical modeling through machine learning to their data.\\nFinally, we enable action by building automations, running tests, building visualizations, monitoring new data, etc.\\n\\nData professionals work at different stages of the spectrum to move data through the pipeline. On the left, Big Data Engineers specialize in collecting, storing, and processing data, getting it from Data to Information. In the middle, analysts work to understand and convert that information to knowledge. Lastly, a Machine Learning Engineer utilizes machine learning algorithms to turn intelligence into action by building automations, visualizations, recommendations, and predictions.\\nData Scientists span multiple stages of this pipeline, from information to action. They will spend about 70% of their time wrangling data in the information stage. They will conduct statistical analysis to derive knowledge. Lastly, they predict future events and build automations using machine learning.\\nFor those technical folk out there, data science is to data engineering or machine learning engineering as full-stack development is to front-end or back-end development. For the non-technical folk, data science is the umbrella term that houses data analytics, machine learning, and other data professions.\\nSo what’s the biggest difference between a data analyst and a data scientist? Data scientists utilize computer programming and machine learning in addition to mathematics and statistics. \\nStill have questions? Reach out to us at (210) 802-7289 or DataScience@codeup.com! Wondering which of Codeup’s programs is right for you? We’ve got you covered. And of course, if data science gets you excited, get started with us today at tribucodeup.wpengine.com/apply!\\n'},\n",
       " {'title': '10 Tips to Crush It at the SA Tech Job Fair - Codeup',\n",
       "  'content': '\\n10 Tips to Crush It at the SA Tech Job Fair\\nSA Tech Job Fair\\nThe third bi-annual San Antonio Tech Job Fair is just around the corner. Over 25 companies will be at The Jack Guenther Pavilion\\xa0on April 10th, and they are hungry for new tech team members!\\nAt the job fair, companies want to quickly source a list of new talent leads. AKA they need to find qualified employees they can begin interviewing for jobs. Recruiters will represent their organization at tables with informational handouts and company swag. Your goal at a job fair is to set yourself apart from other candidates and ensure your name makes it to the top of those lead lists.\\nThink of your interaction with the company as a mini screening interview. The company rep will subtly evaluate basic qualities like your professionalism, communication and interpersonal skills, work experience, and interest level in the organization. Job fairs are also an opportunity for you to gain information about companies that may not be easily accessible online. \\xa0\\nAt Codeup, we’re passionate about bridging the gap between talent and demand, so we’ve outlined 10 tips to ensure you bring your A-game and leave a lasting impression!\\n10 Tips for Totally Crushing it at the SA Tech Job Fair\\n\\nUse keywords to describe your skills, but don’t go overboard. You’ll probably be talking to a recruiter or talent acquisition specialist. As a technical candidate, recognize these individuals usually aren’t developers or network administrators. They know terms like “JavaScript” and “Apache,” but haven’t written a line of code or spun up a server, so don’t get too caught up in industry jargon.\\nResearch the companies ahead of time. Review the list of attending companies and make sure you know what the company does and whether or not they hire people in your desired role. Look up recent news on the company and mention it during your conversation.\\nDefine your own goals for the job fair. Are you searching for a specific type of role or company culture? What matters most in your job search? Are there companies you want to prioritize? \\xa0Develop a game plan and be intentional with your time.\\nPrepare a stellar résumé. Bring about 20 copies of your résumé to the event, printed on nice paper. We won’t cover resume writing in this post, but there are a plethora of online resources you can consult. For job fairs, don’t worry about cover letters.\\nPolish your online profiles. If recruiters have a copy of your resume, you can be sure they will stalk you online soon. Make sure your online presence is professional and appropriate. A good place to start is by Googling yourself. Update your LinkedIn, and clean up any social media profiles.\\nCraft a 30-60 second elevator pitch. You may only have a few minutes with an employer. What will you say if they ask, “Tell me about yourself?” Consider structuring your pitch like this: Who you are + What you do + What your goals are + Why that matters to the company.\\nDon’t show up in a t-shirt, but trade in your suit for something more chill. Always keep it professional, but remember: tech is typically more casual than other industries. You’ll likely feel out of place if you look like you belong on Wall St., so refer to this guide on dressing for tech interviews.\\nDon’t forget the basics. Start and end each conversation with a firm handshake. Make eye contact while conversing. Smile! Thank the recruiter before you move on to the next table.\\nAsk educated questions. Don’t waste valuable face time with recruiters by asking questions like, “What does [Insert Company here] do?” They hate that question! Instead, try some of these:\\n\\nWhat are the top 3-5 examples of knowledge, skills, and abilities you look for in candidates?\\nWhat’s the best advice you have for someone who wants to work here?\\nWhat is your interview process like?\\nAre you hiring for any roles not currently listed on your websites?\\n\\n\\nFollow up. Collect business cards from each table. The next day, send a short note expressing your interest in the company’s opportunities and thanking the recruiter for his or her time.\\n\\nRSVP for the SA Tech Job Fair taking place at the Jack Guenther Pavilion – September 18th starting at 4 pm.\\xa0\\n'},\n",
       " {'title': 'Competitor Bootcamps Are Closing. Is the Model in Danger? - Codeup',\n",
       "  'content': '\\nCompetitor Bootcamps Are Closing. Is the Model in Danger?\\n\\xa0\\n\\nIs the programming bootcamp model in danger?\\nIn recent news, DevBootcamp and The Iron Yard announced that they are closing their doors. This is big news. DevBootcamp was the first programming bootcamp model and The Iron Yard is a national player with 15 campuses across the U.S. In both cases, the companies cited an unsustainable business model. Does that mean the boot-camp model is dead?\\n\\ntl;dr “Nope!”\\nBootcamps exist because traditional education models have failed to provide students job-ready skills for the 21st century. Students demand better employment options from their education. Employers demand skilled and job ready candidates. Big Education’s failure to meet those needs through traditional methods created the fertile ground for the new business model of the programming bootcamp.\\nEducation giant Kaplan and Apollo Education Group (owner of University of Phoenix) bought their way into this new educational model when they purchased The Iron Yard and DevBootcamp. They purchased their competition with the intent to scale up the model. Unfortunately, Big Education is too habituated to coming up short for students. They bought the upstarts that challenged them, tried making changes to run those bootcamps in the “Big Education” way, and, sadly, they’ve closed the doors when they realized that scaling education is more challenging when student outcomes truly matter.\\nThe bootcamp model is still new and there will be plenty consolidation, competition, and changes in the future. This model is based on actually being adaptive, innovative, and sustainable. And there’s always room for innovation.\\n\\n\\nWhat we’ve learned at Codeup…\\n\\n\\nEducation is challenging to scale.\\nPrioritizing quality over growth pays off.\\n\\nWhat we’re doing at Codeup…\\n\\nHigher standards in our application process are leading to better student outcomes.\\nOur reputation and commitment to quality is opening new doors to previously uninterested/unreachable employers.\\nIn the beginning, the majority of Codeup graduates went to work with startups and small businesses. We’re now seeing a larger amount of our graduates place at medium to large sized businesses.\\nDemand is growing and employers are learning that the results are in the graduates.\\nCodeup’s model is sustainable, inclusive, and works.\\n\\nCall or contact us today to see how Codeup’s commitment to quality and approach to being a career accelerator can make a profound difference in your life.\\n'}]"
      ]
     },
     "execution_count": 30,
     "metadata": {},
     "output_type": "execute_result"
    }
   ],
   "source": [
    "get_blog_articles()"
   ]
  },
  {
   "cell_type": "code",
   "execution_count": null,
   "metadata": {},
   "outputs": [],
   "source": []
  }
 ],
 "metadata": {
  "kernelspec": {
   "display_name": "Python 3",
   "language": "python",
   "name": "python3"
  },
  "language_info": {
   "codemirror_mode": {
    "name": "ipython",
    "version": 3
   },
   "file_extension": ".py",
   "mimetype": "text/x-python",
   "name": "python",
   "nbconvert_exporter": "python",
   "pygments_lexer": "ipython3",
   "version": "3.7.0"
  }
 },
 "nbformat": 4,
 "nbformat_minor": 2
}
