{
 "cells": [
  {
   "cell_type": "code",
   "execution_count": 11,
   "metadata": {},
   "outputs": [],
   "source": [
    "import warnings\n",
    "warnings.filterwarnings(\"ignore\")\n",
    "\n",
    "# Wrangling\n",
    "import pandas as pd\n",
    "import numpy as np\n",
    "from sklearn.model_selection import train_test_split\n",
    "from sklearn.preprocessing import MinMaxScaler\n",
    "from sklearn.preprocessing import StandardScaler\n",
    "\n",
    "# Exploring\n",
    "import scipy.stats as stats\n",
    "\n",
    "# Visualizing\n",
    "import matplotlib.pyplot as plt\n",
    "from matplotlib import cm\n",
    "import seaborn as sns\n",
    "from sklearn.model_selection import learning_curve\n",
    "import sklearn.linear_model as reg\n",
    "import split_scale\n",
    "%matplotlib inline\n",
    "\n",
    "pd.options.display.float_format = '{:20,.2f}'.format\n",
    "\n",
    "import acquire\n",
    "import summarize\n",
    "import prepare\n"
   ]
  },
  {
   "cell_type": "code",
   "execution_count": 3,
   "metadata": {},
   "outputs": [],
   "source": [
    "#regression warmup\n",
    "import pydataset as data"
   ]
  },
  {
   "cell_type": "code",
   "execution_count": 65,
   "metadata": {},
   "outputs": [
    {
     "name": "stdout",
     "output_type": "stream",
     "text": [
      "faithful\n",
      "\n",
      "PyDataset Documentation (adopted from R Documentation. The displayed examples are in R)\n",
      "\n",
      "## Old Faithful Geyser Data\n",
      "\n",
      "### Description\n",
      "\n",
      "Waiting time between eruptions and the duration of the eruption for the Old\n",
      "Faithful geyser in Yellowstone National Park, Wyoming, USA.\n",
      "\n",
      "### Usage\n",
      "\n",
      "    faithful\n",
      "\n",
      "### Format\n",
      "\n",
      "A data frame with 272 observations on 2 variables.\n",
      "\n",
      "[,1]\n",
      "\n",
      "eruptions\n",
      "\n",
      "numeric\n",
      "\n",
      "Eruption time in mins\n",
      "\n",
      "[,2]\n",
      "\n",
      "waiting\n",
      "\n",
      "numeric\n",
      "\n",
      "Waiting time to next eruption (in mins)\n",
      "\n",
      "### Details\n",
      "\n",
      "A closer look at `faithful$eruptions` reveals that these are heavily rounded\n",
      "times originally in seconds, where multiples of 5 are more frequent than\n",
      "expected under non-human measurement. For a better version of the eruption\n",
      "times, see the example below.\n",
      "\n",
      "There are many versions of this dataset around: Azzalini and Bowman (1990) use\n",
      "a more complete version.\n",
      "\n",
      "### Source\n",
      "\n",
      "W. Härdle.\n",
      "\n",
      "### References\n",
      "\n",
      "Härdle, W. (1991) _Smoothing Techniques with Implementation in S_. New York:\n",
      "Springer.\n",
      "\n",
      "Azzalini, A. and Bowman, A. W. (1990). A look at some data on the Old Faithful\n",
      "geyser. _Applied Statistics_ **39**, 357–365.\n",
      "\n",
      "### See Also\n",
      "\n",
      "`geyser` in package MASS for the Azzalini–Bowman version.\n",
      "\n",
      "### Examples\n",
      "\n",
      "    require(stats); require(graphics)\n",
      "    f.tit <-  \"faithful data: Eruptions of Old Faithful\"\n",
      "    ne60 <- round(e60 <- 60 * faithful$eruptions)\n",
      "    all.equal(e60, ne60)             # relative diff. ~ 1/10000\n",
      "    table(zapsmall(abs(e60 - ne60))) # 0, 0.02 or 0.04\n",
      "    faithful$better.eruptions <- ne60 / 60\n",
      "    te <- table(ne60)\n",
      "    te[te >= 4]                      # (too) many multiples of 5 !\n",
      "    plot(names(te), te, type = \"h\", main = f.tit, xlab = \"Eruption time (sec)\")\n",
      "    plot(faithful[, -3], main = f.tit,\n",
      "         xlab = \"Eruption time (min)\",\n",
      "         ylab = \"Waiting time to next eruption (min)\")\n",
      "    lines(lowess(faithful$eruptions, faithful$waiting, f = 2/3, iter = 3),\n",
      "          col = \"red\")\n",
      "\n",
      "\n"
     ]
    },
    {
     "data": {
      "text/html": [
       "<div>\n",
       "<style scoped>\n",
       "    .dataframe tbody tr th:only-of-type {\n",
       "        vertical-align: middle;\n",
       "    }\n",
       "\n",
       "    .dataframe tbody tr th {\n",
       "        vertical-align: top;\n",
       "    }\n",
       "\n",
       "    .dataframe thead th {\n",
       "        text-align: right;\n",
       "    }\n",
       "</style>\n",
       "<table border=\"1\" class=\"dataframe\">\n",
       "  <thead>\n",
       "    <tr style=\"text-align: right;\">\n",
       "      <th></th>\n",
       "      <th>eruptions</th>\n",
       "      <th>waiting</th>\n",
       "    </tr>\n",
       "  </thead>\n",
       "  <tbody>\n",
       "    <tr>\n",
       "      <th>1</th>\n",
       "      <td>3.60</td>\n",
       "      <td>79</td>\n",
       "    </tr>\n",
       "    <tr>\n",
       "      <th>2</th>\n",
       "      <td>1.80</td>\n",
       "      <td>54</td>\n",
       "    </tr>\n",
       "    <tr>\n",
       "      <th>3</th>\n",
       "      <td>3.33</td>\n",
       "      <td>74</td>\n",
       "    </tr>\n",
       "    <tr>\n",
       "      <th>4</th>\n",
       "      <td>2.28</td>\n",
       "      <td>62</td>\n",
       "    </tr>\n",
       "    <tr>\n",
       "      <th>5</th>\n",
       "      <td>4.53</td>\n",
       "      <td>85</td>\n",
       "    </tr>\n",
       "  </tbody>\n",
       "</table>\n",
       "</div>"
      ],
      "text/plain": [
       "             eruptions  waiting\n",
       "1                 3.60       79\n",
       "2                 1.80       54\n",
       "3                 3.33       74\n",
       "4                 2.28       62\n",
       "5                 4.53       85"
      ]
     },
     "execution_count": 65,
     "metadata": {},
     "output_type": "execute_result"
    }
   ],
   "source": [
    "data.data('faithful', show_doc=True)\n",
    "df = data.data('faithful')\n",
    "df.head()"
   ]
  },
  {
   "cell_type": "code",
   "execution_count": 67,
   "metadata": {},
   "outputs": [
    {
     "data": {
      "text/html": [
       "<div>\n",
       "<style scoped>\n",
       "    .dataframe tbody tr th:only-of-type {\n",
       "        vertical-align: middle;\n",
       "    }\n",
       "\n",
       "    .dataframe tbody tr th {\n",
       "        vertical-align: top;\n",
       "    }\n",
       "\n",
       "    .dataframe thead th {\n",
       "        text-align: right;\n",
       "    }\n",
       "</style>\n",
       "<table border=\"1\" class=\"dataframe\">\n",
       "  <thead>\n",
       "    <tr style=\"text-align: right;\">\n",
       "      <th></th>\n",
       "      <th>eruptions</th>\n",
       "      <th>waiting</th>\n",
       "    </tr>\n",
       "  </thead>\n",
       "  <tbody>\n",
       "    <tr>\n",
       "      <th>eruptions</th>\n",
       "      <td>1.00</td>\n",
       "      <td>0.90</td>\n",
       "    </tr>\n",
       "    <tr>\n",
       "      <th>waiting</th>\n",
       "      <td>0.90</td>\n",
       "      <td>1.00</td>\n",
       "    </tr>\n",
       "  </tbody>\n",
       "</table>\n",
       "</div>"
      ],
      "text/plain": [
       "                     eruptions              waiting\n",
       "eruptions                 1.00                 0.90\n",
       "waiting                   0.90                 1.00"
      ]
     },
     "execution_count": 67,
     "metadata": {},
     "output_type": "execute_result"
    }
   ],
   "source": [
    "stats.pearsonr(df.eruptions,df.waiting)\n",
    "df.corr()"
   ]
  },
  {
   "cell_type": "code",
   "execution_count": 70,
   "metadata": {},
   "outputs": [
    {
     "data": {
      "text/plain": [
       "<matplotlib.axes._subplots.AxesSubplot at 0x1a289a1908>"
      ]
     },
     "execution_count": 70,
     "metadata": {},
     "output_type": "execute_result"
    },
    {
     "data": {
      "image/png": "[encoded data removed]",
      "text/plain": [
       "<Figure size 432x288 with 1 Axes>"
      ]
     },
     "metadata": {
      "needs_background": "light"
     },
     "output_type": "display_data"
    }
   ],
   "source": [
    "sns.scatterplot(y = 'eruptions', x = 'waiting',data = df, alpha = .8)"
   ]
  },
  {
   "cell_type": "code",
   "execution_count": 10,
   "metadata": {},
   "outputs": [],
   "source": [
    "model = reg.LinearRegression()"
   ]
  },
  {
   "cell_type": "code",
   "execution_count": 77,
   "metadata": {},
   "outputs": [
    {
     "data": {
      "text/plain": [
       "LinearRegression(copy_X=True, fit_intercept=True, n_jobs=None, normalize=False)"
      ]
     },
     "execution_count": 77,
     "metadata": {},
     "output_type": "execute_result"
    }
   ],
   "source": [
    "train, test = split_scale.split_my_data(df)\n",
    "# X must be a dataframe, y is a series\n",
    "model.fit(train[['waiting']], train.eruptions)"
   ]
  },
  {
   "cell_type": "code",
   "execution_count": 78,
   "metadata": {},
   "outputs": [],
   "source": [
    "df['predicted'] = model.predict(df[['waiting']])"
   ]
  },
  {
   "cell_type": "code",
   "execution_count": 79,
   "metadata": {},
   "outputs": [
    {
     "data": {
      "text/html": [
       "<div>\n",
       "<style scoped>\n",
       "    .dataframe tbody tr th:only-of-type {\n",
       "        vertical-align: middle;\n",
       "    }\n",
       "\n",
       "    .dataframe tbody tr th {\n",
       "        vertical-align: top;\n",
       "    }\n",
       "\n",
       "    .dataframe thead th {\n",
       "        text-align: right;\n",
       "    }\n",
       "</style>\n",
       "<table border=\"1\" class=\"dataframe\">\n",
       "  <thead>\n",
       "    <tr style=\"text-align: right;\">\n",
       "      <th></th>\n",
       "      <th>eruptions</th>\n",
       "      <th>waiting</th>\n",
       "      <th>predicted</th>\n",
       "    </tr>\n",
       "  </thead>\n",
       "  <tbody>\n",
       "    <tr>\n",
       "      <th>1</th>\n",
       "      <td>3.60</td>\n",
       "      <td>79</td>\n",
       "      <td>4.08</td>\n",
       "    </tr>\n",
       "    <tr>\n",
       "      <th>2</th>\n",
       "      <td>1.80</td>\n",
       "      <td>54</td>\n",
       "      <td>2.19</td>\n",
       "    </tr>\n",
       "    <tr>\n",
       "      <th>3</th>\n",
       "      <td>3.33</td>\n",
       "      <td>74</td>\n",
       "      <td>3.70</td>\n",
       "    </tr>\n",
       "    <tr>\n",
       "      <th>4</th>\n",
       "      <td>2.28</td>\n",
       "      <td>62</td>\n",
       "      <td>2.79</td>\n",
       "    </tr>\n",
       "    <tr>\n",
       "      <th>5</th>\n",
       "      <td>4.53</td>\n",
       "      <td>85</td>\n",
       "      <td>4.53</td>\n",
       "    </tr>\n",
       "  </tbody>\n",
       "</table>\n",
       "</div>"
      ],
      "text/plain": [
       "             eruptions  waiting            predicted\n",
       "1                 3.60       79                 4.08\n",
       "2                 1.80       54                 2.19\n",
       "3                 3.33       74                 3.70\n",
       "4                 2.28       62                 2.79\n",
       "5                 4.53       85                 4.53"
      ]
     },
     "execution_count": 79,
     "metadata": {},
     "output_type": "execute_result"
    }
   ],
   "source": [
    "df.head()"
   ]
  },
  {
   "cell_type": "code",
   "execution_count": 82,
   "metadata": {},
   "outputs": [
    {
     "data": {
      "text/html": [
       "<div>\n",
       "<style scoped>\n",
       "    .dataframe tbody tr th:only-of-type {\n",
       "        vertical-align: middle;\n",
       "    }\n",
       "\n",
       "    .dataframe tbody tr th {\n",
       "        vertical-align: top;\n",
       "    }\n",
       "\n",
       "    .dataframe thead th {\n",
       "        text-align: right;\n",
       "    }\n",
       "</style>\n",
       "<table border=\"1\" class=\"dataframe\">\n",
       "  <thead>\n",
       "    <tr style=\"text-align: right;\">\n",
       "      <th></th>\n",
       "      <th>waiting</th>\n",
       "      <th>variable</th>\n",
       "      <th>value</th>\n",
       "    </tr>\n",
       "  </thead>\n",
       "  <tbody>\n",
       "    <tr>\n",
       "      <th>0</th>\n",
       "      <td>79</td>\n",
       "      <td>eruptions</td>\n",
       "      <td>3.60</td>\n",
       "    </tr>\n",
       "    <tr>\n",
       "      <th>1</th>\n",
       "      <td>54</td>\n",
       "      <td>eruptions</td>\n",
       "      <td>1.80</td>\n",
       "    </tr>\n",
       "    <tr>\n",
       "      <th>2</th>\n",
       "      <td>74</td>\n",
       "      <td>eruptions</td>\n",
       "      <td>3.33</td>\n",
       "    </tr>\n",
       "    <tr>\n",
       "      <th>3</th>\n",
       "      <td>62</td>\n",
       "      <td>eruptions</td>\n",
       "      <td>2.28</td>\n",
       "    </tr>\n",
       "    <tr>\n",
       "      <th>4</th>\n",
       "      <td>85</td>\n",
       "      <td>eruptions</td>\n",
       "      <td>4.53</td>\n",
       "    </tr>\n",
       "  </tbody>\n",
       "</table>\n",
       "</div>"
      ],
      "text/plain": [
       "   waiting   variable                value\n",
       "0       79  eruptions                 3.60\n",
       "1       54  eruptions                 1.80\n",
       "2       74  eruptions                 3.33\n",
       "3       62  eruptions                 2.28\n",
       "4       85  eruptions                 4.53"
      ]
     },
     "execution_count": 82,
     "metadata": {},
     "output_type": "execute_result"
    }
   ],
   "source": [
    "melted_df = pd.melt(df, id_vars = 'waiting', value_vars=['eruptions', 'predicted'], )\n",
    "melted_df.head()"
   ]
  },
  {
   "cell_type": "code",
   "execution_count": 98,
   "metadata": {},
   "outputs": [
    {
     "data": {
      "image/png": "[encoded data removed]",
      "text/plain": [
       "<Figure size 1008x576 with 1 Axes>"
      ]
     },
     "metadata": {
      "needs_background": "light"
     },
     "output_type": "display_data"
    }
   ],
   "source": [
    "plt.figure(figsize=(14,8))\n",
    "sns.scatterplot('waiting', 'value',data= melted_df, hue = 'variable')\n",
    "plt.title('Actual vs Predicted Eruptions')\n",
    "plt.yticks(ticks= [1,2,3,4,5])\n",
    "plt.ylabel('eruptions')\n",
    "mse = ((df.eruptions - df.predicted)**2).sum()/df.shape[0]\n",
    "rmse = round(mse**(1/2), 2)\n",
    "plt.annotate(s = f'rmse: {rmse}', xy= (42,4.7))\n",
    "plt.show()"
   ]
  },
  {
   "cell_type": "code",
   "execution_count": null,
   "metadata": {},
   "outputs": [],
   "source": []
  }
 ],
 "metadata": {
  "kernelspec": {
   "display_name": "Python 3",
   "language": "python",
   "name": "python3"
  },
  "language_info": {
   "codemirror_mode": {
    "name": "ipython",
    "version": 3
   },
   "file_extension": ".py",
   "mimetype": "text/x-python",
   "name": "python",
   "nbconvert_exporter": "python",
   "pygments_lexer": "ipython3",
   "version": "3.7.0"
  }
 },
 "nbformat": 4,
 "nbformat_minor": 2
}
